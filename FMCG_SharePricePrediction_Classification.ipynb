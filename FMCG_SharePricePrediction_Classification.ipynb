{
  "nbformat": 4,
  "nbformat_minor": 0,
  "metadata": {
    "colab": {
      "name": "FMCG_SharePricePrediction_Classification.ipynb",
      "provenance": [],
      "toc_visible": true,
      "mount_file_id": "1cnHoXL2fiaxkLWXAseUOTb_XOcZ6Npot",
      "authorship_tag": "ABX9TyO3i36KHNQj3yL48KMDrXyV",
      "include_colab_link": true
    },
    "kernelspec": {
      "name": "python3",
      "display_name": "Python 3"
    },
    "language_info": {
      "name": "python"
    }
  },
  "cells": [
    {
      "cell_type": "markdown",
      "metadata": {
        "id": "view-in-github",
        "colab_type": "text"
      },
      "source": [
        "<a href=\"https://colab.research.google.com/github/Kenrich005/FMCG_StockPricePrediction/blob/main/FMCG_SharePricePrediction_Classification.ipynb\" target=\"_parent\"><img src=\"https://colab.research.google.com/assets/colab-badge.svg\" alt=\"Open In Colab\"/></a>"
      ]
    },
    {
      "cell_type": "code",
      "execution_count": 1,
      "metadata": {
        "id": "ZoeEcXqELJq3"
      },
      "outputs": [],
      "source": [
        "import pandas as pd\n",
        "import numpy as np\n",
        "import warnings\n",
        "warnings.filterwarnings('ignore')\n",
        "import matplotlib.pyplot as plt\n",
        "import seaborn as sns"
      ]
    },
    {
      "cell_type": "code",
      "source": [
        "df = pd.read_csv('https://raw.githubusercontent.com/Kenrich005/FMCG_StockPricePrediction/main/FMCG_20companies.csv')\n",
        "df.head(2)"
      ],
      "metadata": {
        "colab": {
          "base_uri": "https://localhost:8080/",
          "height": 260
        },
        "id": "m1cARZHHM4nG",
        "outputId": "5055d3ec-7d66-4041-d021-23458cc44544"
      },
      "execution_count": 2,
      "outputs": [
        {
          "output_type": "execute_result",
          "data": {
            "text/plain": [
              "  Quarters             Company  Oil Price  Total Income From Operations  \\\n",
              "0  Mar '20  Procter and Gamble    2392.98                        656.05   \n",
              "1  Dec '19  Procter and Gamble    4509.77                        859.27   \n",
              "\n",
              "   Return on Equity Ratio  Price-Equity Ratio  Gross Margin  Profit Margin  \\\n",
              "0                   20.21              146.39          0.64           0.14   \n",
              "1                   26.47              103.92          0.65           0.16   \n",
              "\n",
              "     EPS  EV/Net Operating Revenue  Change in Inventory    CPI  \\\n",
              "0  28.07                     52.15               -16.18  148.6   \n",
              "1  41.88                     39.81                21.20  150.4   \n",
              "\n",
              "   Closing Stock Price  \n",
              "0              4109.05  \n",
              "1              4352.30  "
            ],
            "text/html": [
              "\n",
              "  <div id=\"df-6edeb0ac-c82d-44dd-9087-5060f65acefc\">\n",
              "    <div class=\"colab-df-container\">\n",
              "      <div>\n",
              "<style scoped>\n",
              "    .dataframe tbody tr th:only-of-type {\n",
              "        vertical-align: middle;\n",
              "    }\n",
              "\n",
              "    .dataframe tbody tr th {\n",
              "        vertical-align: top;\n",
              "    }\n",
              "\n",
              "    .dataframe thead th {\n",
              "        text-align: right;\n",
              "    }\n",
              "</style>\n",
              "<table border=\"1\" class=\"dataframe\">\n",
              "  <thead>\n",
              "    <tr style=\"text-align: right;\">\n",
              "      <th></th>\n",
              "      <th>Quarters</th>\n",
              "      <th>Company</th>\n",
              "      <th>Oil Price</th>\n",
              "      <th>Total Income From Operations</th>\n",
              "      <th>Return on Equity Ratio</th>\n",
              "      <th>Price-Equity Ratio</th>\n",
              "      <th>Gross Margin</th>\n",
              "      <th>Profit Margin</th>\n",
              "      <th>EPS</th>\n",
              "      <th>EV/Net Operating Revenue</th>\n",
              "      <th>Change in Inventory</th>\n",
              "      <th>CPI</th>\n",
              "      <th>Closing Stock Price</th>\n",
              "    </tr>\n",
              "  </thead>\n",
              "  <tbody>\n",
              "    <tr>\n",
              "      <th>0</th>\n",
              "      <td>Mar '20</td>\n",
              "      <td>Procter and Gamble</td>\n",
              "      <td>2392.98</td>\n",
              "      <td>656.05</td>\n",
              "      <td>20.21</td>\n",
              "      <td>146.39</td>\n",
              "      <td>0.64</td>\n",
              "      <td>0.14</td>\n",
              "      <td>28.07</td>\n",
              "      <td>52.15</td>\n",
              "      <td>-16.18</td>\n",
              "      <td>148.6</td>\n",
              "      <td>4109.05</td>\n",
              "    </tr>\n",
              "    <tr>\n",
              "      <th>1</th>\n",
              "      <td>Dec '19</td>\n",
              "      <td>Procter and Gamble</td>\n",
              "      <td>4509.77</td>\n",
              "      <td>859.27</td>\n",
              "      <td>26.47</td>\n",
              "      <td>103.92</td>\n",
              "      <td>0.65</td>\n",
              "      <td>0.16</td>\n",
              "      <td>41.88</td>\n",
              "      <td>39.81</td>\n",
              "      <td>21.20</td>\n",
              "      <td>150.4</td>\n",
              "      <td>4352.30</td>\n",
              "    </tr>\n",
              "  </tbody>\n",
              "</table>\n",
              "</div>\n",
              "      <button class=\"colab-df-convert\" onclick=\"convertToInteractive('df-6edeb0ac-c82d-44dd-9087-5060f65acefc')\"\n",
              "              title=\"Convert this dataframe to an interactive table.\"\n",
              "              style=\"display:none;\">\n",
              "        \n",
              "  <svg xmlns=\"http://www.w3.org/2000/svg\" height=\"24px\"viewBox=\"0 0 24 24\"\n",
              "       width=\"24px\">\n",
              "    <path d=\"M0 0h24v24H0V0z\" fill=\"none\"/>\n",
              "    <path d=\"M18.56 5.44l.94 2.06.94-2.06 2.06-.94-2.06-.94-.94-2.06-.94 2.06-2.06.94zm-11 1L8.5 8.5l.94-2.06 2.06-.94-2.06-.94L8.5 2.5l-.94 2.06-2.06.94zm10 10l.94 2.06.94-2.06 2.06-.94-2.06-.94-.94-2.06-.94 2.06-2.06.94z\"/><path d=\"M17.41 7.96l-1.37-1.37c-.4-.4-.92-.59-1.43-.59-.52 0-1.04.2-1.43.59L10.3 9.45l-7.72 7.72c-.78.78-.78 2.05 0 2.83L4 21.41c.39.39.9.59 1.41.59.51 0 1.02-.2 1.41-.59l7.78-7.78 2.81-2.81c.8-.78.8-2.07 0-2.86zM5.41 20L4 18.59l7.72-7.72 1.47 1.35L5.41 20z\"/>\n",
              "  </svg>\n",
              "      </button>\n",
              "      \n",
              "  <style>\n",
              "    .colab-df-container {\n",
              "      display:flex;\n",
              "      flex-wrap:wrap;\n",
              "      gap: 12px;\n",
              "    }\n",
              "\n",
              "    .colab-df-convert {\n",
              "      background-color: #E8F0FE;\n",
              "      border: none;\n",
              "      border-radius: 50%;\n",
              "      cursor: pointer;\n",
              "      display: none;\n",
              "      fill: #1967D2;\n",
              "      height: 32px;\n",
              "      padding: 0 0 0 0;\n",
              "      width: 32px;\n",
              "    }\n",
              "\n",
              "    .colab-df-convert:hover {\n",
              "      background-color: #E2EBFA;\n",
              "      box-shadow: 0px 1px 2px rgba(60, 64, 67, 0.3), 0px 1px 3px 1px rgba(60, 64, 67, 0.15);\n",
              "      fill: #174EA6;\n",
              "    }\n",
              "\n",
              "    [theme=dark] .colab-df-convert {\n",
              "      background-color: #3B4455;\n",
              "      fill: #D2E3FC;\n",
              "    }\n",
              "\n",
              "    [theme=dark] .colab-df-convert:hover {\n",
              "      background-color: #434B5C;\n",
              "      box-shadow: 0px 1px 3px 1px rgba(0, 0, 0, 0.15);\n",
              "      filter: drop-shadow(0px 1px 2px rgba(0, 0, 0, 0.3));\n",
              "      fill: #FFFFFF;\n",
              "    }\n",
              "  </style>\n",
              "\n",
              "      <script>\n",
              "        const buttonEl =\n",
              "          document.querySelector('#df-6edeb0ac-c82d-44dd-9087-5060f65acefc button.colab-df-convert');\n",
              "        buttonEl.style.display =\n",
              "          google.colab.kernel.accessAllowed ? 'block' : 'none';\n",
              "\n",
              "        async function convertToInteractive(key) {\n",
              "          const element = document.querySelector('#df-6edeb0ac-c82d-44dd-9087-5060f65acefc');\n",
              "          const dataTable =\n",
              "            await google.colab.kernel.invokeFunction('convertToInteractive',\n",
              "                                                     [key], {});\n",
              "          if (!dataTable) return;\n",
              "\n",
              "          const docLinkHtml = 'Like what you see? Visit the ' +\n",
              "            '<a target=\"_blank\" href=https://colab.research.google.com/notebooks/data_table.ipynb>data table notebook</a>'\n",
              "            + ' to learn more about interactive tables.';\n",
              "          element.innerHTML = '';\n",
              "          dataTable['output_type'] = 'display_data';\n",
              "          await google.colab.output.renderOutput(dataTable, element);\n",
              "          const docLink = document.createElement('div');\n",
              "          docLink.innerHTML = docLinkHtml;\n",
              "          element.appendChild(docLink);\n",
              "        }\n",
              "      </script>\n",
              "    </div>\n",
              "  </div>\n",
              "  "
            ]
          },
          "metadata": {},
          "execution_count": 2
        }
      ]
    },
    {
      "cell_type": "code",
      "source": [
        "df.info()"
      ],
      "metadata": {
        "colab": {
          "base_uri": "https://localhost:8080/"
        },
        "id": "zDxezWkcJRGL",
        "outputId": "618f2209-bc44-4748-b875-a1aa2dff4664"
      },
      "execution_count": 3,
      "outputs": [
        {
          "output_type": "stream",
          "name": "stdout",
          "text": [
            "<class 'pandas.core.frame.DataFrame'>\n",
            "RangeIndex: 480 entries, 0 to 479\n",
            "Data columns (total 13 columns):\n",
            " #   Column                        Non-Null Count  Dtype  \n",
            "---  ------                        --------------  -----  \n",
            " 0   Quarters                      480 non-null    object \n",
            " 1   Company                       480 non-null    object \n",
            " 2   Oil Price                     480 non-null    float64\n",
            " 3   Total Income From Operations  480 non-null    float64\n",
            " 4   Return on Equity Ratio        480 non-null    float64\n",
            " 5   Price-Equity Ratio            480 non-null    float64\n",
            " 6   Gross Margin                  480 non-null    float64\n",
            " 7   Profit Margin                 480 non-null    float64\n",
            " 8   EPS                           480 non-null    float64\n",
            " 9   EV/Net Operating Revenue      480 non-null    float64\n",
            " 10  Change in Inventory           480 non-null    float64\n",
            " 11  CPI                           480 non-null    float64\n",
            " 12  Closing Stock Price           480 non-null    float64\n",
            "dtypes: float64(11), object(2)\n",
            "memory usage: 48.9+ KB\n"
          ]
        }
      ]
    },
    {
      "cell_type": "markdown",
      "source": [
        "## Creating y-variable"
      ],
      "metadata": {
        "id": "8WF_PLZ2oeZN"
      }
    },
    {
      "cell_type": "code",
      "source": [
        "df['Next Quarter StockPrice'] = df.groupby('Company')['Closing Stock Price'].shift(1)\n",
        "df['Quarterly Return %'] = (df['Next Quarter StockPrice']/df['Closing Stock Price'])-1\n",
        "df['3% Return'] = np.where(df['Quarterly Return %']>=0.03,1,0)\n",
        "df.head()"
      ],
      "metadata": {
        "colab": {
          "base_uri": "https://localhost:8080/",
          "height": 496
        },
        "id": "UVQQjtVHoPoE",
        "outputId": "df68563f-3ea3-4819-f3c6-c3e793965b77"
      },
      "execution_count": 4,
      "outputs": [
        {
          "output_type": "execute_result",
          "data": {
            "text/plain": [
              "  Quarters             Company  Oil Price  Total Income From Operations  \\\n",
              "0  Mar '20  Procter and Gamble    2392.98                        656.05   \n",
              "1  Dec '19  Procter and Gamble    4509.77                        859.27   \n",
              "2  Sep '19  Procter and Gamble    4282.87                        852.14   \n",
              "3  Jun '19  Procter and Gamble    4149.67                        637.29   \n",
              "4  Mar '19  Procter and Gamble    4432.04                        699.34   \n",
              "\n",
              "   Return on Equity Ratio  Price-Equity Ratio  Gross Margin  Profit Margin  \\\n",
              "0                   20.21              146.39          0.64           0.14   \n",
              "1                   26.47              103.92          0.65           0.16   \n",
              "2                   26.25              111.13          0.59           0.16   \n",
              "3                   19.63              219.22          0.55           0.10   \n",
              "4                   21.54              132.34          0.61           0.13   \n",
              "\n",
              "     EPS  EV/Net Operating Revenue  Change in Inventory    CPI  \\\n",
              "0  28.07                     52.15               -16.18  148.6   \n",
              "1  41.88                     39.81                21.20  150.4   \n",
              "2  42.16                     40.15                -8.62  145.8   \n",
              "3  18.73                     53.68               -25.40  142.9   \n",
              "4  27.76                     45.39                25.80  140.4   \n",
              "\n",
              "   Closing Stock Price  Next Quarter StockPrice  Quarterly Return %  3% Return  \n",
              "0              4109.05                      NaN                 NaN          0  \n",
              "1              4352.30                  4109.05           -0.055890          0  \n",
              "2              4685.15                  4352.30           -0.071044          0  \n",
              "3              4106.05                  4685.15            0.141036          1  \n",
              "4              3673.65                  4106.05            0.117703          1  "
            ],
            "text/html": [
              "\n",
              "  <div id=\"df-d277969c-74a1-48e2-bf25-5351ed19778e\">\n",
              "    <div class=\"colab-df-container\">\n",
              "      <div>\n",
              "<style scoped>\n",
              "    .dataframe tbody tr th:only-of-type {\n",
              "        vertical-align: middle;\n",
              "    }\n",
              "\n",
              "    .dataframe tbody tr th {\n",
              "        vertical-align: top;\n",
              "    }\n",
              "\n",
              "    .dataframe thead th {\n",
              "        text-align: right;\n",
              "    }\n",
              "</style>\n",
              "<table border=\"1\" class=\"dataframe\">\n",
              "  <thead>\n",
              "    <tr style=\"text-align: right;\">\n",
              "      <th></th>\n",
              "      <th>Quarters</th>\n",
              "      <th>Company</th>\n",
              "      <th>Oil Price</th>\n",
              "      <th>Total Income From Operations</th>\n",
              "      <th>Return on Equity Ratio</th>\n",
              "      <th>Price-Equity Ratio</th>\n",
              "      <th>Gross Margin</th>\n",
              "      <th>Profit Margin</th>\n",
              "      <th>EPS</th>\n",
              "      <th>EV/Net Operating Revenue</th>\n",
              "      <th>Change in Inventory</th>\n",
              "      <th>CPI</th>\n",
              "      <th>Closing Stock Price</th>\n",
              "      <th>Next Quarter StockPrice</th>\n",
              "      <th>Quarterly Return %</th>\n",
              "      <th>3% Return</th>\n",
              "    </tr>\n",
              "  </thead>\n",
              "  <tbody>\n",
              "    <tr>\n",
              "      <th>0</th>\n",
              "      <td>Mar '20</td>\n",
              "      <td>Procter and Gamble</td>\n",
              "      <td>2392.98</td>\n",
              "      <td>656.05</td>\n",
              "      <td>20.21</td>\n",
              "      <td>146.39</td>\n",
              "      <td>0.64</td>\n",
              "      <td>0.14</td>\n",
              "      <td>28.07</td>\n",
              "      <td>52.15</td>\n",
              "      <td>-16.18</td>\n",
              "      <td>148.6</td>\n",
              "      <td>4109.05</td>\n",
              "      <td>NaN</td>\n",
              "      <td>NaN</td>\n",
              "      <td>0</td>\n",
              "    </tr>\n",
              "    <tr>\n",
              "      <th>1</th>\n",
              "      <td>Dec '19</td>\n",
              "      <td>Procter and Gamble</td>\n",
              "      <td>4509.77</td>\n",
              "      <td>859.27</td>\n",
              "      <td>26.47</td>\n",
              "      <td>103.92</td>\n",
              "      <td>0.65</td>\n",
              "      <td>0.16</td>\n",
              "      <td>41.88</td>\n",
              "      <td>39.81</td>\n",
              "      <td>21.20</td>\n",
              "      <td>150.4</td>\n",
              "      <td>4352.30</td>\n",
              "      <td>4109.05</td>\n",
              "      <td>-0.055890</td>\n",
              "      <td>0</td>\n",
              "    </tr>\n",
              "    <tr>\n",
              "      <th>2</th>\n",
              "      <td>Sep '19</td>\n",
              "      <td>Procter and Gamble</td>\n",
              "      <td>4282.87</td>\n",
              "      <td>852.14</td>\n",
              "      <td>26.25</td>\n",
              "      <td>111.13</td>\n",
              "      <td>0.59</td>\n",
              "      <td>0.16</td>\n",
              "      <td>42.16</td>\n",
              "      <td>40.15</td>\n",
              "      <td>-8.62</td>\n",
              "      <td>145.8</td>\n",
              "      <td>4685.15</td>\n",
              "      <td>4352.30</td>\n",
              "      <td>-0.071044</td>\n",
              "      <td>0</td>\n",
              "    </tr>\n",
              "    <tr>\n",
              "      <th>3</th>\n",
              "      <td>Jun '19</td>\n",
              "      <td>Procter and Gamble</td>\n",
              "      <td>4149.67</td>\n",
              "      <td>637.29</td>\n",
              "      <td>19.63</td>\n",
              "      <td>219.22</td>\n",
              "      <td>0.55</td>\n",
              "      <td>0.10</td>\n",
              "      <td>18.73</td>\n",
              "      <td>53.68</td>\n",
              "      <td>-25.40</td>\n",
              "      <td>142.9</td>\n",
              "      <td>4106.05</td>\n",
              "      <td>4685.15</td>\n",
              "      <td>0.141036</td>\n",
              "      <td>1</td>\n",
              "    </tr>\n",
              "    <tr>\n",
              "      <th>4</th>\n",
              "      <td>Mar '19</td>\n",
              "      <td>Procter and Gamble</td>\n",
              "      <td>4432.04</td>\n",
              "      <td>699.34</td>\n",
              "      <td>21.54</td>\n",
              "      <td>132.34</td>\n",
              "      <td>0.61</td>\n",
              "      <td>0.13</td>\n",
              "      <td>27.76</td>\n",
              "      <td>45.39</td>\n",
              "      <td>25.80</td>\n",
              "      <td>140.4</td>\n",
              "      <td>3673.65</td>\n",
              "      <td>4106.05</td>\n",
              "      <td>0.117703</td>\n",
              "      <td>1</td>\n",
              "    </tr>\n",
              "  </tbody>\n",
              "</table>\n",
              "</div>\n",
              "      <button class=\"colab-df-convert\" onclick=\"convertToInteractive('df-d277969c-74a1-48e2-bf25-5351ed19778e')\"\n",
              "              title=\"Convert this dataframe to an interactive table.\"\n",
              "              style=\"display:none;\">\n",
              "        \n",
              "  <svg xmlns=\"http://www.w3.org/2000/svg\" height=\"24px\"viewBox=\"0 0 24 24\"\n",
              "       width=\"24px\">\n",
              "    <path d=\"M0 0h24v24H0V0z\" fill=\"none\"/>\n",
              "    <path d=\"M18.56 5.44l.94 2.06.94-2.06 2.06-.94-2.06-.94-.94-2.06-.94 2.06-2.06.94zm-11 1L8.5 8.5l.94-2.06 2.06-.94-2.06-.94L8.5 2.5l-.94 2.06-2.06.94zm10 10l.94 2.06.94-2.06 2.06-.94-2.06-.94-.94-2.06-.94 2.06-2.06.94z\"/><path d=\"M17.41 7.96l-1.37-1.37c-.4-.4-.92-.59-1.43-.59-.52 0-1.04.2-1.43.59L10.3 9.45l-7.72 7.72c-.78.78-.78 2.05 0 2.83L4 21.41c.39.39.9.59 1.41.59.51 0 1.02-.2 1.41-.59l7.78-7.78 2.81-2.81c.8-.78.8-2.07 0-2.86zM5.41 20L4 18.59l7.72-7.72 1.47 1.35L5.41 20z\"/>\n",
              "  </svg>\n",
              "      </button>\n",
              "      \n",
              "  <style>\n",
              "    .colab-df-container {\n",
              "      display:flex;\n",
              "      flex-wrap:wrap;\n",
              "      gap: 12px;\n",
              "    }\n",
              "\n",
              "    .colab-df-convert {\n",
              "      background-color: #E8F0FE;\n",
              "      border: none;\n",
              "      border-radius: 50%;\n",
              "      cursor: pointer;\n",
              "      display: none;\n",
              "      fill: #1967D2;\n",
              "      height: 32px;\n",
              "      padding: 0 0 0 0;\n",
              "      width: 32px;\n",
              "    }\n",
              "\n",
              "    .colab-df-convert:hover {\n",
              "      background-color: #E2EBFA;\n",
              "      box-shadow: 0px 1px 2px rgba(60, 64, 67, 0.3), 0px 1px 3px 1px rgba(60, 64, 67, 0.15);\n",
              "      fill: #174EA6;\n",
              "    }\n",
              "\n",
              "    [theme=dark] .colab-df-convert {\n",
              "      background-color: #3B4455;\n",
              "      fill: #D2E3FC;\n",
              "    }\n",
              "\n",
              "    [theme=dark] .colab-df-convert:hover {\n",
              "      background-color: #434B5C;\n",
              "      box-shadow: 0px 1px 3px 1px rgba(0, 0, 0, 0.15);\n",
              "      filter: drop-shadow(0px 1px 2px rgba(0, 0, 0, 0.3));\n",
              "      fill: #FFFFFF;\n",
              "    }\n",
              "  </style>\n",
              "\n",
              "      <script>\n",
              "        const buttonEl =\n",
              "          document.querySelector('#df-d277969c-74a1-48e2-bf25-5351ed19778e button.colab-df-convert');\n",
              "        buttonEl.style.display =\n",
              "          google.colab.kernel.accessAllowed ? 'block' : 'none';\n",
              "\n",
              "        async function convertToInteractive(key) {\n",
              "          const element = document.querySelector('#df-d277969c-74a1-48e2-bf25-5351ed19778e');\n",
              "          const dataTable =\n",
              "            await google.colab.kernel.invokeFunction('convertToInteractive',\n",
              "                                                     [key], {});\n",
              "          if (!dataTable) return;\n",
              "\n",
              "          const docLinkHtml = 'Like what you see? Visit the ' +\n",
              "            '<a target=\"_blank\" href=https://colab.research.google.com/notebooks/data_table.ipynb>data table notebook</a>'\n",
              "            + ' to learn more about interactive tables.';\n",
              "          element.innerHTML = '';\n",
              "          dataTable['output_type'] = 'display_data';\n",
              "          await google.colab.output.renderOutput(dataTable, element);\n",
              "          const docLink = document.createElement('div');\n",
              "          docLink.innerHTML = docLinkHtml;\n",
              "          element.appendChild(docLink);\n",
              "        }\n",
              "      </script>\n",
              "    </div>\n",
              "  </div>\n",
              "  "
            ]
          },
          "metadata": {},
          "execution_count": 4
        }
      ]
    },
    {
      "cell_type": "code",
      "source": [
        "df['3% Return'].value_counts()"
      ],
      "metadata": {
        "colab": {
          "base_uri": "https://localhost:8080/"
        },
        "id": "I0_7LpqjpU3r",
        "outputId": "cfe14aa3-8fe9-4c4b-ff66-ff922ba36ac5"
      },
      "execution_count": 5,
      "outputs": [
        {
          "output_type": "execute_result",
          "data": {
            "text/plain": [
              "0    249\n",
              "1    231\n",
              "Name: 3% Return, dtype: int64"
            ]
          },
          "metadata": {},
          "execution_count": 5
        }
      ]
    },
    {
      "cell_type": "markdown",
      "source": [
        "## Train Test Split"
      ],
      "metadata": {
        "id": "uPu6nSoao8An"
      }
    },
    {
      "cell_type": "code",
      "source": [
        "df_test = df[df[\"Quarters\"].isin([\"Mar '20\",\"Dec '19\",\"Sep '19\",\"Jun '19\"])]\n",
        "df_train = df[~df['Quarters'].isin(df_test['Quarters'])]\n",
        "\n",
        "df_train.shape, df_test.shape"
      ],
      "metadata": {
        "colab": {
          "base_uri": "https://localhost:8080/"
        },
        "id": "tjzLSTFmo_Cw",
        "outputId": "ca4bb577-dbda-4a32-8f37-c4606ae7977c"
      },
      "execution_count": 6,
      "outputs": [
        {
          "output_type": "execute_result",
          "data": {
            "text/plain": [
              "((400, 16), (80, 16))"
            ]
          },
          "metadata": {},
          "execution_count": 6
        }
      ]
    },
    {
      "cell_type": "code",
      "source": [
        "y_train = df_train['3% Return']\n",
        "X_train = df_train.drop(['Quarterly Return %','Next Quarter StockPrice','3% Return'],axis=1)\n",
        "y_test = df_test['3% Return']\n",
        "X_test = df_test.drop(['Quarterly Return %','Next Quarter StockPrice','3% Return'],axis=1)\n",
        "\n",
        "X_train.shape, y_train.shape"
      ],
      "metadata": {
        "colab": {
          "base_uri": "https://localhost:8080/"
        },
        "id": "cAoXwi-DKVFJ",
        "outputId": "70dbbb2d-7d68-4d05-d9c2-b51012ccb820"
      },
      "execution_count": 7,
      "outputs": [
        {
          "output_type": "execute_result",
          "data": {
            "text/plain": [
              "((400, 13), (400,))"
            ]
          },
          "metadata": {},
          "execution_count": 7
        }
      ]
    },
    {
      "cell_type": "markdown",
      "source": [
        "## Preprocessing Function"
      ],
      "metadata": {
        "id": "QlfHPVZb0qzL"
      }
    },
    {
      "cell_type": "code",
      "source": [
        "def data_preprocessor(df):\n",
        "  df['Month'],df['Year'] = df['Quarters'].str.split().str\n",
        "  df['Year'] = df['Year'].str.replace(\"'\",\"\").astype(int)\n",
        "  df.drop(\"Quarters\",axis=1,inplace=True)"
      ],
      "metadata": {
        "id": "P_JA7jiI0t3v"
      },
      "execution_count": 8,
      "outputs": []
    },
    {
      "cell_type": "code",
      "source": [
        "data_preprocessor(X_train)\n",
        "data_preprocessor(X_test)\n",
        "X_train.head(2)"
      ],
      "metadata": {
        "colab": {
          "base_uri": "https://localhost:8080/",
          "height": 260
        },
        "id": "cBbH7Dvx4Nmy",
        "outputId": "e81748fb-e960-41bd-9e24-0cde0d28ce56"
      },
      "execution_count": 9,
      "outputs": [
        {
          "output_type": "execute_result",
          "data": {
            "text/plain": [
              "              Company  Oil Price  Total Income From Operations  \\\n",
              "4  Procter and Gamble    4432.04                        699.34   \n",
              "5  Procter and Gamble    3822.07                        818.07   \n",
              "\n",
              "   Return on Equity Ratio  Price-Equity Ratio  Gross Margin  Profit Margin  \\\n",
              "4                   21.54              132.34          0.61           0.13   \n",
              "5                   25.20               80.65          0.57           0.15   \n",
              "\n",
              "     EPS  EV/Net Operating Revenue  Change in Inventory    CPI  \\\n",
              "4  27.76                     45.39                25.80  140.4   \n",
              "5  38.24                     38.80                11.46  140.1   \n",
              "\n",
              "   Closing Stock Price Month  Year  \n",
              "4              3673.65   Mar    19  \n",
              "5              3084.20   Dec    18  "
            ],
            "text/html": [
              "\n",
              "  <div id=\"df-e8a7177b-7a4c-48f9-adbc-d94b0e81e46d\">\n",
              "    <div class=\"colab-df-container\">\n",
              "      <div>\n",
              "<style scoped>\n",
              "    .dataframe tbody tr th:only-of-type {\n",
              "        vertical-align: middle;\n",
              "    }\n",
              "\n",
              "    .dataframe tbody tr th {\n",
              "        vertical-align: top;\n",
              "    }\n",
              "\n",
              "    .dataframe thead th {\n",
              "        text-align: right;\n",
              "    }\n",
              "</style>\n",
              "<table border=\"1\" class=\"dataframe\">\n",
              "  <thead>\n",
              "    <tr style=\"text-align: right;\">\n",
              "      <th></th>\n",
              "      <th>Company</th>\n",
              "      <th>Oil Price</th>\n",
              "      <th>Total Income From Operations</th>\n",
              "      <th>Return on Equity Ratio</th>\n",
              "      <th>Price-Equity Ratio</th>\n",
              "      <th>Gross Margin</th>\n",
              "      <th>Profit Margin</th>\n",
              "      <th>EPS</th>\n",
              "      <th>EV/Net Operating Revenue</th>\n",
              "      <th>Change in Inventory</th>\n",
              "      <th>CPI</th>\n",
              "      <th>Closing Stock Price</th>\n",
              "      <th>Month</th>\n",
              "      <th>Year</th>\n",
              "    </tr>\n",
              "  </thead>\n",
              "  <tbody>\n",
              "    <tr>\n",
              "      <th>4</th>\n",
              "      <td>Procter and Gamble</td>\n",
              "      <td>4432.04</td>\n",
              "      <td>699.34</td>\n",
              "      <td>21.54</td>\n",
              "      <td>132.34</td>\n",
              "      <td>0.61</td>\n",
              "      <td>0.13</td>\n",
              "      <td>27.76</td>\n",
              "      <td>45.39</td>\n",
              "      <td>25.80</td>\n",
              "      <td>140.4</td>\n",
              "      <td>3673.65</td>\n",
              "      <td>Mar</td>\n",
              "      <td>19</td>\n",
              "    </tr>\n",
              "    <tr>\n",
              "      <th>5</th>\n",
              "      <td>Procter and Gamble</td>\n",
              "      <td>3822.07</td>\n",
              "      <td>818.07</td>\n",
              "      <td>25.20</td>\n",
              "      <td>80.65</td>\n",
              "      <td>0.57</td>\n",
              "      <td>0.15</td>\n",
              "      <td>38.24</td>\n",
              "      <td>38.80</td>\n",
              "      <td>11.46</td>\n",
              "      <td>140.1</td>\n",
              "      <td>3084.20</td>\n",
              "      <td>Dec</td>\n",
              "      <td>18</td>\n",
              "    </tr>\n",
              "  </tbody>\n",
              "</table>\n",
              "</div>\n",
              "      <button class=\"colab-df-convert\" onclick=\"convertToInteractive('df-e8a7177b-7a4c-48f9-adbc-d94b0e81e46d')\"\n",
              "              title=\"Convert this dataframe to an interactive table.\"\n",
              "              style=\"display:none;\">\n",
              "        \n",
              "  <svg xmlns=\"http://www.w3.org/2000/svg\" height=\"24px\"viewBox=\"0 0 24 24\"\n",
              "       width=\"24px\">\n",
              "    <path d=\"M0 0h24v24H0V0z\" fill=\"none\"/>\n",
              "    <path d=\"M18.56 5.44l.94 2.06.94-2.06 2.06-.94-2.06-.94-.94-2.06-.94 2.06-2.06.94zm-11 1L8.5 8.5l.94-2.06 2.06-.94-2.06-.94L8.5 2.5l-.94 2.06-2.06.94zm10 10l.94 2.06.94-2.06 2.06-.94-2.06-.94-.94-2.06-.94 2.06-2.06.94z\"/><path d=\"M17.41 7.96l-1.37-1.37c-.4-.4-.92-.59-1.43-.59-.52 0-1.04.2-1.43.59L10.3 9.45l-7.72 7.72c-.78.78-.78 2.05 0 2.83L4 21.41c.39.39.9.59 1.41.59.51 0 1.02-.2 1.41-.59l7.78-7.78 2.81-2.81c.8-.78.8-2.07 0-2.86zM5.41 20L4 18.59l7.72-7.72 1.47 1.35L5.41 20z\"/>\n",
              "  </svg>\n",
              "      </button>\n",
              "      \n",
              "  <style>\n",
              "    .colab-df-container {\n",
              "      display:flex;\n",
              "      flex-wrap:wrap;\n",
              "      gap: 12px;\n",
              "    }\n",
              "\n",
              "    .colab-df-convert {\n",
              "      background-color: #E8F0FE;\n",
              "      border: none;\n",
              "      border-radius: 50%;\n",
              "      cursor: pointer;\n",
              "      display: none;\n",
              "      fill: #1967D2;\n",
              "      height: 32px;\n",
              "      padding: 0 0 0 0;\n",
              "      width: 32px;\n",
              "    }\n",
              "\n",
              "    .colab-df-convert:hover {\n",
              "      background-color: #E2EBFA;\n",
              "      box-shadow: 0px 1px 2px rgba(60, 64, 67, 0.3), 0px 1px 3px 1px rgba(60, 64, 67, 0.15);\n",
              "      fill: #174EA6;\n",
              "    }\n",
              "\n",
              "    [theme=dark] .colab-df-convert {\n",
              "      background-color: #3B4455;\n",
              "      fill: #D2E3FC;\n",
              "    }\n",
              "\n",
              "    [theme=dark] .colab-df-convert:hover {\n",
              "      background-color: #434B5C;\n",
              "      box-shadow: 0px 1px 3px 1px rgba(0, 0, 0, 0.15);\n",
              "      filter: drop-shadow(0px 1px 2px rgba(0, 0, 0, 0.3));\n",
              "      fill: #FFFFFF;\n",
              "    }\n",
              "  </style>\n",
              "\n",
              "      <script>\n",
              "        const buttonEl =\n",
              "          document.querySelector('#df-e8a7177b-7a4c-48f9-adbc-d94b0e81e46d button.colab-df-convert');\n",
              "        buttonEl.style.display =\n",
              "          google.colab.kernel.accessAllowed ? 'block' : 'none';\n",
              "\n",
              "        async function convertToInteractive(key) {\n",
              "          const element = document.querySelector('#df-e8a7177b-7a4c-48f9-adbc-d94b0e81e46d');\n",
              "          const dataTable =\n",
              "            await google.colab.kernel.invokeFunction('convertToInteractive',\n",
              "                                                     [key], {});\n",
              "          if (!dataTable) return;\n",
              "\n",
              "          const docLinkHtml = 'Like what you see? Visit the ' +\n",
              "            '<a target=\"_blank\" href=https://colab.research.google.com/notebooks/data_table.ipynb>data table notebook</a>'\n",
              "            + ' to learn more about interactive tables.';\n",
              "          element.innerHTML = '';\n",
              "          dataTable['output_type'] = 'display_data';\n",
              "          await google.colab.output.renderOutput(dataTable, element);\n",
              "          const docLink = document.createElement('div');\n",
              "          docLink.innerHTML = docLinkHtml;\n",
              "          element.appendChild(docLink);\n",
              "        }\n",
              "      </script>\n",
              "    </div>\n",
              "  </div>\n",
              "  "
            ]
          },
          "metadata": {},
          "execution_count": 9
        }
      ]
    },
    {
      "cell_type": "markdown",
      "source": [
        "## Split Categorical and Numerical variables"
      ],
      "metadata": {
        "id": "yypXcp0XMp5f"
      }
    },
    {
      "cell_type": "code",
      "source": [
        "all_cols = list(X_train.columns)\n",
        "cat_cols = list(X_train.select_dtypes(\"object\").columns)\n",
        "num_cols = list(set(all_cols)- set(cat_cols))\n",
        "num_cols"
      ],
      "metadata": {
        "colab": {
          "base_uri": "https://localhost:8080/"
        },
        "id": "G55VBQztMR1U",
        "outputId": "f282600e-4794-47fa-b906-c5100b83d08b"
      },
      "execution_count": 10,
      "outputs": [
        {
          "output_type": "execute_result",
          "data": {
            "text/plain": [
              "['Closing Stock Price',\n",
              " 'Gross Margin',\n",
              " 'Oil Price',\n",
              " 'Price-Equity Ratio',\n",
              " 'EV/Net Operating Revenue',\n",
              " 'Year',\n",
              " 'Return on Equity Ratio',\n",
              " 'Total Income From Operations',\n",
              " 'Change in Inventory',\n",
              " 'CPI',\n",
              " 'Profit Margin',\n",
              " 'EPS']"
            ]
          },
          "metadata": {},
          "execution_count": 10
        }
      ]
    },
    {
      "cell_type": "markdown",
      "source": [
        "## One Hot Encoding for Categorical Variables"
      ],
      "metadata": {
        "id": "vYYcRNcSOA1m"
      }
    },
    {
      "cell_type": "code",
      "source": [
        "from sklearn.preprocessing import OneHotEncoder\n",
        "ohe_encoder = OneHotEncoder(handle_unknown='ignore')\n",
        "ohe_encoder.fit(X_train[cat_cols])\n",
        "ohe_encoder.categories_"
      ],
      "metadata": {
        "colab": {
          "base_uri": "https://localhost:8080/"
        },
        "id": "LyNPyYUPM0eO",
        "outputId": "c495b9bf-d3df-494c-9912-c54948ecd033"
      },
      "execution_count": 11,
      "outputs": [
        {
          "output_type": "execute_result",
          "data": {
            "text/plain": [
              "[array(['Britannia', 'CCL Products India Ltd.', 'Colgate Palmolive',\n",
              "        'Dabur India', 'Emami', 'Gillette India', 'Globus Spirits Ltd.',\n",
              "        'Godrej Consumer', 'HU', 'Hatsun Agro', 'Heritage Foods', 'ITC',\n",
              "        'Jubiliant Foodworks', 'Marico', 'Nestle', 'Procter and Gamble',\n",
              "        'Tasty Bite Eatables', 'Tata Consumer Products',\n",
              "        'United Breweries Ltd.', 'United Spirits Ltd'], dtype=object),\n",
              " array(['Dec', 'Jun', 'Mar', 'Sep'], dtype=object)]"
            ]
          },
          "metadata": {},
          "execution_count": 11
        }
      ]
    },
    {
      "cell_type": "code",
      "source": [
        "encoded_cat_names = list(ohe_encoder.get_feature_names(cat_cols))"
      ],
      "metadata": {
        "id": "QNYdqrxSQgDo"
      },
      "execution_count": 12,
      "outputs": []
    },
    {
      "cell_type": "markdown",
      "source": [
        "## Standard Scaling for Numerical Variables"
      ],
      "metadata": {
        "id": "lkGCYRPAO9A5"
      }
    },
    {
      "cell_type": "code",
      "source": [
        "from sklearn.preprocessing import StandardScaler\n",
        "sc = StandardScaler()\n",
        "sc.fit(X_train[num_cols])\n",
        "scaled_num_names = list(sc.feature_names_in_)"
      ],
      "metadata": {
        "id": "bREc_Jd1OY5h"
      },
      "execution_count": 13,
      "outputs": []
    },
    {
      "cell_type": "code",
      "source": [
        "all_feature_names = encoded_cat_names + scaled_num_names\n",
        "all_feature_names"
      ],
      "metadata": {
        "colab": {
          "base_uri": "https://localhost:8080/"
        },
        "id": "m5lNw1_tqkvZ",
        "outputId": "8ca4a2ea-8db8-4985-a16b-adee3a895114"
      },
      "execution_count": 14,
      "outputs": [
        {
          "output_type": "execute_result",
          "data": {
            "text/plain": [
              "['Company_Britannia',\n",
              " 'Company_CCL Products India Ltd.',\n",
              " 'Company_Colgate Palmolive',\n",
              " 'Company_Dabur India',\n",
              " 'Company_Emami',\n",
              " 'Company_Gillette India',\n",
              " 'Company_Globus Spirits Ltd.',\n",
              " 'Company_Godrej Consumer',\n",
              " 'Company_HU',\n",
              " 'Company_Hatsun Agro',\n",
              " 'Company_Heritage Foods',\n",
              " 'Company_ITC',\n",
              " 'Company_Jubiliant Foodworks',\n",
              " 'Company_Marico',\n",
              " 'Company_Nestle',\n",
              " 'Company_Procter and Gamble',\n",
              " 'Company_Tasty Bite Eatables',\n",
              " 'Company_Tata Consumer Products',\n",
              " 'Company_United Breweries Ltd.',\n",
              " 'Company_United Spirits Ltd',\n",
              " 'Month_Dec',\n",
              " 'Month_Jun',\n",
              " 'Month_Mar',\n",
              " 'Month_Sep',\n",
              " 'Closing Stock Price',\n",
              " 'Gross Margin',\n",
              " 'Oil Price',\n",
              " 'Price-Equity Ratio',\n",
              " 'EV/Net Operating Revenue',\n",
              " 'Year',\n",
              " 'Return on Equity Ratio',\n",
              " 'Total Income From Operations',\n",
              " 'Change in Inventory',\n",
              " 'CPI',\n",
              " 'Profit Margin',\n",
              " 'EPS']"
            ]
          },
          "metadata": {},
          "execution_count": 14
        }
      ]
    },
    {
      "cell_type": "markdown",
      "source": [
        "## Creating Column Transformer"
      ],
      "metadata": {
        "id": "MmSodx71RtEg"
      }
    },
    {
      "cell_type": "code",
      "source": [
        "from sklearn.compose import ColumnTransformer\n",
        "preprocessor = ColumnTransformer(transformers=[('cat', ohe_encoder, cat_cols), ('sc', sc, num_cols)],\n",
        "                                 remainder='passthrough')"
      ],
      "metadata": {
        "id": "OElmwMf-Rafs"
      },
      "execution_count": 15,
      "outputs": []
    },
    {
      "cell_type": "markdown",
      "source": [
        "## Logistic Regression"
      ],
      "metadata": {
        "id": "GeT1wpndSjBK"
      }
    },
    {
      "cell_type": "code",
      "source": [
        "from sklearn.linear_model import LogisticRegression\n",
        "logreg = LogisticRegression(random_state = 100, max_iter = 1000)"
      ],
      "metadata": {
        "id": "_xz67_3ESgcS"
      },
      "execution_count": 16,
      "outputs": []
    },
    {
      "cell_type": "markdown",
      "source": [
        "## Creating Pipeline"
      ],
      "metadata": {
        "id": "zZy9F1geTMPJ"
      }
    },
    {
      "cell_type": "code",
      "source": [
        "from sklearn.pipeline import Pipeline\n",
        "logreg_v1 = Pipeline(steps=[('preprocessor', preprocessor),('regressor', logreg)])"
      ],
      "metadata": {
        "id": "K--rKSZcTHDN"
      },
      "execution_count": 17,
      "outputs": []
    },
    {
      "cell_type": "code",
      "source": [
        "logreg_v1.fit(X_train, y_train)"
      ],
      "metadata": {
        "id": "UIv9d2X-TaNg",
        "outputId": "7033d6d9-6fa1-418d-aadc-59c46cb6dcb5",
        "colab": {
          "base_uri": "https://localhost:8080/"
        }
      },
      "execution_count": 18,
      "outputs": [
        {
          "output_type": "execute_result",
          "data": {
            "text/plain": [
              "Pipeline(steps=[('preprocessor',\n",
              "                 ColumnTransformer(remainder='passthrough',\n",
              "                                   transformers=[('cat',\n",
              "                                                  OneHotEncoder(handle_unknown='ignore'),\n",
              "                                                  ['Company', 'Month']),\n",
              "                                                 ('sc', StandardScaler(),\n",
              "                                                  ['Closing Stock Price',\n",
              "                                                   'Gross Margin', 'Oil Price',\n",
              "                                                   'Price-Equity Ratio',\n",
              "                                                   'EV/Net Operating Revenue',\n",
              "                                                   'Year',\n",
              "                                                   'Return on Equity Ratio',\n",
              "                                                   'Total Income From '\n",
              "                                                   'Operations',\n",
              "                                                   'Change in Inventory', 'CPI',\n",
              "                                                   'Profit Margin', 'EPS'])])),\n",
              "                ('regressor',\n",
              "                 LogisticRegression(max_iter=1000, random_state=100))])"
            ]
          },
          "metadata": {},
          "execution_count": 18
        }
      ]
    },
    {
      "cell_type": "code",
      "source": [
        "feature_coefficients = dict(zip( all_feature_names, np.round(logreg.coef_[0], 5) ) )\n",
        "feature_coefficients"
      ],
      "metadata": {
        "colab": {
          "base_uri": "https://localhost:8080/"
        },
        "id": "7_2ipKiQ6R3p",
        "outputId": "87780865-a522-4937-bcb3-f7c768857605"
      },
      "execution_count": 19,
      "outputs": [
        {
          "output_type": "execute_result",
          "data": {
            "text/plain": [
              "{'Company_Britannia': -0.07985,\n",
              " 'Company_CCL Products India Ltd.': 0.10407,\n",
              " 'Company_Colgate Palmolive': -0.20719,\n",
              " 'Company_Dabur India': 0.30406,\n",
              " 'Company_Emami': -0.13635,\n",
              " 'Company_Gillette India': 0.4743,\n",
              " 'Company_Globus Spirits Ltd.': -0.27773,\n",
              " 'Company_Godrej Consumer': 0.36415,\n",
              " 'Company_HU': 0.23918,\n",
              " 'Company_Hatsun Agro': 0.42938,\n",
              " 'Company_Heritage Foods': 0.16089,\n",
              " 'Company_ITC': -0.30088,\n",
              " 'Company_Jubiliant Foodworks': -0.52142,\n",
              " 'Company_Marico': 0.68372,\n",
              " 'Company_Nestle': 0.17691,\n",
              " 'Company_Procter and Gamble': -1.08741,\n",
              " 'Company_Tasty Bite Eatables': 0.28768,\n",
              " 'Company_Tata Consumer Products': -0.21337,\n",
              " 'Company_United Breweries Ltd.': -0.04019,\n",
              " 'Company_United Spirits Ltd': -0.36033,\n",
              " 'Month_Dec': -0.03032,\n",
              " 'Month_Jun': -0.06993,\n",
              " 'Month_Mar': -0.08247,\n",
              " 'Month_Sep': 0.18232,\n",
              " 'Closing Stock Price': -0.51435,\n",
              " 'Gross Margin': -0.02771,\n",
              " 'Oil Price': 0.11254,\n",
              " 'Price-Equity Ratio': -1.16407,\n",
              " 'EV/Net Operating Revenue': 0.03451,\n",
              " 'Year': 0.96333,\n",
              " 'Return on Equity Ratio': 0.07185,\n",
              " 'Total Income From Operations': 0.06885,\n",
              " 'Change in Inventory': -0.06852,\n",
              " 'CPI': -1.042,\n",
              " 'Profit Margin': -0.32881,\n",
              " 'EPS': 0.83894}"
            ]
          },
          "metadata": {},
          "execution_count": 19
        }
      ]
    },
    {
      "cell_type": "code",
      "source": [
        "plt.figure(figsize=(7,15))\n",
        "sns.barplot(x=np.round(logreg.coef_[0]),y=all_feature_names)\n",
        "plt.show();"
      ],
      "metadata": {
        "colab": {
          "base_uri": "https://localhost:8080/",
          "height": 863
        },
        "id": "pXZM3jXxXP6V",
        "outputId": "89d430bb-b128-482b-ecdb-8b15e988a642"
      },
      "execution_count": 20,
      "outputs": [
        {
          "output_type": "display_data",
          "data": {
            "text/plain": [
              "<Figure size 504x1080 with 1 Axes>"
            ],
            "image/png": "[encoded data removed]"
          },
          "metadata": {
            "needs_background": "light"
          }
        }
      ]
    },
    {
      "cell_type": "markdown",
      "source": [
        "## Predict on Test Set"
      ],
      "metadata": {
        "id": "ElOu9NFl7YgL"
      }
    },
    {
      "cell_type": "code",
      "source": [
        "y_pred = logreg_v1.predict(X_test)"
      ],
      "metadata": {
        "id": "kHdfghS87Z-3"
      },
      "execution_count": 21,
      "outputs": []
    },
    {
      "cell_type": "markdown",
      "metadata": {
        "id": "yGfPiDFdbNsF"
      },
      "source": [
        "### Measuring Accuracy"
      ]
    },
    {
      "cell_type": "code",
      "execution_count": 22,
      "metadata": {
        "id": "RnAtUQZAbNsF",
        "colab": {
          "base_uri": "https://localhost:8080/"
        },
        "outputId": "ba5aa898-c82f-4662-ef84-0b0b543272a5"
      },
      "outputs": [
        {
          "output_type": "execute_result",
          "data": {
            "text/plain": [
              "0.625"
            ]
          },
          "metadata": {},
          "execution_count": 22
        }
      ],
      "source": [
        "from sklearn.metrics import accuracy_score\n",
        "accuracy_score(y_test, y_pred)"
      ]
    },
    {
      "cell_type": "code",
      "execution_count": 23,
      "metadata": {
        "id": "sdXW26s2bNsF",
        "colab": {
          "base_uri": "https://localhost:8080/",
          "height": 283
        },
        "outputId": "cb724360-8cd5-4e71-e2d4-fcf41718d885"
      },
      "outputs": [
        {
          "output_type": "display_data",
          "data": {
            "text/plain": [
              "<Figure size 432x288 with 2 Axes>"
            ],
            "image/png": "[encoded data removed]"
          },
          "metadata": {
            "needs_background": "light"
          }
        }
      ],
      "source": [
        "from sklearn.metrics import confusion_matrix, ConfusionMatrixDisplay, classification_report\n",
        "cm = confusion_matrix(y_test, y_pred, labels = [1,0])\n",
        "cm_plot = ConfusionMatrixDisplay(confusion_matrix=cm, display_labels=['More than 3%', 'Less than 3%'])\n",
        "cm_plot.plot();"
      ]
    },
    {
      "cell_type": "code",
      "source": [
        "print(classification_report(y_test, y_pred))"
      ],
      "metadata": {
        "colab": {
          "base_uri": "https://localhost:8080/"
        },
        "id": "DogiyyV4V4jG",
        "outputId": "d5ff30b9-e2c6-49fd-9f58-5bf2493f84ab"
      },
      "execution_count": 24,
      "outputs": [
        {
          "output_type": "stream",
          "name": "stdout",
          "text": [
            "              precision    recall  f1-score   support\n",
            "\n",
            "           0       0.73      0.78      0.75        58\n",
            "           1       0.28      0.23      0.25        22\n",
            "\n",
            "    accuracy                           0.62        80\n",
            "   macro avg       0.50      0.50      0.50        80\n",
            "weighted avg       0.60      0.62      0.61        80\n",
            "\n"
          ]
        }
      ]
    },
    {
      "cell_type": "markdown",
      "source": [
        "## K-Nearest Neighbor"
      ],
      "metadata": {
        "id": "2xXHRsvSwnLG"
      }
    },
    {
      "cell_type": "code",
      "source": [
        "from sklearn.neighbors import KNeighborsClassifier\n",
        "knn_clf = KNeighborsClassifier( n_neighbors = 10 )"
      ],
      "metadata": {
        "id": "gM1t1i9OwjUO"
      },
      "execution_count": 25,
      "outputs": []
    },
    {
      "cell_type": "code",
      "source": [
        "knnclf_v1 = Pipeline(steps=[('preprocessor', preprocessor),('regressor', knn_clf)], verbose=True)\n",
        "knnclf_v1.fit(X_train, y_train)\n",
        "y_knn_pred = knnclf_v1.predict(X_test)"
      ],
      "metadata": {
        "colab": {
          "base_uri": "https://localhost:8080/"
        },
        "id": "2u_WG3JsxSLC",
        "outputId": "422dca79-03ed-4e33-8db3-8932e2561364"
      },
      "execution_count": 26,
      "outputs": [
        {
          "output_type": "stream",
          "name": "stdout",
          "text": [
            "[Pipeline] ...... (step 1 of 2) Processing preprocessor, total=   0.0s\n",
            "[Pipeline] ......... (step 2 of 2) Processing regressor, total=   0.0s\n"
          ]
        }
      ]
    },
    {
      "cell_type": "code",
      "source": [
        "accuracy_score(y_test, y_knn_pred)"
      ],
      "metadata": {
        "colab": {
          "base_uri": "https://localhost:8080/"
        },
        "id": "BVawCitQ0-qf",
        "outputId": "25be390c-fdad-49e0-bfde-f3badfe69f5e"
      },
      "execution_count": 27,
      "outputs": [
        {
          "output_type": "execute_result",
          "data": {
            "text/plain": [
              "0.6375"
            ]
          },
          "metadata": {},
          "execution_count": 27
        }
      ]
    },
    {
      "cell_type": "code",
      "source": [
        "cm_knn = confusion_matrix(y_test, y_knn_pred, labels = [1,0])\n",
        "\n",
        "knn_cm_plot = ConfusionMatrixDisplay(cm_knn, display_labels=['More than 3%', 'Less than 3%'])\n",
        "knn_cm_plot.plot();"
      ],
      "metadata": {
        "id": "Lkx3Mbb82K0s",
        "colab": {
          "base_uri": "https://localhost:8080/",
          "height": 279
        },
        "outputId": "ff2b9789-07f1-4cef-eed3-c9ad590cf8a9"
      },
      "execution_count": 28,
      "outputs": [
        {
          "output_type": "display_data",
          "data": {
            "text/plain": [
              "<Figure size 432x288 with 2 Axes>"
            ],
            "image/png": "[encoded data removed]"
          },
          "metadata": {
            "needs_background": "light"
          }
        }
      ]
    },
    {
      "cell_type": "code",
      "source": [
        "print(classification_report(y_test, y_knn_pred))"
      ],
      "metadata": {
        "colab": {
          "base_uri": "https://localhost:8080/"
        },
        "id": "GAAd_jjbWIwN",
        "outputId": "12b05829-a9b0-4544-f96f-297e84df5b66"
      },
      "execution_count": 29,
      "outputs": [
        {
          "output_type": "stream",
          "name": "stdout",
          "text": [
            "              precision    recall  f1-score   support\n",
            "\n",
            "           0       0.76      0.72      0.74        58\n",
            "           1       0.36      0.41      0.38        22\n",
            "\n",
            "    accuracy                           0.64        80\n",
            "   macro avg       0.56      0.57      0.56        80\n",
            "weighted avg       0.65      0.64      0.64        80\n",
            "\n"
          ]
        }
      ]
    },
    {
      "cell_type": "code",
      "source": [],
      "metadata": {
        "id": "nUfgxUMsbgGr"
      },
      "execution_count": 29,
      "outputs": []
    }
  ]
}