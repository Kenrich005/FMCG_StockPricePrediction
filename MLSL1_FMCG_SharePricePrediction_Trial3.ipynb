{
  "nbformat": 4,
  "nbformat_minor": 0,
  "metadata": {
    "colab": {
      "name": "MLSL1_FMCG_SharePricePrediction_Trial3.ipynb",
      "provenance": [],
      "mount_file_id": "1cnHoXL2fiaxkLWXAseUOTb_XOcZ6Npot",
      "authorship_tag": "ABX9TyPbcJlNv9t0RtTGaofUaNG+",
      "include_colab_link": true
    },
    "kernelspec": {
      "name": "python3",
      "display_name": "Python 3"
    },
    "language_info": {
      "name": "python"
    }
  },
  "cells": [
    {
      "cell_type": "markdown",
      "metadata": {
        "id": "view-in-github",
        "colab_type": "text"
      },
      "source": [
        "<a href=\"https://colab.research.google.com/github/Kenrich005/FMCG_StockPricePrediction/blob/main/MLSL1_FMCG_SharePricePrediction_Trial3.ipynb\" target=\"_parent\"><img src=\"https://colab.research.google.com/assets/colab-badge.svg\" alt=\"Open In Colab\"/></a>"
      ]
    },
    {
      "cell_type": "code",
      "execution_count": null,
      "metadata": {
        "id": "ZoeEcXqELJq3"
      },
      "outputs": [],
      "source": [
        "import pandas as pd\n",
        "import numpy as np\n",
        "import warnings\n",
        "warnings.filterwarnings('ignore')"
      ]
    },
    {
      "cell_type": "code",
      "source": [
        "df = pd.read_csv('FMCG_20companies.csv')\n",
        "df.head()"
      ],
      "metadata": {
        "colab": {
          "base_uri": "https://localhost:8080/",
          "height": 458
        },
        "id": "m1cARZHHM4nG",
        "outputId": "b9c66892-a0f1-49b1-9358-2fead184d9c8"
      },
      "execution_count": null,
      "outputs": [
        {
          "output_type": "execute_result",
          "data": {
            "text/plain": [
              "  Quarters             Company  Oil Price  Total Income From Operations  \\\n",
              "0  Mar '20  Procter and Gamble    2392.98                        656.05   \n",
              "1  Dec '19  Procter and Gamble    4509.77                        859.27   \n",
              "2  Sep '19  Procter and Gamble    4282.87                        852.14   \n",
              "3  Jun '19  Procter and Gamble    4149.67                        637.29   \n",
              "4  Mar '19  Procter and Gamble    4432.04                        699.34   \n",
              "\n",
              "   Return on Equity Ratio  Price-Equity Ratio  Gross Margin  Profit Margin  \\\n",
              "0                   20.21              146.39          0.64           0.14   \n",
              "1                   26.47              103.92          0.65           0.16   \n",
              "2                   26.25              111.13          0.59           0.16   \n",
              "3                   19.63              219.22          0.55           0.10   \n",
              "4                   21.54              132.34          0.61           0.13   \n",
              "\n",
              "     EPS  EV/Net Operating Revenue  Change in Inventory    CPI  \\\n",
              "0  28.07                     52.15               -16.18  148.6   \n",
              "1  41.88                     39.81                21.20  150.4   \n",
              "2  42.16                     40.15                -8.62  145.8   \n",
              "3  18.73                     53.68               -25.40  142.9   \n",
              "4  27.76                     45.39                25.80  140.4   \n",
              "\n",
              "   Closing Stock Price  \n",
              "0              4109.05  \n",
              "1              4352.30  \n",
              "2              4685.15  \n",
              "3              4106.05  \n",
              "4              3673.65  "
            ],
            "text/html": [
              "\n",
              "  <div id=\"df-7e3663cf-5850-4e46-bc2b-6e0beccc4ea7\">\n",
              "    <div class=\"colab-df-container\">\n",
              "      <div>\n",
              "<style scoped>\n",
              "    .dataframe tbody tr th:only-of-type {\n",
              "        vertical-align: middle;\n",
              "    }\n",
              "\n",
              "    .dataframe tbody tr th {\n",
              "        vertical-align: top;\n",
              "    }\n",
              "\n",
              "    .dataframe thead th {\n",
              "        text-align: right;\n",
              "    }\n",
              "</style>\n",
              "<table border=\"1\" class=\"dataframe\">\n",
              "  <thead>\n",
              "    <tr style=\"text-align: right;\">\n",
              "      <th></th>\n",
              "      <th>Quarters</th>\n",
              "      <th>Company</th>\n",
              "      <th>Oil Price</th>\n",
              "      <th>Total Income From Operations</th>\n",
              "      <th>Return on Equity Ratio</th>\n",
              "      <th>Price-Equity Ratio</th>\n",
              "      <th>Gross Margin</th>\n",
              "      <th>Profit Margin</th>\n",
              "      <th>EPS</th>\n",
              "      <th>EV/Net Operating Revenue</th>\n",
              "      <th>Change in Inventory</th>\n",
              "      <th>CPI</th>\n",
              "      <th>Closing Stock Price</th>\n",
              "    </tr>\n",
              "  </thead>\n",
              "  <tbody>\n",
              "    <tr>\n",
              "      <th>0</th>\n",
              "      <td>Mar '20</td>\n",
              "      <td>Procter and Gamble</td>\n",
              "      <td>2392.98</td>\n",
              "      <td>656.05</td>\n",
              "      <td>20.21</td>\n",
              "      <td>146.39</td>\n",
              "      <td>0.64</td>\n",
              "      <td>0.14</td>\n",
              "      <td>28.07</td>\n",
              "      <td>52.15</td>\n",
              "      <td>-16.18</td>\n",
              "      <td>148.6</td>\n",
              "      <td>4109.05</td>\n",
              "    </tr>\n",
              "    <tr>\n",
              "      <th>1</th>\n",
              "      <td>Dec '19</td>\n",
              "      <td>Procter and Gamble</td>\n",
              "      <td>4509.77</td>\n",
              "      <td>859.27</td>\n",
              "      <td>26.47</td>\n",
              "      <td>103.92</td>\n",
              "      <td>0.65</td>\n",
              "      <td>0.16</td>\n",
              "      <td>41.88</td>\n",
              "      <td>39.81</td>\n",
              "      <td>21.20</td>\n",
              "      <td>150.4</td>\n",
              "      <td>4352.30</td>\n",
              "    </tr>\n",
              "    <tr>\n",
              "      <th>2</th>\n",
              "      <td>Sep '19</td>\n",
              "      <td>Procter and Gamble</td>\n",
              "      <td>4282.87</td>\n",
              "      <td>852.14</td>\n",
              "      <td>26.25</td>\n",
              "      <td>111.13</td>\n",
              "      <td>0.59</td>\n",
              "      <td>0.16</td>\n",
              "      <td>42.16</td>\n",
              "      <td>40.15</td>\n",
              "      <td>-8.62</td>\n",
              "      <td>145.8</td>\n",
              "      <td>4685.15</td>\n",
              "    </tr>\n",
              "    <tr>\n",
              "      <th>3</th>\n",
              "      <td>Jun '19</td>\n",
              "      <td>Procter and Gamble</td>\n",
              "      <td>4149.67</td>\n",
              "      <td>637.29</td>\n",
              "      <td>19.63</td>\n",
              "      <td>219.22</td>\n",
              "      <td>0.55</td>\n",
              "      <td>0.10</td>\n",
              "      <td>18.73</td>\n",
              "      <td>53.68</td>\n",
              "      <td>-25.40</td>\n",
              "      <td>142.9</td>\n",
              "      <td>4106.05</td>\n",
              "    </tr>\n",
              "    <tr>\n",
              "      <th>4</th>\n",
              "      <td>Mar '19</td>\n",
              "      <td>Procter and Gamble</td>\n",
              "      <td>4432.04</td>\n",
              "      <td>699.34</td>\n",
              "      <td>21.54</td>\n",
              "      <td>132.34</td>\n",
              "      <td>0.61</td>\n",
              "      <td>0.13</td>\n",
              "      <td>27.76</td>\n",
              "      <td>45.39</td>\n",
              "      <td>25.80</td>\n",
              "      <td>140.4</td>\n",
              "      <td>3673.65</td>\n",
              "    </tr>\n",
              "  </tbody>\n",
              "</table>\n",
              "</div>\n",
              "      <button class=\"colab-df-convert\" onclick=\"convertToInteractive('df-7e3663cf-5850-4e46-bc2b-6e0beccc4ea7')\"\n",
              "              title=\"Convert this dataframe to an interactive table.\"\n",
              "              style=\"display:none;\">\n",
              "        \n",
              "  <svg xmlns=\"http://www.w3.org/2000/svg\" height=\"24px\"viewBox=\"0 0 24 24\"\n",
              "       width=\"24px\">\n",
              "    <path d=\"M0 0h24v24H0V0z\" fill=\"none\"/>\n",
              "    <path d=\"M18.56 5.44l.94 2.06.94-2.06 2.06-.94-2.06-.94-.94-2.06-.94 2.06-2.06.94zm-11 1L8.5 8.5l.94-2.06 2.06-.94-2.06-.94L8.5 2.5l-.94 2.06-2.06.94zm10 10l.94 2.06.94-2.06 2.06-.94-2.06-.94-.94-2.06-.94 2.06-2.06.94z\"/><path d=\"M17.41 7.96l-1.37-1.37c-.4-.4-.92-.59-1.43-.59-.52 0-1.04.2-1.43.59L10.3 9.45l-7.72 7.72c-.78.78-.78 2.05 0 2.83L4 21.41c.39.39.9.59 1.41.59.51 0 1.02-.2 1.41-.59l7.78-7.78 2.81-2.81c.8-.78.8-2.07 0-2.86zM5.41 20L4 18.59l7.72-7.72 1.47 1.35L5.41 20z\"/>\n",
              "  </svg>\n",
              "      </button>\n",
              "      \n",
              "  <style>\n",
              "    .colab-df-container {\n",
              "      display:flex;\n",
              "      flex-wrap:wrap;\n",
              "      gap: 12px;\n",
              "    }\n",
              "\n",
              "    .colab-df-convert {\n",
              "      background-color: #E8F0FE;\n",
              "      border: none;\n",
              "      border-radius: 50%;\n",
              "      cursor: pointer;\n",
              "      display: none;\n",
              "      fill: #1967D2;\n",
              "      height: 32px;\n",
              "      padding: 0 0 0 0;\n",
              "      width: 32px;\n",
              "    }\n",
              "\n",
              "    .colab-df-convert:hover {\n",
              "      background-color: #E2EBFA;\n",
              "      box-shadow: 0px 1px 2px rgba(60, 64, 67, 0.3), 0px 1px 3px 1px rgba(60, 64, 67, 0.15);\n",
              "      fill: #174EA6;\n",
              "    }\n",
              "\n",
              "    [theme=dark] .colab-df-convert {\n",
              "      background-color: #3B4455;\n",
              "      fill: #D2E3FC;\n",
              "    }\n",
              "\n",
              "    [theme=dark] .colab-df-convert:hover {\n",
              "      background-color: #434B5C;\n",
              "      box-shadow: 0px 1px 3px 1px rgba(0, 0, 0, 0.15);\n",
              "      filter: drop-shadow(0px 1px 2px rgba(0, 0, 0, 0.3));\n",
              "      fill: #FFFFFF;\n",
              "    }\n",
              "  </style>\n",
              "\n",
              "      <script>\n",
              "        const buttonEl =\n",
              "          document.querySelector('#df-7e3663cf-5850-4e46-bc2b-6e0beccc4ea7 button.colab-df-convert');\n",
              "        buttonEl.style.display =\n",
              "          google.colab.kernel.accessAllowed ? 'block' : 'none';\n",
              "\n",
              "        async function convertToInteractive(key) {\n",
              "          const element = document.querySelector('#df-7e3663cf-5850-4e46-bc2b-6e0beccc4ea7');\n",
              "          const dataTable =\n",
              "            await google.colab.kernel.invokeFunction('convertToInteractive',\n",
              "                                                     [key], {});\n",
              "          if (!dataTable) return;\n",
              "\n",
              "          const docLinkHtml = 'Like what you see? Visit the ' +\n",
              "            '<a target=\"_blank\" href=https://colab.research.google.com/notebooks/data_table.ipynb>data table notebook</a>'\n",
              "            + ' to learn more about interactive tables.';\n",
              "          element.innerHTML = '';\n",
              "          dataTable['output_type'] = 'display_data';\n",
              "          await google.colab.output.renderOutput(dataTable, element);\n",
              "          const docLink = document.createElement('div');\n",
              "          docLink.innerHTML = docLinkHtml;\n",
              "          element.appendChild(docLink);\n",
              "        }\n",
              "      </script>\n",
              "    </div>\n",
              "  </div>\n",
              "  "
            ]
          },
          "metadata": {},
          "execution_count": 2
        }
      ]
    },
    {
      "cell_type": "code",
      "source": [
        "df.shape"
      ],
      "metadata": {
        "colab": {
          "base_uri": "https://localhost:8080/"
        },
        "id": "nHGufFzdM8db",
        "outputId": "a7e80770-8f15-43d9-f8d5-dad89afdd0fb"
      },
      "execution_count": null,
      "outputs": [
        {
          "output_type": "execute_result",
          "data": {
            "text/plain": [
              "(480, 13)"
            ]
          },
          "metadata": {},
          "execution_count": 3
        }
      ]
    },
    {
      "cell_type": "code",
      "source": [
        "df.info()"
      ],
      "metadata": {
        "colab": {
          "base_uri": "https://localhost:8080/"
        },
        "id": "zDxezWkcJRGL",
        "outputId": "b815a3d9-ab26-4cc6-abea-3e9785ad00e5"
      },
      "execution_count": null,
      "outputs": [
        {
          "output_type": "stream",
          "name": "stdout",
          "text": [
            "<class 'pandas.core.frame.DataFrame'>\n",
            "RangeIndex: 480 entries, 0 to 479\n",
            "Data columns (total 13 columns):\n",
            " #   Column                        Non-Null Count  Dtype  \n",
            "---  ------                        --------------  -----  \n",
            " 0   Quarters                      480 non-null    object \n",
            " 1   Company                       480 non-null    object \n",
            " 2   Oil Price                     480 non-null    float64\n",
            " 3   Total Income From Operations  480 non-null    float64\n",
            " 4   Return on Equity Ratio        480 non-null    float64\n",
            " 5   Price-Equity Ratio            480 non-null    float64\n",
            " 6   Gross Margin                  480 non-null    float64\n",
            " 7   Profit Margin                 480 non-null    float64\n",
            " 8   EPS                           480 non-null    float64\n",
            " 9   EV/Net Operating Revenue      480 non-null    float64\n",
            " 10  Change in Inventory           480 non-null    float64\n",
            " 11  CPI                           480 non-null    float64\n",
            " 12  Closing Stock Price           480 non-null    float64\n",
            "dtypes: float64(11), object(2)\n",
            "memory usage: 48.9+ KB\n"
          ]
        }
      ]
    },
    {
      "cell_type": "markdown",
      "source": [
        "## Creating y-variable"
      ],
      "metadata": {
        "id": "8WF_PLZ2oeZN"
      }
    },
    {
      "cell_type": "code",
      "source": [
        "df['Next Quarter StockPrice'] = df.groupby('Company')['Closing Stock Price'].shift(1)\n",
        "df.head()"
      ],
      "metadata": {
        "colab": {
          "base_uri": "https://localhost:8080/",
          "height": 476
        },
        "id": "UVQQjtVHoPoE",
        "outputId": "a839b49b-1d34-4c5d-c589-d5c84640bae3"
      },
      "execution_count": null,
      "outputs": [
        {
          "output_type": "execute_result",
          "data": {
            "text/plain": [
              "  Quarters             Company  Oil Price  Total Income From Operations  \\\n",
              "0  Mar '20  Procter and Gamble    2392.98                        656.05   \n",
              "1  Dec '19  Procter and Gamble    4509.77                        859.27   \n",
              "2  Sep '19  Procter and Gamble    4282.87                        852.14   \n",
              "3  Jun '19  Procter and Gamble    4149.67                        637.29   \n",
              "4  Mar '19  Procter and Gamble    4432.04                        699.34   \n",
              "\n",
              "   Return on Equity Ratio  Price-Equity Ratio  Gross Margin  Profit Margin  \\\n",
              "0                   20.21              146.39          0.64           0.14   \n",
              "1                   26.47              103.92          0.65           0.16   \n",
              "2                   26.25              111.13          0.59           0.16   \n",
              "3                   19.63              219.22          0.55           0.10   \n",
              "4                   21.54              132.34          0.61           0.13   \n",
              "\n",
              "     EPS  EV/Net Operating Revenue  Change in Inventory    CPI  \\\n",
              "0  28.07                     52.15               -16.18  148.6   \n",
              "1  41.88                     39.81                21.20  150.4   \n",
              "2  42.16                     40.15                -8.62  145.8   \n",
              "3  18.73                     53.68               -25.40  142.9   \n",
              "4  27.76                     45.39                25.80  140.4   \n",
              "\n",
              "   Closing Stock Price  Next Quarter StockPrice  \n",
              "0              4109.05                      NaN  \n",
              "1              4352.30                  4109.05  \n",
              "2              4685.15                  4352.30  \n",
              "3              4106.05                  4685.15  \n",
              "4              3673.65                  4106.05  "
            ],
            "text/html": [
              "\n",
              "  <div id=\"df-40addc12-a418-4bd7-944b-ee1ae8efdcd5\">\n",
              "    <div class=\"colab-df-container\">\n",
              "      <div>\n",
              "<style scoped>\n",
              "    .dataframe tbody tr th:only-of-type {\n",
              "        vertical-align: middle;\n",
              "    }\n",
              "\n",
              "    .dataframe tbody tr th {\n",
              "        vertical-align: top;\n",
              "    }\n",
              "\n",
              "    .dataframe thead th {\n",
              "        text-align: right;\n",
              "    }\n",
              "</style>\n",
              "<table border=\"1\" class=\"dataframe\">\n",
              "  <thead>\n",
              "    <tr style=\"text-align: right;\">\n",
              "      <th></th>\n",
              "      <th>Quarters</th>\n",
              "      <th>Company</th>\n",
              "      <th>Oil Price</th>\n",
              "      <th>Total Income From Operations</th>\n",
              "      <th>Return on Equity Ratio</th>\n",
              "      <th>Price-Equity Ratio</th>\n",
              "      <th>Gross Margin</th>\n",
              "      <th>Profit Margin</th>\n",
              "      <th>EPS</th>\n",
              "      <th>EV/Net Operating Revenue</th>\n",
              "      <th>Change in Inventory</th>\n",
              "      <th>CPI</th>\n",
              "      <th>Closing Stock Price</th>\n",
              "      <th>Next Quarter StockPrice</th>\n",
              "    </tr>\n",
              "  </thead>\n",
              "  <tbody>\n",
              "    <tr>\n",
              "      <th>0</th>\n",
              "      <td>Mar '20</td>\n",
              "      <td>Procter and Gamble</td>\n",
              "      <td>2392.98</td>\n",
              "      <td>656.05</td>\n",
              "      <td>20.21</td>\n",
              "      <td>146.39</td>\n",
              "      <td>0.64</td>\n",
              "      <td>0.14</td>\n",
              "      <td>28.07</td>\n",
              "      <td>52.15</td>\n",
              "      <td>-16.18</td>\n",
              "      <td>148.6</td>\n",
              "      <td>4109.05</td>\n",
              "      <td>NaN</td>\n",
              "    </tr>\n",
              "    <tr>\n",
              "      <th>1</th>\n",
              "      <td>Dec '19</td>\n",
              "      <td>Procter and Gamble</td>\n",
              "      <td>4509.77</td>\n",
              "      <td>859.27</td>\n",
              "      <td>26.47</td>\n",
              "      <td>103.92</td>\n",
              "      <td>0.65</td>\n",
              "      <td>0.16</td>\n",
              "      <td>41.88</td>\n",
              "      <td>39.81</td>\n",
              "      <td>21.20</td>\n",
              "      <td>150.4</td>\n",
              "      <td>4352.30</td>\n",
              "      <td>4109.05</td>\n",
              "    </tr>\n",
              "    <tr>\n",
              "      <th>2</th>\n",
              "      <td>Sep '19</td>\n",
              "      <td>Procter and Gamble</td>\n",
              "      <td>4282.87</td>\n",
              "      <td>852.14</td>\n",
              "      <td>26.25</td>\n",
              "      <td>111.13</td>\n",
              "      <td>0.59</td>\n",
              "      <td>0.16</td>\n",
              "      <td>42.16</td>\n",
              "      <td>40.15</td>\n",
              "      <td>-8.62</td>\n",
              "      <td>145.8</td>\n",
              "      <td>4685.15</td>\n",
              "      <td>4352.30</td>\n",
              "    </tr>\n",
              "    <tr>\n",
              "      <th>3</th>\n",
              "      <td>Jun '19</td>\n",
              "      <td>Procter and Gamble</td>\n",
              "      <td>4149.67</td>\n",
              "      <td>637.29</td>\n",
              "      <td>19.63</td>\n",
              "      <td>219.22</td>\n",
              "      <td>0.55</td>\n",
              "      <td>0.10</td>\n",
              "      <td>18.73</td>\n",
              "      <td>53.68</td>\n",
              "      <td>-25.40</td>\n",
              "      <td>142.9</td>\n",
              "      <td>4106.05</td>\n",
              "      <td>4685.15</td>\n",
              "    </tr>\n",
              "    <tr>\n",
              "      <th>4</th>\n",
              "      <td>Mar '19</td>\n",
              "      <td>Procter and Gamble</td>\n",
              "      <td>4432.04</td>\n",
              "      <td>699.34</td>\n",
              "      <td>21.54</td>\n",
              "      <td>132.34</td>\n",
              "      <td>0.61</td>\n",
              "      <td>0.13</td>\n",
              "      <td>27.76</td>\n",
              "      <td>45.39</td>\n",
              "      <td>25.80</td>\n",
              "      <td>140.4</td>\n",
              "      <td>3673.65</td>\n",
              "      <td>4106.05</td>\n",
              "    </tr>\n",
              "  </tbody>\n",
              "</table>\n",
              "</div>\n",
              "      <button class=\"colab-df-convert\" onclick=\"convertToInteractive('df-40addc12-a418-4bd7-944b-ee1ae8efdcd5')\"\n",
              "              title=\"Convert this dataframe to an interactive table.\"\n",
              "              style=\"display:none;\">\n",
              "        \n",
              "  <svg xmlns=\"http://www.w3.org/2000/svg\" height=\"24px\"viewBox=\"0 0 24 24\"\n",
              "       width=\"24px\">\n",
              "    <path d=\"M0 0h24v24H0V0z\" fill=\"none\"/>\n",
              "    <path d=\"M18.56 5.44l.94 2.06.94-2.06 2.06-.94-2.06-.94-.94-2.06-.94 2.06-2.06.94zm-11 1L8.5 8.5l.94-2.06 2.06-.94-2.06-.94L8.5 2.5l-.94 2.06-2.06.94zm10 10l.94 2.06.94-2.06 2.06-.94-2.06-.94-.94-2.06-.94 2.06-2.06.94z\"/><path d=\"M17.41 7.96l-1.37-1.37c-.4-.4-.92-.59-1.43-.59-.52 0-1.04.2-1.43.59L10.3 9.45l-7.72 7.72c-.78.78-.78 2.05 0 2.83L4 21.41c.39.39.9.59 1.41.59.51 0 1.02-.2 1.41-.59l7.78-7.78 2.81-2.81c.8-.78.8-2.07 0-2.86zM5.41 20L4 18.59l7.72-7.72 1.47 1.35L5.41 20z\"/>\n",
              "  </svg>\n",
              "      </button>\n",
              "      \n",
              "  <style>\n",
              "    .colab-df-container {\n",
              "      display:flex;\n",
              "      flex-wrap:wrap;\n",
              "      gap: 12px;\n",
              "    }\n",
              "\n",
              "    .colab-df-convert {\n",
              "      background-color: #E8F0FE;\n",
              "      border: none;\n",
              "      border-radius: 50%;\n",
              "      cursor: pointer;\n",
              "      display: none;\n",
              "      fill: #1967D2;\n",
              "      height: 32px;\n",
              "      padding: 0 0 0 0;\n",
              "      width: 32px;\n",
              "    }\n",
              "\n",
              "    .colab-df-convert:hover {\n",
              "      background-color: #E2EBFA;\n",
              "      box-shadow: 0px 1px 2px rgba(60, 64, 67, 0.3), 0px 1px 3px 1px rgba(60, 64, 67, 0.15);\n",
              "      fill: #174EA6;\n",
              "    }\n",
              "\n",
              "    [theme=dark] .colab-df-convert {\n",
              "      background-color: #3B4455;\n",
              "      fill: #D2E3FC;\n",
              "    }\n",
              "\n",
              "    [theme=dark] .colab-df-convert:hover {\n",
              "      background-color: #434B5C;\n",
              "      box-shadow: 0px 1px 3px 1px rgba(0, 0, 0, 0.15);\n",
              "      filter: drop-shadow(0px 1px 2px rgba(0, 0, 0, 0.3));\n",
              "      fill: #FFFFFF;\n",
              "    }\n",
              "  </style>\n",
              "\n",
              "      <script>\n",
              "        const buttonEl =\n",
              "          document.querySelector('#df-40addc12-a418-4bd7-944b-ee1ae8efdcd5 button.colab-df-convert');\n",
              "        buttonEl.style.display =\n",
              "          google.colab.kernel.accessAllowed ? 'block' : 'none';\n",
              "\n",
              "        async function convertToInteractive(key) {\n",
              "          const element = document.querySelector('#df-40addc12-a418-4bd7-944b-ee1ae8efdcd5');\n",
              "          const dataTable =\n",
              "            await google.colab.kernel.invokeFunction('convertToInteractive',\n",
              "                                                     [key], {});\n",
              "          if (!dataTable) return;\n",
              "\n",
              "          const docLinkHtml = 'Like what you see? Visit the ' +\n",
              "            '<a target=\"_blank\" href=https://colab.research.google.com/notebooks/data_table.ipynb>data table notebook</a>'\n",
              "            + ' to learn more about interactive tables.';\n",
              "          element.innerHTML = '';\n",
              "          dataTable['output_type'] = 'display_data';\n",
              "          await google.colab.output.renderOutput(dataTable, element);\n",
              "          const docLink = document.createElement('div');\n",
              "          docLink.innerHTML = docLinkHtml;\n",
              "          element.appendChild(docLink);\n",
              "        }\n",
              "      </script>\n",
              "    </div>\n",
              "  </div>\n",
              "  "
            ]
          },
          "metadata": {},
          "execution_count": 5
        }
      ]
    },
    {
      "cell_type": "code",
      "source": [
        "df.iloc[20:26]"
      ],
      "metadata": {
        "colab": {
          "base_uri": "https://localhost:8080/",
          "height": 472
        },
        "id": "I0_7LpqjpU3r",
        "outputId": "a28bc43a-8557-460d-ce49-dd3d04ad6869"
      },
      "execution_count": null,
      "outputs": [
        {
          "output_type": "execute_result",
          "data": {
            "text/plain": [
              "   Quarters                 Company  Oil Price  Total Income From Operations  \\\n",
              "20  Mar '15      Procter and Gamble    3299.23                        555.23   \n",
              "21  Dec '14      Procter and Gamble    3806.55                        644.51   \n",
              "22  Sep '14      Procter and Gamble    5835.69                        576.49   \n",
              "23  Jun '14      Procter and Gamble    6471.05                        486.10   \n",
              "24  Mar '20  Tata Consumer Products    2392.98                       1335.31   \n",
              "25  Dec '19  Tata Consumer Products    4509.77                       1463.45   \n",
              "\n",
              "    Return on Equity Ratio  Price-Equity Ratio  Gross Margin  Profit Margin  \\\n",
              "20                   17.11               34.07          0.86           0.16   \n",
              "21                   19.86               28.46          0.86           0.14   \n",
              "22                   17.76               44.80          0.55           0.11   \n",
              "23                   14.98               26.85          0.61           0.18   \n",
              "24                   14.49              477.86          0.39           0.12   \n",
              "25                   15.88              207.13          0.38           0.10   \n",
              "\n",
              "      EPS  EV/Net Operating Revenue  Change in Inventory    CPI  \\\n",
              "20  26.77                     24.42                22.85  120.2   \n",
              "21  27.93                     21.03                 8.77  119.4   \n",
              "22  18.95                     23.51               -19.46  120.1   \n",
              "23  27.70                     27.89               -17.24  116.7   \n",
              "24   0.77                     19.82               -26.40  148.6   \n",
              "25   1.55                     18.08               -10.28  150.4   \n",
              "\n",
              "    Closing Stock Price  Next Quarter StockPrice  \n",
              "20               912.00                   800.75  \n",
              "21               794.80                   912.00  \n",
              "22               848.95                   794.80  \n",
              "23               743.75                   848.95  \n",
              "24               367.95                      NaN  \n",
              "25               321.05                   367.95  "
            ],
            "text/html": [
              "\n",
              "  <div id=\"df-3f98a288-a4f9-401d-b9b1-b5b4a7a9a884\">\n",
              "    <div class=\"colab-df-container\">\n",
              "      <div>\n",
              "<style scoped>\n",
              "    .dataframe tbody tr th:only-of-type {\n",
              "        vertical-align: middle;\n",
              "    }\n",
              "\n",
              "    .dataframe tbody tr th {\n",
              "        vertical-align: top;\n",
              "    }\n",
              "\n",
              "    .dataframe thead th {\n",
              "        text-align: right;\n",
              "    }\n",
              "</style>\n",
              "<table border=\"1\" class=\"dataframe\">\n",
              "  <thead>\n",
              "    <tr style=\"text-align: right;\">\n",
              "      <th></th>\n",
              "      <th>Quarters</th>\n",
              "      <th>Company</th>\n",
              "      <th>Oil Price</th>\n",
              "      <th>Total Income From Operations</th>\n",
              "      <th>Return on Equity Ratio</th>\n",
              "      <th>Price-Equity Ratio</th>\n",
              "      <th>Gross Margin</th>\n",
              "      <th>Profit Margin</th>\n",
              "      <th>EPS</th>\n",
              "      <th>EV/Net Operating Revenue</th>\n",
              "      <th>Change in Inventory</th>\n",
              "      <th>CPI</th>\n",
              "      <th>Closing Stock Price</th>\n",
              "      <th>Next Quarter StockPrice</th>\n",
              "    </tr>\n",
              "  </thead>\n",
              "  <tbody>\n",
              "    <tr>\n",
              "      <th>20</th>\n",
              "      <td>Mar '15</td>\n",
              "      <td>Procter and Gamble</td>\n",
              "      <td>3299.23</td>\n",
              "      <td>555.23</td>\n",
              "      <td>17.11</td>\n",
              "      <td>34.07</td>\n",
              "      <td>0.86</td>\n",
              "      <td>0.16</td>\n",
              "      <td>26.77</td>\n",
              "      <td>24.42</td>\n",
              "      <td>22.85</td>\n",
              "      <td>120.2</td>\n",
              "      <td>912.00</td>\n",
              "      <td>800.75</td>\n",
              "    </tr>\n",
              "    <tr>\n",
              "      <th>21</th>\n",
              "      <td>Dec '14</td>\n",
              "      <td>Procter and Gamble</td>\n",
              "      <td>3806.55</td>\n",
              "      <td>644.51</td>\n",
              "      <td>19.86</td>\n",
              "      <td>28.46</td>\n",
              "      <td>0.86</td>\n",
              "      <td>0.14</td>\n",
              "      <td>27.93</td>\n",
              "      <td>21.03</td>\n",
              "      <td>8.77</td>\n",
              "      <td>119.4</td>\n",
              "      <td>794.80</td>\n",
              "      <td>912.00</td>\n",
              "    </tr>\n",
              "    <tr>\n",
              "      <th>22</th>\n",
              "      <td>Sep '14</td>\n",
              "      <td>Procter and Gamble</td>\n",
              "      <td>5835.69</td>\n",
              "      <td>576.49</td>\n",
              "      <td>17.76</td>\n",
              "      <td>44.80</td>\n",
              "      <td>0.55</td>\n",
              "      <td>0.11</td>\n",
              "      <td>18.95</td>\n",
              "      <td>23.51</td>\n",
              "      <td>-19.46</td>\n",
              "      <td>120.1</td>\n",
              "      <td>848.95</td>\n",
              "      <td>794.80</td>\n",
              "    </tr>\n",
              "    <tr>\n",
              "      <th>23</th>\n",
              "      <td>Jun '14</td>\n",
              "      <td>Procter and Gamble</td>\n",
              "      <td>6471.05</td>\n",
              "      <td>486.10</td>\n",
              "      <td>14.98</td>\n",
              "      <td>26.85</td>\n",
              "      <td>0.61</td>\n",
              "      <td>0.18</td>\n",
              "      <td>27.70</td>\n",
              "      <td>27.89</td>\n",
              "      <td>-17.24</td>\n",
              "      <td>116.7</td>\n",
              "      <td>743.75</td>\n",
              "      <td>848.95</td>\n",
              "    </tr>\n",
              "    <tr>\n",
              "      <th>24</th>\n",
              "      <td>Mar '20</td>\n",
              "      <td>Tata Consumer Products</td>\n",
              "      <td>2392.98</td>\n",
              "      <td>1335.31</td>\n",
              "      <td>14.49</td>\n",
              "      <td>477.86</td>\n",
              "      <td>0.39</td>\n",
              "      <td>0.12</td>\n",
              "      <td>0.77</td>\n",
              "      <td>19.82</td>\n",
              "      <td>-26.40</td>\n",
              "      <td>148.6</td>\n",
              "      <td>367.95</td>\n",
              "      <td>NaN</td>\n",
              "    </tr>\n",
              "    <tr>\n",
              "      <th>25</th>\n",
              "      <td>Dec '19</td>\n",
              "      <td>Tata Consumer Products</td>\n",
              "      <td>4509.77</td>\n",
              "      <td>1463.45</td>\n",
              "      <td>15.88</td>\n",
              "      <td>207.13</td>\n",
              "      <td>0.38</td>\n",
              "      <td>0.10</td>\n",
              "      <td>1.55</td>\n",
              "      <td>18.08</td>\n",
              "      <td>-10.28</td>\n",
              "      <td>150.4</td>\n",
              "      <td>321.05</td>\n",
              "      <td>367.95</td>\n",
              "    </tr>\n",
              "  </tbody>\n",
              "</table>\n",
              "</div>\n",
              "      <button class=\"colab-df-convert\" onclick=\"convertToInteractive('df-3f98a288-a4f9-401d-b9b1-b5b4a7a9a884')\"\n",
              "              title=\"Convert this dataframe to an interactive table.\"\n",
              "              style=\"display:none;\">\n",
              "        \n",
              "  <svg xmlns=\"http://www.w3.org/2000/svg\" height=\"24px\"viewBox=\"0 0 24 24\"\n",
              "       width=\"24px\">\n",
              "    <path d=\"M0 0h24v24H0V0z\" fill=\"none\"/>\n",
              "    <path d=\"M18.56 5.44l.94 2.06.94-2.06 2.06-.94-2.06-.94-.94-2.06-.94 2.06-2.06.94zm-11 1L8.5 8.5l.94-2.06 2.06-.94-2.06-.94L8.5 2.5l-.94 2.06-2.06.94zm10 10l.94 2.06.94-2.06 2.06-.94-2.06-.94-.94-2.06-.94 2.06-2.06.94z\"/><path d=\"M17.41 7.96l-1.37-1.37c-.4-.4-.92-.59-1.43-.59-.52 0-1.04.2-1.43.59L10.3 9.45l-7.72 7.72c-.78.78-.78 2.05 0 2.83L4 21.41c.39.39.9.59 1.41.59.51 0 1.02-.2 1.41-.59l7.78-7.78 2.81-2.81c.8-.78.8-2.07 0-2.86zM5.41 20L4 18.59l7.72-7.72 1.47 1.35L5.41 20z\"/>\n",
              "  </svg>\n",
              "      </button>\n",
              "      \n",
              "  <style>\n",
              "    .colab-df-container {\n",
              "      display:flex;\n",
              "      flex-wrap:wrap;\n",
              "      gap: 12px;\n",
              "    }\n",
              "\n",
              "    .colab-df-convert {\n",
              "      background-color: #E8F0FE;\n",
              "      border: none;\n",
              "      border-radius: 50%;\n",
              "      cursor: pointer;\n",
              "      display: none;\n",
              "      fill: #1967D2;\n",
              "      height: 32px;\n",
              "      padding: 0 0 0 0;\n",
              "      width: 32px;\n",
              "    }\n",
              "\n",
              "    .colab-df-convert:hover {\n",
              "      background-color: #E2EBFA;\n",
              "      box-shadow: 0px 1px 2px rgba(60, 64, 67, 0.3), 0px 1px 3px 1px rgba(60, 64, 67, 0.15);\n",
              "      fill: #174EA6;\n",
              "    }\n",
              "\n",
              "    [theme=dark] .colab-df-convert {\n",
              "      background-color: #3B4455;\n",
              "      fill: #D2E3FC;\n",
              "    }\n",
              "\n",
              "    [theme=dark] .colab-df-convert:hover {\n",
              "      background-color: #434B5C;\n",
              "      box-shadow: 0px 1px 3px 1px rgba(0, 0, 0, 0.15);\n",
              "      filter: drop-shadow(0px 1px 2px rgba(0, 0, 0, 0.3));\n",
              "      fill: #FFFFFF;\n",
              "    }\n",
              "  </style>\n",
              "\n",
              "      <script>\n",
              "        const buttonEl =\n",
              "          document.querySelector('#df-3f98a288-a4f9-401d-b9b1-b5b4a7a9a884 button.colab-df-convert');\n",
              "        buttonEl.style.display =\n",
              "          google.colab.kernel.accessAllowed ? 'block' : 'none';\n",
              "\n",
              "        async function convertToInteractive(key) {\n",
              "          const element = document.querySelector('#df-3f98a288-a4f9-401d-b9b1-b5b4a7a9a884');\n",
              "          const dataTable =\n",
              "            await google.colab.kernel.invokeFunction('convertToInteractive',\n",
              "                                                     [key], {});\n",
              "          if (!dataTable) return;\n",
              "\n",
              "          const docLinkHtml = 'Like what you see? Visit the ' +\n",
              "            '<a target=\"_blank\" href=https://colab.research.google.com/notebooks/data_table.ipynb>data table notebook</a>'\n",
              "            + ' to learn more about interactive tables.';\n",
              "          element.innerHTML = '';\n",
              "          dataTable['output_type'] = 'display_data';\n",
              "          await google.colab.output.renderOutput(dataTable, element);\n",
              "          const docLink = document.createElement('div');\n",
              "          docLink.innerHTML = docLinkHtml;\n",
              "          element.appendChild(docLink);\n",
              "        }\n",
              "      </script>\n",
              "    </div>\n",
              "  </div>\n",
              "  "
            ]
          },
          "metadata": {},
          "execution_count": 6
        }
      ]
    },
    {
      "cell_type": "markdown",
      "source": [
        "## Train Test Split"
      ],
      "metadata": {
        "id": "uPu6nSoao8An"
      }
    },
    {
      "cell_type": "code",
      "source": [
        "df_test = df[df[\"Quarters\"].isin([\"Mar '20\",\"Dec '19\",\"Sep '19\",\"Jun '19\"])]\n",
        "df_train = df[~df['Quarters'].isin(df_test['Quarters'])]\n",
        "\n",
        "df_train.shape, df_test.shape"
      ],
      "metadata": {
        "colab": {
          "base_uri": "https://localhost:8080/"
        },
        "id": "tjzLSTFmo_Cw",
        "outputId": "b263fcaf-bee6-4c48-98ad-a96d200e1c36"
      },
      "execution_count": null,
      "outputs": [
        {
          "output_type": "execute_result",
          "data": {
            "text/plain": [
              "((400, 14), (80, 14))"
            ]
          },
          "metadata": {},
          "execution_count": 7
        }
      ]
    },
    {
      "cell_type": "code",
      "source": [
        "y_train = df_train[\"Next Quarter StockPrice\"]\n",
        "X_train = df_train.drop(\"Next Quarter StockPrice\",axis=1)\n",
        "y_test = df_test[\"Next Quarter StockPrice\"]\n",
        "X_test = df_test.drop(\"Next Quarter StockPrice\",axis=1)\n",
        "\n",
        "X_train.shape, y_train.shape"
      ],
      "metadata": {
        "colab": {
          "base_uri": "https://localhost:8080/"
        },
        "id": "cAoXwi-DKVFJ",
        "outputId": "72324dcd-2e77-4e8b-c9c3-cec4748344d7"
      },
      "execution_count": null,
      "outputs": [
        {
          "output_type": "execute_result",
          "data": {
            "text/plain": [
              "((400, 13), (400,))"
            ]
          },
          "metadata": {},
          "execution_count": 8
        }
      ]
    },
    {
      "cell_type": "markdown",
      "source": [
        "## Preprocessing Function"
      ],
      "metadata": {
        "id": "QlfHPVZb0qzL"
      }
    },
    {
      "cell_type": "code",
      "source": [
        "def preprocessor(df):\n",
        "  df['Month'],df['Year'] = df['Quarters'].str.split().str\n",
        "  df['Year'] = df['Year'].str.replace(\"'\",\"\").astype(int)\n",
        "  print(\"Quarter column split in Month and Year\")\n",
        "  df.drop(\"Quarters\",axis=1,inplace=True)\n",
        "  print(\"Quarter column dropped from dataframe\")"
      ],
      "metadata": {
        "id": "P_JA7jiI0t3v"
      },
      "execution_count": null,
      "outputs": []
    },
    {
      "cell_type": "code",
      "source": [
        "preprocessor(X_train)\n",
        "preprocessor(X_test)\n",
        "X_train.head(2)"
      ],
      "metadata": {
        "colab": {
          "base_uri": "https://localhost:8080/",
          "height": 333
        },
        "id": "cBbH7Dvx4Nmy",
        "outputId": "bd106eb4-a010-4d0e-fc32-d9d2e778e229"
      },
      "execution_count": null,
      "outputs": [
        {
          "output_type": "stream",
          "name": "stdout",
          "text": [
            "Quarter column split in Month and Year\n",
            "Quarter column dropped from dataframe\n",
            "Quarter column split in Month and Year\n",
            "Quarter column dropped from dataframe\n"
          ]
        },
        {
          "output_type": "execute_result",
          "data": {
            "text/plain": [
              "              Company  Oil Price  Total Income From Operations  \\\n",
              "4  Procter and Gamble    4432.04                        699.34   \n",
              "5  Procter and Gamble    3822.07                        818.07   \n",
              "\n",
              "   Return on Equity Ratio  Price-Equity Ratio  Gross Margin  Profit Margin  \\\n",
              "4                   21.54              132.34          0.61           0.13   \n",
              "5                   25.20               80.65          0.57           0.15   \n",
              "\n",
              "     EPS  EV/Net Operating Revenue  Change in Inventory    CPI  \\\n",
              "4  27.76                     45.39                25.80  140.4   \n",
              "5  38.24                     38.80                11.46  140.1   \n",
              "\n",
              "   Closing Stock Price Month  Year  \n",
              "4              3673.65   Mar    19  \n",
              "5              3084.20   Dec    18  "
            ],
            "text/html": [
              "\n",
              "  <div id=\"df-e1f9c2d7-01b2-4fce-a445-1459affc20cc\">\n",
              "    <div class=\"colab-df-container\">\n",
              "      <div>\n",
              "<style scoped>\n",
              "    .dataframe tbody tr th:only-of-type {\n",
              "        vertical-align: middle;\n",
              "    }\n",
              "\n",
              "    .dataframe tbody tr th {\n",
              "        vertical-align: top;\n",
              "    }\n",
              "\n",
              "    .dataframe thead th {\n",
              "        text-align: right;\n",
              "    }\n",
              "</style>\n",
              "<table border=\"1\" class=\"dataframe\">\n",
              "  <thead>\n",
              "    <tr style=\"text-align: right;\">\n",
              "      <th></th>\n",
              "      <th>Company</th>\n",
              "      <th>Oil Price</th>\n",
              "      <th>Total Income From Operations</th>\n",
              "      <th>Return on Equity Ratio</th>\n",
              "      <th>Price-Equity Ratio</th>\n",
              "      <th>Gross Margin</th>\n",
              "      <th>Profit Margin</th>\n",
              "      <th>EPS</th>\n",
              "      <th>EV/Net Operating Revenue</th>\n",
              "      <th>Change in Inventory</th>\n",
              "      <th>CPI</th>\n",
              "      <th>Closing Stock Price</th>\n",
              "      <th>Month</th>\n",
              "      <th>Year</th>\n",
              "    </tr>\n",
              "  </thead>\n",
              "  <tbody>\n",
              "    <tr>\n",
              "      <th>4</th>\n",
              "      <td>Procter and Gamble</td>\n",
              "      <td>4432.04</td>\n",
              "      <td>699.34</td>\n",
              "      <td>21.54</td>\n",
              "      <td>132.34</td>\n",
              "      <td>0.61</td>\n",
              "      <td>0.13</td>\n",
              "      <td>27.76</td>\n",
              "      <td>45.39</td>\n",
              "      <td>25.80</td>\n",
              "      <td>140.4</td>\n",
              "      <td>3673.65</td>\n",
              "      <td>Mar</td>\n",
              "      <td>19</td>\n",
              "    </tr>\n",
              "    <tr>\n",
              "      <th>5</th>\n",
              "      <td>Procter and Gamble</td>\n",
              "      <td>3822.07</td>\n",
              "      <td>818.07</td>\n",
              "      <td>25.20</td>\n",
              "      <td>80.65</td>\n",
              "      <td>0.57</td>\n",
              "      <td>0.15</td>\n",
              "      <td>38.24</td>\n",
              "      <td>38.80</td>\n",
              "      <td>11.46</td>\n",
              "      <td>140.1</td>\n",
              "      <td>3084.20</td>\n",
              "      <td>Dec</td>\n",
              "      <td>18</td>\n",
              "    </tr>\n",
              "  </tbody>\n",
              "</table>\n",
              "</div>\n",
              "      <button class=\"colab-df-convert\" onclick=\"convertToInteractive('df-e1f9c2d7-01b2-4fce-a445-1459affc20cc')\"\n",
              "              title=\"Convert this dataframe to an interactive table.\"\n",
              "              style=\"display:none;\">\n",
              "        \n",
              "  <svg xmlns=\"http://www.w3.org/2000/svg\" height=\"24px\"viewBox=\"0 0 24 24\"\n",
              "       width=\"24px\">\n",
              "    <path d=\"M0 0h24v24H0V0z\" fill=\"none\"/>\n",
              "    <path d=\"M18.56 5.44l.94 2.06.94-2.06 2.06-.94-2.06-.94-.94-2.06-.94 2.06-2.06.94zm-11 1L8.5 8.5l.94-2.06 2.06-.94-2.06-.94L8.5 2.5l-.94 2.06-2.06.94zm10 10l.94 2.06.94-2.06 2.06-.94-2.06-.94-.94-2.06-.94 2.06-2.06.94z\"/><path d=\"M17.41 7.96l-1.37-1.37c-.4-.4-.92-.59-1.43-.59-.52 0-1.04.2-1.43.59L10.3 9.45l-7.72 7.72c-.78.78-.78 2.05 0 2.83L4 21.41c.39.39.9.59 1.41.59.51 0 1.02-.2 1.41-.59l7.78-7.78 2.81-2.81c.8-.78.8-2.07 0-2.86zM5.41 20L4 18.59l7.72-7.72 1.47 1.35L5.41 20z\"/>\n",
              "  </svg>\n",
              "      </button>\n",
              "      \n",
              "  <style>\n",
              "    .colab-df-container {\n",
              "      display:flex;\n",
              "      flex-wrap:wrap;\n",
              "      gap: 12px;\n",
              "    }\n",
              "\n",
              "    .colab-df-convert {\n",
              "      background-color: #E8F0FE;\n",
              "      border: none;\n",
              "      border-radius: 50%;\n",
              "      cursor: pointer;\n",
              "      display: none;\n",
              "      fill: #1967D2;\n",
              "      height: 32px;\n",
              "      padding: 0 0 0 0;\n",
              "      width: 32px;\n",
              "    }\n",
              "\n",
              "    .colab-df-convert:hover {\n",
              "      background-color: #E2EBFA;\n",
              "      box-shadow: 0px 1px 2px rgba(60, 64, 67, 0.3), 0px 1px 3px 1px rgba(60, 64, 67, 0.15);\n",
              "      fill: #174EA6;\n",
              "    }\n",
              "\n",
              "    [theme=dark] .colab-df-convert {\n",
              "      background-color: #3B4455;\n",
              "      fill: #D2E3FC;\n",
              "    }\n",
              "\n",
              "    [theme=dark] .colab-df-convert:hover {\n",
              "      background-color: #434B5C;\n",
              "      box-shadow: 0px 1px 3px 1px rgba(0, 0, 0, 0.15);\n",
              "      filter: drop-shadow(0px 1px 2px rgba(0, 0, 0, 0.3));\n",
              "      fill: #FFFFFF;\n",
              "    }\n",
              "  </style>\n",
              "\n",
              "      <script>\n",
              "        const buttonEl =\n",
              "          document.querySelector('#df-e1f9c2d7-01b2-4fce-a445-1459affc20cc button.colab-df-convert');\n",
              "        buttonEl.style.display =\n",
              "          google.colab.kernel.accessAllowed ? 'block' : 'none';\n",
              "\n",
              "        async function convertToInteractive(key) {\n",
              "          const element = document.querySelector('#df-e1f9c2d7-01b2-4fce-a445-1459affc20cc');\n",
              "          const dataTable =\n",
              "            await google.colab.kernel.invokeFunction('convertToInteractive',\n",
              "                                                     [key], {});\n",
              "          if (!dataTable) return;\n",
              "\n",
              "          const docLinkHtml = 'Like what you see? Visit the ' +\n",
              "            '<a target=\"_blank\" href=https://colab.research.google.com/notebooks/data_table.ipynb>data table notebook</a>'\n",
              "            + ' to learn more about interactive tables.';\n",
              "          element.innerHTML = '';\n",
              "          dataTable['output_type'] = 'display_data';\n",
              "          await google.colab.output.renderOutput(dataTable, element);\n",
              "          const docLink = document.createElement('div');\n",
              "          docLink.innerHTML = docLinkHtml;\n",
              "          element.appendChild(docLink);\n",
              "        }\n",
              "      </script>\n",
              "    </div>\n",
              "  </div>\n",
              "  "
            ]
          },
          "metadata": {},
          "execution_count": 10
        }
      ]
    },
    {
      "cell_type": "markdown",
      "source": [
        "## Split Categorical and Numerical variables"
      ],
      "metadata": {
        "id": "yypXcp0XMp5f"
      }
    },
    {
      "cell_type": "code",
      "source": [
        "all_cols = list(X_train.columns)\n",
        "cat_cols = list(X_train.select_dtypes(\"object\").columns)\n",
        "num_cols = list(set(all_cols)- set(cat_cols))\n",
        "num_cols"
      ],
      "metadata": {
        "colab": {
          "base_uri": "https://localhost:8080/"
        },
        "id": "G55VBQztMR1U",
        "outputId": "cdd57bc0-f10e-4e85-bf6b-6b67077676d9"
      },
      "execution_count": null,
      "outputs": [
        {
          "output_type": "execute_result",
          "data": {
            "text/plain": [
              "['Gross Margin',\n",
              " 'EV/Net Operating Revenue',\n",
              " 'CPI',\n",
              " 'Closing Stock Price',\n",
              " 'Return on Equity Ratio',\n",
              " 'Change in Inventory',\n",
              " 'Oil Price',\n",
              " 'Profit Margin',\n",
              " 'Price-Equity Ratio',\n",
              " 'Total Income From Operations',\n",
              " 'EPS',\n",
              " 'Year']"
            ]
          },
          "metadata": {},
          "execution_count": 11
        }
      ]
    },
    {
      "cell_type": "markdown",
      "source": [
        "## One Hot Encoding for Categorical Variables"
      ],
      "metadata": {
        "id": "vYYcRNcSOA1m"
      }
    },
    {
      "cell_type": "code",
      "source": [
        "from sklearn.preprocessing import OneHotEncoder\n",
        "ohe_encoder = OneHotEncoder(handle_unknown='ignore')\n",
        "ohe_encoder.fit(X_train[cat_cols])\n",
        "ohe_encoder.categories_"
      ],
      "metadata": {
        "colab": {
          "base_uri": "https://localhost:8080/"
        },
        "id": "LyNPyYUPM0eO",
        "outputId": "c4df9b7b-f521-4180-e767-fda452f349a4"
      },
      "execution_count": null,
      "outputs": [
        {
          "output_type": "execute_result",
          "data": {
            "text/plain": [
              "[array(['Britannia', 'CCL Products India Ltd.', 'Colgate Palmolive',\n",
              "        'Dabur India', 'Emami', 'Gillette India', 'Globus Spirits Ltd.',\n",
              "        'Godrej Consumer', 'HU', 'Hatsun Agro', 'Heritage Foods', 'ITC',\n",
              "        'Jubiliant Foodworks', 'Marico', 'Nestle', 'Procter and Gamble',\n",
              "        'Tasty Bite Eatables', 'Tata Consumer Products',\n",
              "        'United Breweries Ltd.', 'United Spirits Ltd'], dtype=object),\n",
              " array(['Dec', 'Jun', 'Mar', 'Sep'], dtype=object)]"
            ]
          },
          "metadata": {},
          "execution_count": 12
        }
      ]
    },
    {
      "cell_type": "code",
      "source": [
        "encoded_cat_names = list(ohe_encoder.get_feature_names(cat_cols))\n",
        "encoded_cat_names"
      ],
      "metadata": {
        "colab": {
          "base_uri": "https://localhost:8080/"
        },
        "id": "QNYdqrxSQgDo",
        "outputId": "c667fcfc-b495-43b4-86f2-b7957e695838"
      },
      "execution_count": null,
      "outputs": [
        {
          "output_type": "execute_result",
          "data": {
            "text/plain": [
              "['Company_Britannia',\n",
              " 'Company_CCL Products India Ltd.',\n",
              " 'Company_Colgate Palmolive',\n",
              " 'Company_Dabur India',\n",
              " 'Company_Emami',\n",
              " 'Company_Gillette India',\n",
              " 'Company_Globus Spirits Ltd.',\n",
              " 'Company_Godrej Consumer',\n",
              " 'Company_HU',\n",
              " 'Company_Hatsun Agro',\n",
              " 'Company_Heritage Foods',\n",
              " 'Company_ITC',\n",
              " 'Company_Jubiliant Foodworks',\n",
              " 'Company_Marico',\n",
              " 'Company_Nestle',\n",
              " 'Company_Procter and Gamble',\n",
              " 'Company_Tasty Bite Eatables',\n",
              " 'Company_Tata Consumer Products',\n",
              " 'Company_United Breweries Ltd.',\n",
              " 'Company_United Spirits Ltd',\n",
              " 'Month_Dec',\n",
              " 'Month_Jun',\n",
              " 'Month_Mar',\n",
              " 'Month_Sep']"
            ]
          },
          "metadata": {},
          "execution_count": 13
        }
      ]
    },
    {
      "cell_type": "markdown",
      "source": [
        "## Standard Scaling for Numerical Variables"
      ],
      "metadata": {
        "id": "lkGCYRPAO9A5"
      }
    },
    {
      "cell_type": "code",
      "source": [
        "from sklearn.preprocessing import StandardScaler\n",
        "sc = StandardScaler()\n",
        "sc.fit(X_train[num_cols])"
      ],
      "metadata": {
        "colab": {
          "base_uri": "https://localhost:8080/"
        },
        "id": "bREc_Jd1OY5h",
        "outputId": "3966e12a-e567-436a-f1e2-c69e1f821e95"
      },
      "execution_count": null,
      "outputs": [
        {
          "output_type": "execute_result",
          "data": {
            "text/plain": [
              "StandardScaler()"
            ]
          },
          "metadata": {},
          "execution_count": 14
        }
      ]
    },
    {
      "cell_type": "code",
      "source": [
        "scaled_num_names = list(sc.feature_names_in_)\n",
        "scaled_num_names"
      ],
      "metadata": {
        "colab": {
          "base_uri": "https://localhost:8080/"
        },
        "id": "WkdkQOGwPEc8",
        "outputId": "5b767542-fdcc-43ac-d2f8-ea0a12f784ca"
      },
      "execution_count": null,
      "outputs": [
        {
          "output_type": "execute_result",
          "data": {
            "text/plain": [
              "['Gross Margin',\n",
              " 'EV/Net Operating Revenue',\n",
              " 'CPI',\n",
              " 'Closing Stock Price',\n",
              " 'Return on Equity Ratio',\n",
              " 'Change in Inventory',\n",
              " 'Oil Price',\n",
              " 'Profit Margin',\n",
              " 'Price-Equity Ratio',\n",
              " 'Total Income From Operations',\n",
              " 'EPS',\n",
              " 'Year']"
            ]
          },
          "metadata": {},
          "execution_count": 15
        }
      ]
    },
    {
      "cell_type": "code",
      "source": [
        "all_feature_names = encoded_cat_names + scaled_num_names\n",
        "all_feature_names"
      ],
      "metadata": {
        "colab": {
          "base_uri": "https://localhost:8080/"
        },
        "id": "m5lNw1_tqkvZ",
        "outputId": "962e64f7-7ef0-4e52-a15b-79bddf9a15de"
      },
      "execution_count": null,
      "outputs": [
        {
          "output_type": "execute_result",
          "data": {
            "text/plain": [
              "['Company_Britannia',\n",
              " 'Company_CCL Products India Ltd.',\n",
              " 'Company_Colgate Palmolive',\n",
              " 'Company_Dabur India',\n",
              " 'Company_Emami',\n",
              " 'Company_Gillette India',\n",
              " 'Company_Globus Spirits Ltd.',\n",
              " 'Company_Godrej Consumer',\n",
              " 'Company_HU',\n",
              " 'Company_Hatsun Agro',\n",
              " 'Company_Heritage Foods',\n",
              " 'Company_ITC',\n",
              " 'Company_Jubiliant Foodworks',\n",
              " 'Company_Marico',\n",
              " 'Company_Nestle',\n",
              " 'Company_Procter and Gamble',\n",
              " 'Company_Tasty Bite Eatables',\n",
              " 'Company_Tata Consumer Products',\n",
              " 'Company_United Breweries Ltd.',\n",
              " 'Company_United Spirits Ltd',\n",
              " 'Month_Dec',\n",
              " 'Month_Jun',\n",
              " 'Month_Mar',\n",
              " 'Month_Sep',\n",
              " 'Gross Margin',\n",
              " 'EV/Net Operating Revenue',\n",
              " 'CPI',\n",
              " 'Closing Stock Price',\n",
              " 'Return on Equity Ratio',\n",
              " 'Change in Inventory',\n",
              " 'Oil Price',\n",
              " 'Profit Margin',\n",
              " 'Price-Equity Ratio',\n",
              " 'Total Income From Operations',\n",
              " 'EPS',\n",
              " 'Year']"
            ]
          },
          "metadata": {},
          "execution_count": 16
        }
      ]
    },
    {
      "cell_type": "markdown",
      "source": [
        "## Creating Column Transformer"
      ],
      "metadata": {
        "id": "MmSodx71RtEg"
      }
    },
    {
      "cell_type": "code",
      "source": [
        "from sklearn.compose import ColumnTransformer\n",
        "preprocessor = ColumnTransformer(transformers=[('cat', ohe_encoder, cat_cols),\n",
        "                                               ('sc', sc, num_cols)],\n",
        "                                 remainder='passthrough')"
      ],
      "metadata": {
        "id": "OElmwMf-Rafs"
      },
      "execution_count": null,
      "outputs": []
    },
    {
      "cell_type": "markdown",
      "source": [
        "## Linear Models"
      ],
      "metadata": {
        "id": "GeT1wpndSjBK"
      }
    },
    {
      "cell_type": "code",
      "source": [
        "from sklearn.linear_model import LinearRegression\n",
        "linear_reg = LinearRegression()"
      ],
      "metadata": {
        "id": "_xz67_3ESgcS"
      },
      "execution_count": null,
      "outputs": []
    },
    {
      "cell_type": "markdown",
      "source": [
        "## Creating Pipeline"
      ],
      "metadata": {
        "id": "zZy9F1geTMPJ"
      }
    },
    {
      "cell_type": "code",
      "source": [
        "from sklearn.pipeline import Pipeline\n",
        "lreg_v1 = Pipeline(steps=[('preprocessor', preprocessor),\n",
        "                          ('regressor', linear_reg)],\n",
        "                   verbose=True)"
      ],
      "metadata": {
        "id": "K--rKSZcTHDN"
      },
      "execution_count": null,
      "outputs": []
    },
    {
      "cell_type": "code",
      "source": [
        "lreg_v1.fit(X_train, y_train)"
      ],
      "metadata": {
        "id": "UIv9d2X-TaNg",
        "outputId": "d27a79d7-0780-4263-e8ea-60f23c6902a2",
        "colab": {
          "base_uri": "https://localhost:8080/"
        }
      },
      "execution_count": null,
      "outputs": [
        {
          "output_type": "stream",
          "name": "stdout",
          "text": [
            "[Pipeline] ...... (step 1 of 2) Processing preprocessor, total=   0.0s\n",
            "[Pipeline] ......... (step 2 of 2) Processing regressor, total=   0.0s\n"
          ]
        },
        {
          "output_type": "execute_result",
          "data": {
            "text/plain": [
              "Pipeline(steps=[('preprocessor',\n",
              "                 ColumnTransformer(remainder='passthrough',\n",
              "                                   transformers=[('cat',\n",
              "                                                  OneHotEncoder(handle_unknown='ignore'),\n",
              "                                                  ['Company', 'Month']),\n",
              "                                                 ('sc', StandardScaler(),\n",
              "                                                  ['Gross Margin',\n",
              "                                                   'EV/Net Operating Revenue',\n",
              "                                                   'CPI', 'Closing Stock Price',\n",
              "                                                   'Return on Equity Ratio',\n",
              "                                                   'Change in Inventory',\n",
              "                                                   'Oil Price', 'Profit Margin',\n",
              "                                                   'Price-Equity Ratio',\n",
              "                                                   'Total Income From '\n",
              "                                                   'Operations',\n",
              "                                                   'EPS', 'Year'])])),\n",
              "                ('regressor', LinearRegression())],\n",
              "         verbose=True)"
            ]
          },
          "metadata": {},
          "execution_count": 20
        }
      ]
    },
    {
      "cell_type": "code",
      "source": [
        "dict(zip(all_feature_names, np.round(lreg_v1['regressor'].coef_, 2)))"
      ],
      "metadata": {
        "colab": {
          "base_uri": "https://localhost:8080/"
        },
        "id": "7_2ipKiQ6R3p",
        "outputId": "a07b361c-bd62-40b0-b272-803875cc23c9"
      },
      "execution_count": null,
      "outputs": [
        {
          "output_type": "execute_result",
          "data": {
            "text/plain": [
              "{'Company_Britannia': -316342705721596.9,\n",
              " 'Company_CCL Products India Ltd.': -316342705721422.4,\n",
              " 'Company_Colgate Palmolive': -316342705721619.25,\n",
              " 'Company_Dabur India': -316342705721514.6,\n",
              " 'Company_Emami': -316342705721595.7,\n",
              " 'Company_Gillette India': -316342705721157.6,\n",
              " 'Company_Globus Spirits Ltd.': -316342705721327.7,\n",
              " 'Company_Godrej Consumer': -316342705721641.44,\n",
              " 'Company_HU': -316342705721445.94,\n",
              " 'Company_Hatsun Agro': -316342705721511.56,\n",
              " 'Company_Heritage Foods': -316342705721352.75,\n",
              " 'Company_ITC': -316342705721442.75,\n",
              " 'Company_Jubiliant Foodworks': -316342705721510.56,\n",
              " 'Company_Marico': -316342705721472.25,\n",
              " 'Company_Nestle': -316342705721073.7,\n",
              " 'Company_Procter and Gamble': -316342705721588.56,\n",
              " 'Company_Tasty Bite Eatables': -316342705720971.7,\n",
              " 'Company_Tata Consumer Products': -316342705721399.8,\n",
              " 'Company_United Breweries Ltd.': -316342705721527.8,\n",
              " 'Company_United Spirits Ltd': -316342705721397.4,\n",
              " 'Month_Dec': 37.71,\n",
              " 'Month_Jun': -34.47,\n",
              " 'Month_Mar': -73.27,\n",
              " 'Month_Sep': 67.35,\n",
              " 'Gross Margin': 31.23,\n",
              " 'EV/Net Operating Revenue': 63.2,\n",
              " 'CPI': -270.71,\n",
              " 'Closing Stock Price': 1959.52,\n",
              " 'Return on Equity Ratio': 74.34,\n",
              " 'Change in Inventory': -2.97,\n",
              " 'Oil Price': 15.81,\n",
              " 'Profit Margin': 11.07,\n",
              " 'Price-Equity Ratio': -3.81,\n",
              " 'Total Income From Operations': -25.66,\n",
              " 'EPS': 86.67,\n",
              " 'Year': 279.53}"
            ]
          },
          "metadata": {},
          "execution_count": 21
        }
      ]
    },
    {
      "cell_type": "markdown",
      "source": [
        "## Predict on Test Set"
      ],
      "metadata": {
        "id": "ElOu9NFl7YgL"
      }
    },
    {
      "cell_type": "code",
      "source": [
        "y_pred = lreg_v1.predict(X_test)"
      ],
      "metadata": {
        "id": "kHdfghS87Z-3"
      },
      "execution_count": null,
      "outputs": []
    },
    {
      "cell_type": "code",
      "source": [
        "y_df = pd.DataFrame({\"actual\": y_test,\n",
        "                     \"predicted\": y_pred,\n",
        "                     \"residual\": y_pred - y_test})\n",
        "y_df.head(10)"
      ],
      "metadata": {
        "colab": {
          "base_uri": "https://localhost:8080/",
          "height": 363
        },
        "id": "XCrkKAXC7bdC",
        "outputId": "c7c0985f-8a67-4282-b777-c38617641920"
      },
      "execution_count": null,
      "outputs": [
        {
          "output_type": "execute_result",
          "data": {
            "text/plain": [
              "     actual  predicted  residual\n",
              "0       NaN  4138.9375       NaN\n",
              "1   4109.05  4317.2500  208.2000\n",
              "2   4352.30  4819.5625  467.2625\n",
              "3   4685.15  4136.5000 -548.6500\n",
              "24      NaN   324.2500       NaN\n",
              "25   367.95   164.8125 -203.1375\n",
              "26   321.05   374.3750   53.3250\n",
              "27   276.05   376.0000   99.9500\n",
              "48      NaN   891.1875       NaN\n",
              "49   956.65  1110.7500  154.1000"
            ],
            "text/html": [
              "\n",
              "  <div id=\"df-693e3740-627c-4766-9862-6f2ab1373de4\">\n",
              "    <div class=\"colab-df-container\">\n",
              "      <div>\n",
              "<style scoped>\n",
              "    .dataframe tbody tr th:only-of-type {\n",
              "        vertical-align: middle;\n",
              "    }\n",
              "\n",
              "    .dataframe tbody tr th {\n",
              "        vertical-align: top;\n",
              "    }\n",
              "\n",
              "    .dataframe thead th {\n",
              "        text-align: right;\n",
              "    }\n",
              "</style>\n",
              "<table border=\"1\" class=\"dataframe\">\n",
              "  <thead>\n",
              "    <tr style=\"text-align: right;\">\n",
              "      <th></th>\n",
              "      <th>actual</th>\n",
              "      <th>predicted</th>\n",
              "      <th>residual</th>\n",
              "    </tr>\n",
              "  </thead>\n",
              "  <tbody>\n",
              "    <tr>\n",
              "      <th>0</th>\n",
              "      <td>NaN</td>\n",
              "      <td>4138.9375</td>\n",
              "      <td>NaN</td>\n",
              "    </tr>\n",
              "    <tr>\n",
              "      <th>1</th>\n",
              "      <td>4109.05</td>\n",
              "      <td>4317.2500</td>\n",
              "      <td>208.2000</td>\n",
              "    </tr>\n",
              "    <tr>\n",
              "      <th>2</th>\n",
              "      <td>4352.30</td>\n",
              "      <td>4819.5625</td>\n",
              "      <td>467.2625</td>\n",
              "    </tr>\n",
              "    <tr>\n",
              "      <th>3</th>\n",
              "      <td>4685.15</td>\n",
              "      <td>4136.5000</td>\n",
              "      <td>-548.6500</td>\n",
              "    </tr>\n",
              "    <tr>\n",
              "      <th>24</th>\n",
              "      <td>NaN</td>\n",
              "      <td>324.2500</td>\n",
              "      <td>NaN</td>\n",
              "    </tr>\n",
              "    <tr>\n",
              "      <th>25</th>\n",
              "      <td>367.95</td>\n",
              "      <td>164.8125</td>\n",
              "      <td>-203.1375</td>\n",
              "    </tr>\n",
              "    <tr>\n",
              "      <th>26</th>\n",
              "      <td>321.05</td>\n",
              "      <td>374.3750</td>\n",
              "      <td>53.3250</td>\n",
              "    </tr>\n",
              "    <tr>\n",
              "      <th>27</th>\n",
              "      <td>276.05</td>\n",
              "      <td>376.0000</td>\n",
              "      <td>99.9500</td>\n",
              "    </tr>\n",
              "    <tr>\n",
              "      <th>48</th>\n",
              "      <td>NaN</td>\n",
              "      <td>891.1875</td>\n",
              "      <td>NaN</td>\n",
              "    </tr>\n",
              "    <tr>\n",
              "      <th>49</th>\n",
              "      <td>956.65</td>\n",
              "      <td>1110.7500</td>\n",
              "      <td>154.1000</td>\n",
              "    </tr>\n",
              "  </tbody>\n",
              "</table>\n",
              "</div>\n",
              "      <button class=\"colab-df-convert\" onclick=\"convertToInteractive('df-693e3740-627c-4766-9862-6f2ab1373de4')\"\n",
              "              title=\"Convert this dataframe to an interactive table.\"\n",
              "              style=\"display:none;\">\n",
              "        \n",
              "  <svg xmlns=\"http://www.w3.org/2000/svg\" height=\"24px\"viewBox=\"0 0 24 24\"\n",
              "       width=\"24px\">\n",
              "    <path d=\"M0 0h24v24H0V0z\" fill=\"none\"/>\n",
              "    <path d=\"M18.56 5.44l.94 2.06.94-2.06 2.06-.94-2.06-.94-.94-2.06-.94 2.06-2.06.94zm-11 1L8.5 8.5l.94-2.06 2.06-.94-2.06-.94L8.5 2.5l-.94 2.06-2.06.94zm10 10l.94 2.06.94-2.06 2.06-.94-2.06-.94-.94-2.06-.94 2.06-2.06.94z\"/><path d=\"M17.41 7.96l-1.37-1.37c-.4-.4-.92-.59-1.43-.59-.52 0-1.04.2-1.43.59L10.3 9.45l-7.72 7.72c-.78.78-.78 2.05 0 2.83L4 21.41c.39.39.9.59 1.41.59.51 0 1.02-.2 1.41-.59l7.78-7.78 2.81-2.81c.8-.78.8-2.07 0-2.86zM5.41 20L4 18.59l7.72-7.72 1.47 1.35L5.41 20z\"/>\n",
              "  </svg>\n",
              "      </button>\n",
              "      \n",
              "  <style>\n",
              "    .colab-df-container {\n",
              "      display:flex;\n",
              "      flex-wrap:wrap;\n",
              "      gap: 12px;\n",
              "    }\n",
              "\n",
              "    .colab-df-convert {\n",
              "      background-color: #E8F0FE;\n",
              "      border: none;\n",
              "      border-radius: 50%;\n",
              "      cursor: pointer;\n",
              "      display: none;\n",
              "      fill: #1967D2;\n",
              "      height: 32px;\n",
              "      padding: 0 0 0 0;\n",
              "      width: 32px;\n",
              "    }\n",
              "\n",
              "    .colab-df-convert:hover {\n",
              "      background-color: #E2EBFA;\n",
              "      box-shadow: 0px 1px 2px rgba(60, 64, 67, 0.3), 0px 1px 3px 1px rgba(60, 64, 67, 0.15);\n",
              "      fill: #174EA6;\n",
              "    }\n",
              "\n",
              "    [theme=dark] .colab-df-convert {\n",
              "      background-color: #3B4455;\n",
              "      fill: #D2E3FC;\n",
              "    }\n",
              "\n",
              "    [theme=dark] .colab-df-convert:hover {\n",
              "      background-color: #434B5C;\n",
              "      box-shadow: 0px 1px 3px 1px rgba(0, 0, 0, 0.15);\n",
              "      filter: drop-shadow(0px 1px 2px rgba(0, 0, 0, 0.3));\n",
              "      fill: #FFFFFF;\n",
              "    }\n",
              "  </style>\n",
              "\n",
              "      <script>\n",
              "        const buttonEl =\n",
              "          document.querySelector('#df-693e3740-627c-4766-9862-6f2ab1373de4 button.colab-df-convert');\n",
              "        buttonEl.style.display =\n",
              "          google.colab.kernel.accessAllowed ? 'block' : 'none';\n",
              "\n",
              "        async function convertToInteractive(key) {\n",
              "          const element = document.querySelector('#df-693e3740-627c-4766-9862-6f2ab1373de4');\n",
              "          const dataTable =\n",
              "            await google.colab.kernel.invokeFunction('convertToInteractive',\n",
              "                                                     [key], {});\n",
              "          if (!dataTable) return;\n",
              "\n",
              "          const docLinkHtml = 'Like what you see? Visit the ' +\n",
              "            '<a target=\"_blank\" href=https://colab.research.google.com/notebooks/data_table.ipynb>data table notebook</a>'\n",
              "            + ' to learn more about interactive tables.';\n",
              "          element.innerHTML = '';\n",
              "          dataTable['output_type'] = 'display_data';\n",
              "          await google.colab.output.renderOutput(dataTable, element);\n",
              "          const docLink = document.createElement('div');\n",
              "          docLink.innerHTML = docLinkHtml;\n",
              "          element.appendChild(docLink);\n",
              "        }\n",
              "      </script>\n",
              "    </div>\n",
              "  </div>\n",
              "  "
            ]
          },
          "metadata": {},
          "execution_count": 23
        }
      ]
    },
    {
      "cell_type": "code",
      "source": [
        "y_df_cleaned = y_df.dropna()\n",
        "y_df_cleaned.head(10)"
      ],
      "metadata": {
        "colab": {
          "base_uri": "https://localhost:8080/",
          "height": 363
        },
        "id": "PRNCcmLNrljt",
        "outputId": "17ce2dde-0034-47ef-c80b-2b94f72fc4ed"
      },
      "execution_count": null,
      "outputs": [
        {
          "output_type": "execute_result",
          "data": {
            "text/plain": [
              "     actual  predicted  residual\n",
              "1   4109.05  4317.2500  208.2000\n",
              "2   4352.30  4819.5625  467.2625\n",
              "3   4685.15  4136.5000 -548.6500\n",
              "25   367.95   164.8125 -203.1375\n",
              "26   321.05   374.3750   53.3250\n",
              "27   276.05   376.0000   99.9500\n",
              "49   956.65  1110.7500  154.1000\n",
              "50  1272.20  1383.8750  111.6750\n",
              "51  1347.05  1424.5000   77.4500\n",
              "73   594.25   446.6875 -147.5625"
            ],
            "text/html": [
              "\n",
              "  <div id=\"df-a7bd8781-3d60-403a-a8ee-36c9ec7f58e1\">\n",
              "    <div class=\"colab-df-container\">\n",
              "      <div>\n",
              "<style scoped>\n",
              "    .dataframe tbody tr th:only-of-type {\n",
              "        vertical-align: middle;\n",
              "    }\n",
              "\n",
              "    .dataframe tbody tr th {\n",
              "        vertical-align: top;\n",
              "    }\n",
              "\n",
              "    .dataframe thead th {\n",
              "        text-align: right;\n",
              "    }\n",
              "</style>\n",
              "<table border=\"1\" class=\"dataframe\">\n",
              "  <thead>\n",
              "    <tr style=\"text-align: right;\">\n",
              "      <th></th>\n",
              "      <th>actual</th>\n",
              "      <th>predicted</th>\n",
              "      <th>residual</th>\n",
              "    </tr>\n",
              "  </thead>\n",
              "  <tbody>\n",
              "    <tr>\n",
              "      <th>1</th>\n",
              "      <td>4109.05</td>\n",
              "      <td>4317.2500</td>\n",
              "      <td>208.2000</td>\n",
              "    </tr>\n",
              "    <tr>\n",
              "      <th>2</th>\n",
              "      <td>4352.30</td>\n",
              "      <td>4819.5625</td>\n",
              "      <td>467.2625</td>\n",
              "    </tr>\n",
              "    <tr>\n",
              "      <th>3</th>\n",
              "      <td>4685.15</td>\n",
              "      <td>4136.5000</td>\n",
              "      <td>-548.6500</td>\n",
              "    </tr>\n",
              "    <tr>\n",
              "      <th>25</th>\n",
              "      <td>367.95</td>\n",
              "      <td>164.8125</td>\n",
              "      <td>-203.1375</td>\n",
              "    </tr>\n",
              "    <tr>\n",
              "      <th>26</th>\n",
              "      <td>321.05</td>\n",
              "      <td>374.3750</td>\n",
              "      <td>53.3250</td>\n",
              "    </tr>\n",
              "    <tr>\n",
              "      <th>27</th>\n",
              "      <td>276.05</td>\n",
              "      <td>376.0000</td>\n",
              "      <td>99.9500</td>\n",
              "    </tr>\n",
              "    <tr>\n",
              "      <th>49</th>\n",
              "      <td>956.65</td>\n",
              "      <td>1110.7500</td>\n",
              "      <td>154.1000</td>\n",
              "    </tr>\n",
              "    <tr>\n",
              "      <th>50</th>\n",
              "      <td>1272.20</td>\n",
              "      <td>1383.8750</td>\n",
              "      <td>111.6750</td>\n",
              "    </tr>\n",
              "    <tr>\n",
              "      <th>51</th>\n",
              "      <td>1347.05</td>\n",
              "      <td>1424.5000</td>\n",
              "      <td>77.4500</td>\n",
              "    </tr>\n",
              "    <tr>\n",
              "      <th>73</th>\n",
              "      <td>594.25</td>\n",
              "      <td>446.6875</td>\n",
              "      <td>-147.5625</td>\n",
              "    </tr>\n",
              "  </tbody>\n",
              "</table>\n",
              "</div>\n",
              "      <button class=\"colab-df-convert\" onclick=\"convertToInteractive('df-a7bd8781-3d60-403a-a8ee-36c9ec7f58e1')\"\n",
              "              title=\"Convert this dataframe to an interactive table.\"\n",
              "              style=\"display:none;\">\n",
              "        \n",
              "  <svg xmlns=\"http://www.w3.org/2000/svg\" height=\"24px\"viewBox=\"0 0 24 24\"\n",
              "       width=\"24px\">\n",
              "    <path d=\"M0 0h24v24H0V0z\" fill=\"none\"/>\n",
              "    <path d=\"M18.56 5.44l.94 2.06.94-2.06 2.06-.94-2.06-.94-.94-2.06-.94 2.06-2.06.94zm-11 1L8.5 8.5l.94-2.06 2.06-.94-2.06-.94L8.5 2.5l-.94 2.06-2.06.94zm10 10l.94 2.06.94-2.06 2.06-.94-2.06-.94-.94-2.06-.94 2.06-2.06.94z\"/><path d=\"M17.41 7.96l-1.37-1.37c-.4-.4-.92-.59-1.43-.59-.52 0-1.04.2-1.43.59L10.3 9.45l-7.72 7.72c-.78.78-.78 2.05 0 2.83L4 21.41c.39.39.9.59 1.41.59.51 0 1.02-.2 1.41-.59l7.78-7.78 2.81-2.81c.8-.78.8-2.07 0-2.86zM5.41 20L4 18.59l7.72-7.72 1.47 1.35L5.41 20z\"/>\n",
              "  </svg>\n",
              "      </button>\n",
              "      \n",
              "  <style>\n",
              "    .colab-df-container {\n",
              "      display:flex;\n",
              "      flex-wrap:wrap;\n",
              "      gap: 12px;\n",
              "    }\n",
              "\n",
              "    .colab-df-convert {\n",
              "      background-color: #E8F0FE;\n",
              "      border: none;\n",
              "      border-radius: 50%;\n",
              "      cursor: pointer;\n",
              "      display: none;\n",
              "      fill: #1967D2;\n",
              "      height: 32px;\n",
              "      padding: 0 0 0 0;\n",
              "      width: 32px;\n",
              "    }\n",
              "\n",
              "    .colab-df-convert:hover {\n",
              "      background-color: #E2EBFA;\n",
              "      box-shadow: 0px 1px 2px rgba(60, 64, 67, 0.3), 0px 1px 3px 1px rgba(60, 64, 67, 0.15);\n",
              "      fill: #174EA6;\n",
              "    }\n",
              "\n",
              "    [theme=dark] .colab-df-convert {\n",
              "      background-color: #3B4455;\n",
              "      fill: #D2E3FC;\n",
              "    }\n",
              "\n",
              "    [theme=dark] .colab-df-convert:hover {\n",
              "      background-color: #434B5C;\n",
              "      box-shadow: 0px 1px 3px 1px rgba(0, 0, 0, 0.15);\n",
              "      filter: drop-shadow(0px 1px 2px rgba(0, 0, 0, 0.3));\n",
              "      fill: #FFFFFF;\n",
              "    }\n",
              "  </style>\n",
              "\n",
              "      <script>\n",
              "        const buttonEl =\n",
              "          document.querySelector('#df-a7bd8781-3d60-403a-a8ee-36c9ec7f58e1 button.colab-df-convert');\n",
              "        buttonEl.style.display =\n",
              "          google.colab.kernel.accessAllowed ? 'block' : 'none';\n",
              "\n",
              "        async function convertToInteractive(key) {\n",
              "          const element = document.querySelector('#df-a7bd8781-3d60-403a-a8ee-36c9ec7f58e1');\n",
              "          const dataTable =\n",
              "            await google.colab.kernel.invokeFunction('convertToInteractive',\n",
              "                                                     [key], {});\n",
              "          if (!dataTable) return;\n",
              "\n",
              "          const docLinkHtml = 'Like what you see? Visit the ' +\n",
              "            '<a target=\"_blank\" href=https://colab.research.google.com/notebooks/data_table.ipynb>data table notebook</a>'\n",
              "            + ' to learn more about interactive tables.';\n",
              "          element.innerHTML = '';\n",
              "          dataTable['output_type'] = 'display_data';\n",
              "          await google.colab.output.renderOutput(dataTable, element);\n",
              "          const docLink = document.createElement('div');\n",
              "          docLink.innerHTML = docLinkHtml;\n",
              "          element.appendChild(docLink);\n",
              "        }\n",
              "      </script>\n",
              "    </div>\n",
              "  </div>\n",
              "  "
            ]
          },
          "metadata": {},
          "execution_count": 24
        }
      ]
    },
    {
      "cell_type": "markdown",
      "metadata": {
        "id": "yGfPiDFdbNsF"
      },
      "source": [
        "### Measuring Accuracy"
      ]
    },
    {
      "cell_type": "code",
      "execution_count": null,
      "metadata": {
        "id": "RnAtUQZAbNsF"
      },
      "outputs": [],
      "source": [
        "from sklearn.metrics import mean_squared_error, r2_score"
      ]
    },
    {
      "cell_type": "code",
      "execution_count": null,
      "metadata": {
        "id": "sdXW26s2bNsF",
        "colab": {
          "base_uri": "https://localhost:8080/"
        },
        "outputId": "3aca16f3-3b4d-45b3-e052-282429a4d7f8"
      },
      "outputs": [
        {
          "output_type": "execute_result",
          "data": {
            "text/plain": [
              "376653.6956786457"
            ]
          },
          "metadata": {},
          "execution_count": 26
        }
      ],
      "source": [
        "mse_v1 = mean_squared_error(y_df_cleaned.actual, y_df_cleaned.predicted)\n",
        "mse_v1"
      ]
    },
    {
      "cell_type": "code",
      "execution_count": null,
      "metadata": {
        "id": "rU4lRsJjbNsF",
        "colab": {
          "base_uri": "https://localhost:8080/"
        },
        "outputId": "b7d4ab47-86d3-4501-f358-04b04b1be624"
      },
      "outputs": [
        {
          "output_type": "execute_result",
          "data": {
            "text/plain": [
              "613.7211872492636"
            ]
          },
          "metadata": {},
          "execution_count": 27
        }
      ],
      "source": [
        "rmse_v1 = np.sqrt(mse_v1)\n",
        "rmse_v1"
      ]
    },
    {
      "cell_type": "code",
      "execution_count": null,
      "metadata": {
        "id": "lkb5u5rLbNsG",
        "outputId": "048b0295-b259-4ab9-a330-d71fb574be4f",
        "colab": {
          "base_uri": "https://localhost:8080/"
        }
      },
      "outputs": [
        {
          "output_type": "execute_result",
          "data": {
            "text/plain": [
              "0.9744524976507665"
            ]
          },
          "metadata": {},
          "execution_count": 28
        }
      ],
      "source": [
        "r2_score(y_df_cleaned.actual, y_df_cleaned.predicted)"
      ]
    },
    {
      "cell_type": "markdown",
      "source": [
        "## Error Analysis"
      ],
      "metadata": {
        "id": "ogqm6R267-Pw"
      }
    },
    {
      "cell_type": "code",
      "execution_count": null,
      "metadata": {
        "id": "hREOv6vUbNsH",
        "colab": {
          "base_uri": "https://localhost:8080/",
          "height": 461
        },
        "outputId": "e3a38cf2-e97c-4cfa-908c-09d15df98a70"
      },
      "outputs": [
        {
          "output_type": "execute_result",
          "data": {
            "text/plain": [
              "     actual   predicted  residual                  Company  Oil Price  \\\n",
              "216     NaN  10695.9375       NaN      Tasty Bite Eatables    2392.98   \n",
              "120     NaN    231.1875       NaN  CCL Products India Ltd.    2392.98   \n",
              "146  6580.4   7382.9375  802.5375           Gillette India    4282.87   \n",
              "337   344.1    164.7500 -179.3500                   Marico    4509.77   \n",
              "75    667.0    630.3750  -36.6250       United Spirits Ltd    4149.67   \n",
              "\n",
              "     Total Income From Operations  Return on Equity Ratio  Price-Equity Ratio  \\\n",
              "216                        115.08                   44.78              314.19   \n",
              "120                        170.24                    6.40               29.26   \n",
              "146                        462.20                   14.18              374.47   \n",
              "337                       1434.00                   11.12              163.52   \n",
              "75                        2218.40                   15.27              214.96   \n",
              "\n",
              "     Gross Margin  Profit Margin    EPS  EV/Net Operating Revenue  \\\n",
              "216          0.38           0.07  33.25                     20.48   \n",
              "120          0.49           0.57   7.25                     16.05   \n",
              "146          0.49           0.13  18.95                     52.43   \n",
              "337          0.49           0.19   2.09                     24.75   \n",
              "75           0.51           0.09   2.72                     16.47   \n",
              "\n",
              "     Change in Inventory    CPI  Closing Stock Price Month  Year  \n",
              "216                 5.77  148.6             10446.95   Mar    20  \n",
              "120               -30.47  148.6               212.10   Mar    20  \n",
              "146               -22.52  145.8              7096.15   Sep    19  \n",
              "337                44.00  150.4               341.75   Dec    19  \n",
              "75                 88.80  142.9               584.70   Jun    19  "
            ],
            "text/html": [
              "\n",
              "  <div id=\"df-49218f37-6d3f-4709-b799-25b861b76eb3\">\n",
              "    <div class=\"colab-df-container\">\n",
              "      <div>\n",
              "<style scoped>\n",
              "    .dataframe tbody tr th:only-of-type {\n",
              "        vertical-align: middle;\n",
              "    }\n",
              "\n",
              "    .dataframe tbody tr th {\n",
              "        vertical-align: top;\n",
              "    }\n",
              "\n",
              "    .dataframe thead th {\n",
              "        text-align: right;\n",
              "    }\n",
              "</style>\n",
              "<table border=\"1\" class=\"dataframe\">\n",
              "  <thead>\n",
              "    <tr style=\"text-align: right;\">\n",
              "      <th></th>\n",
              "      <th>actual</th>\n",
              "      <th>predicted</th>\n",
              "      <th>residual</th>\n",
              "      <th>Company</th>\n",
              "      <th>Oil Price</th>\n",
              "      <th>Total Income From Operations</th>\n",
              "      <th>Return on Equity Ratio</th>\n",
              "      <th>Price-Equity Ratio</th>\n",
              "      <th>Gross Margin</th>\n",
              "      <th>Profit Margin</th>\n",
              "      <th>EPS</th>\n",
              "      <th>EV/Net Operating Revenue</th>\n",
              "      <th>Change in Inventory</th>\n",
              "      <th>CPI</th>\n",
              "      <th>Closing Stock Price</th>\n",
              "      <th>Month</th>\n",
              "      <th>Year</th>\n",
              "    </tr>\n",
              "  </thead>\n",
              "  <tbody>\n",
              "    <tr>\n",
              "      <th>216</th>\n",
              "      <td>NaN</td>\n",
              "      <td>10695.9375</td>\n",
              "      <td>NaN</td>\n",
              "      <td>Tasty Bite Eatables</td>\n",
              "      <td>2392.98</td>\n",
              "      <td>115.08</td>\n",
              "      <td>44.78</td>\n",
              "      <td>314.19</td>\n",
              "      <td>0.38</td>\n",
              "      <td>0.07</td>\n",
              "      <td>33.25</td>\n",
              "      <td>20.48</td>\n",
              "      <td>5.77</td>\n",
              "      <td>148.6</td>\n",
              "      <td>10446.95</td>\n",
              "      <td>Mar</td>\n",
              "      <td>20</td>\n",
              "    </tr>\n",
              "    <tr>\n",
              "      <th>120</th>\n",
              "      <td>NaN</td>\n",
              "      <td>231.1875</td>\n",
              "      <td>NaN</td>\n",
              "      <td>CCL Products India Ltd.</td>\n",
              "      <td>2392.98</td>\n",
              "      <td>170.24</td>\n",
              "      <td>6.40</td>\n",
              "      <td>29.26</td>\n",
              "      <td>0.49</td>\n",
              "      <td>0.57</td>\n",
              "      <td>7.25</td>\n",
              "      <td>16.05</td>\n",
              "      <td>-30.47</td>\n",
              "      <td>148.6</td>\n",
              "      <td>212.10</td>\n",
              "      <td>Mar</td>\n",
              "      <td>20</td>\n",
              "    </tr>\n",
              "    <tr>\n",
              "      <th>146</th>\n",
              "      <td>6580.4</td>\n",
              "      <td>7382.9375</td>\n",
              "      <td>802.5375</td>\n",
              "      <td>Gillette India</td>\n",
              "      <td>4282.87</td>\n",
              "      <td>462.20</td>\n",
              "      <td>14.18</td>\n",
              "      <td>374.47</td>\n",
              "      <td>0.49</td>\n",
              "      <td>0.13</td>\n",
              "      <td>18.95</td>\n",
              "      <td>52.43</td>\n",
              "      <td>-22.52</td>\n",
              "      <td>145.8</td>\n",
              "      <td>7096.15</td>\n",
              "      <td>Sep</td>\n",
              "      <td>19</td>\n",
              "    </tr>\n",
              "    <tr>\n",
              "      <th>337</th>\n",
              "      <td>344.1</td>\n",
              "      <td>164.7500</td>\n",
              "      <td>-179.3500</td>\n",
              "      <td>Marico</td>\n",
              "      <td>4509.77</td>\n",
              "      <td>1434.00</td>\n",
              "      <td>11.12</td>\n",
              "      <td>163.52</td>\n",
              "      <td>0.49</td>\n",
              "      <td>0.19</td>\n",
              "      <td>2.09</td>\n",
              "      <td>24.75</td>\n",
              "      <td>44.00</td>\n",
              "      <td>150.4</td>\n",
              "      <td>341.75</td>\n",
              "      <td>Dec</td>\n",
              "      <td>19</td>\n",
              "    </tr>\n",
              "    <tr>\n",
              "      <th>75</th>\n",
              "      <td>667.0</td>\n",
              "      <td>630.3750</td>\n",
              "      <td>-36.6250</td>\n",
              "      <td>United Spirits Ltd</td>\n",
              "      <td>4149.67</td>\n",
              "      <td>2218.40</td>\n",
              "      <td>15.27</td>\n",
              "      <td>214.96</td>\n",
              "      <td>0.51</td>\n",
              "      <td>0.09</td>\n",
              "      <td>2.72</td>\n",
              "      <td>16.47</td>\n",
              "      <td>88.80</td>\n",
              "      <td>142.9</td>\n",
              "      <td>584.70</td>\n",
              "      <td>Jun</td>\n",
              "      <td>19</td>\n",
              "    </tr>\n",
              "  </tbody>\n",
              "</table>\n",
              "</div>\n",
              "      <button class=\"colab-df-convert\" onclick=\"convertToInteractive('df-49218f37-6d3f-4709-b799-25b861b76eb3')\"\n",
              "              title=\"Convert this dataframe to an interactive table.\"\n",
              "              style=\"display:none;\">\n",
              "        \n",
              "  <svg xmlns=\"http://www.w3.org/2000/svg\" height=\"24px\"viewBox=\"0 0 24 24\"\n",
              "       width=\"24px\">\n",
              "    <path d=\"M0 0h24v24H0V0z\" fill=\"none\"/>\n",
              "    <path d=\"M18.56 5.44l.94 2.06.94-2.06 2.06-.94-2.06-.94-.94-2.06-.94 2.06-2.06.94zm-11 1L8.5 8.5l.94-2.06 2.06-.94-2.06-.94L8.5 2.5l-.94 2.06-2.06.94zm10 10l.94 2.06.94-2.06 2.06-.94-2.06-.94-.94-2.06-.94 2.06-2.06.94z\"/><path d=\"M17.41 7.96l-1.37-1.37c-.4-.4-.92-.59-1.43-.59-.52 0-1.04.2-1.43.59L10.3 9.45l-7.72 7.72c-.78.78-.78 2.05 0 2.83L4 21.41c.39.39.9.59 1.41.59.51 0 1.02-.2 1.41-.59l7.78-7.78 2.81-2.81c.8-.78.8-2.07 0-2.86zM5.41 20L4 18.59l7.72-7.72 1.47 1.35L5.41 20z\"/>\n",
              "  </svg>\n",
              "      </button>\n",
              "      \n",
              "  <style>\n",
              "    .colab-df-container {\n",
              "      display:flex;\n",
              "      flex-wrap:wrap;\n",
              "      gap: 12px;\n",
              "    }\n",
              "\n",
              "    .colab-df-convert {\n",
              "      background-color: #E8F0FE;\n",
              "      border: none;\n",
              "      border-radius: 50%;\n",
              "      cursor: pointer;\n",
              "      display: none;\n",
              "      fill: #1967D2;\n",
              "      height: 32px;\n",
              "      padding: 0 0 0 0;\n",
              "      width: 32px;\n",
              "    }\n",
              "\n",
              "    .colab-df-convert:hover {\n",
              "      background-color: #E2EBFA;\n",
              "      box-shadow: 0px 1px 2px rgba(60, 64, 67, 0.3), 0px 1px 3px 1px rgba(60, 64, 67, 0.15);\n",
              "      fill: #174EA6;\n",
              "    }\n",
              "\n",
              "    [theme=dark] .colab-df-convert {\n",
              "      background-color: #3B4455;\n",
              "      fill: #D2E3FC;\n",
              "    }\n",
              "\n",
              "    [theme=dark] .colab-df-convert:hover {\n",
              "      background-color: #434B5C;\n",
              "      box-shadow: 0px 1px 3px 1px rgba(0, 0, 0, 0.15);\n",
              "      filter: drop-shadow(0px 1px 2px rgba(0, 0, 0, 0.3));\n",
              "      fill: #FFFFFF;\n",
              "    }\n",
              "  </style>\n",
              "\n",
              "      <script>\n",
              "        const buttonEl =\n",
              "          document.querySelector('#df-49218f37-6d3f-4709-b799-25b861b76eb3 button.colab-df-convert');\n",
              "        buttonEl.style.display =\n",
              "          google.colab.kernel.accessAllowed ? 'block' : 'none';\n",
              "\n",
              "        async function convertToInteractive(key) {\n",
              "          const element = document.querySelector('#df-49218f37-6d3f-4709-b799-25b861b76eb3');\n",
              "          const dataTable =\n",
              "            await google.colab.kernel.invokeFunction('convertToInteractive',\n",
              "                                                     [key], {});\n",
              "          if (!dataTable) return;\n",
              "\n",
              "          const docLinkHtml = 'Like what you see? Visit the ' +\n",
              "            '<a target=\"_blank\" href=https://colab.research.google.com/notebooks/data_table.ipynb>data table notebook</a>'\n",
              "            + ' to learn more about interactive tables.';\n",
              "          element.innerHTML = '';\n",
              "          dataTable['output_type'] = 'display_data';\n",
              "          await google.colab.output.renderOutput(dataTable, element);\n",
              "          const docLink = document.createElement('div');\n",
              "          docLink.innerHTML = docLinkHtml;\n",
              "          element.appendChild(docLink);\n",
              "        }\n",
              "      </script>\n",
              "    </div>\n",
              "  </div>\n",
              "  "
            ]
          },
          "metadata": {},
          "execution_count": 29
        }
      ],
      "source": [
        "test_df = y_df.join(X_test)\n",
        "test_df.sample(5)"
      ]
    },
    {
      "cell_type": "code",
      "execution_count": null,
      "metadata": {
        "id": "baUldiJgbNsH",
        "outputId": "8ad77315-b8fa-47fb-ae3a-b5c09632856a",
        "colab": {
          "base_uri": "https://localhost:8080/",
          "height": 388
        }
      },
      "outputs": [
        {
          "output_type": "display_data",
          "data": {
            "text/plain": [
              "<Figure size 1080x432 with 1 Axes>"
            ],
            "image/png": "[encoded data removed]"
          },
          "metadata": {
            "needs_background": "light"
          }
        }
      ],
      "source": [
        "import matplotlib.pyplot as plt\n",
        "import seaborn as sn\n",
        "plt.figure(figsize=(15, 6))\n",
        "sn.boxplot(data = test_df, x = 'residual', y = 'Company');"
      ]
    },
    {
      "cell_type": "markdown",
      "metadata": {
        "id": "63EFafOWbNsH"
      },
      "source": [
        "### Saving the model"
      ]
    },
    {
      "cell_type": "code",
      "execution_count": null,
      "metadata": {
        "id": "LlzE_Ps9bNsH"
      },
      "outputs": [],
      "source": [
        "class StockPredictionModel():\n",
        "    \n",
        "    def __init__(self, model, features, rmse):\n",
        "        self.model = model\n",
        "        self.features = features\n",
        "        self.rmse = rmse"
      ]
    },
    {
      "cell_type": "code",
      "execution_count": null,
      "metadata": {
        "id": "B0iIF672bNsI"
      },
      "outputs": [],
      "source": [
        "my_model = StockPredictionModel(lreg_v1, list(X_train.columns), rmse_v1)"
      ]
    },
    {
      "cell_type": "code",
      "execution_count": null,
      "metadata": {
        "id": "WhXifYEkbNsI"
      },
      "outputs": [],
      "source": [
        "# Uncomment this code for older version of sklearn\n",
        "#from sklearn.externals import joblib\n",
        "#joblib.dump(my_model, './cars.pkl')"
      ]
    },
    {
      "cell_type": "code",
      "execution_count": null,
      "metadata": {
        "id": "MMivoHsBbNsI"
      },
      "outputs": [],
      "source": [
        "from joblib import dump"
      ]
    },
    {
      "cell_type": "code",
      "execution_count": null,
      "metadata": {
        "id": "AZoOGBTFbNsI",
        "outputId": "2bd0663c-a548-4b11-f2ea-f1a1080bd642",
        "colab": {
          "base_uri": "https://localhost:8080/"
        }
      },
      "outputs": [
        {
          "output_type": "execute_result",
          "data": {
            "text/plain": [
              "['./stockprice.pkl']"
            ]
          },
          "metadata": {},
          "execution_count": 35
        }
      ],
      "source": [
        "dump(my_model, './stockprice.pkl')"
      ]
    }
  ]
}