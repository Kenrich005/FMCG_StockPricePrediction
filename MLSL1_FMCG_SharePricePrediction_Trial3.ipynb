{
  "nbformat": 4,
  "nbformat_minor": 0,
  "metadata": {
    "colab": {
      "name": "MLSL1_FMCG_SharePricePrediction_Trial3.ipynb",
      "provenance": [],
      "mount_file_id": "1cnHoXL2fiaxkLWXAseUOTb_XOcZ6Npot",
      "authorship_tag": "ABX9TyOR2+Ttf3TRbPGkMV5kLTQJ",
      "include_colab_link": true
    },
    "kernelspec": {
      "name": "python3",
      "display_name": "Python 3"
    },
    "language_info": {
      "name": "python"
    }
  },
  "cells": [
    {
      "cell_type": "markdown",
      "metadata": {
        "id": "view-in-github",
        "colab_type": "text"
      },
      "source": [
        "<a href=\"https://colab.research.google.com/github/Kenrich005/FMCG_StockPricePrediction/blob/main/MLSL1_FMCG_SharePricePrediction_Trial3.ipynb\" target=\"_parent\"><img src=\"https://colab.research.google.com/assets/colab-badge.svg\" alt=\"Open In Colab\"/></a>"
      ]
    },
    {
      "cell_type": "code",
      "execution_count": 1,
      "metadata": {
        "id": "ZoeEcXqELJq3"
      },
      "outputs": [],
      "source": [
        "import pandas as pd\n",
        "import numpy as np\n",
        "import warnings\n",
        "warnings.filterwarnings('ignore')"
      ]
    },
    {
      "cell_type": "code",
      "source": [
        "df = pd.read_csv('FMCG_20companies.csv')\n",
        "df.head()"
      ],
      "metadata": {
        "colab": {
          "base_uri": "https://localhost:8080/",
          "height": 458
        },
        "id": "m1cARZHHM4nG",
        "outputId": "0e392237-d5bd-4420-a3b7-9c3133ea4b72"
      },
      "execution_count": 2,
      "outputs": [
        {
          "output_type": "execute_result",
          "data": {
            "text/plain": [
              "  Quarters             Company  Oil Price  Total Income From Operations  \\\n",
              "0  Mar '20  Procter and Gamble    2392.98                        656.05   \n",
              "1  Dec '19  Procter and Gamble    4509.77                        859.27   \n",
              "2  Sep '19  Procter and Gamble    4282.87                        852.14   \n",
              "3  Jun '19  Procter and Gamble    4149.67                        637.29   \n",
              "4  Mar '19  Procter and Gamble    4432.04                        699.34   \n",
              "\n",
              "   Return on Equity Ratio  Price-Equity Ratio  Gross Margin  Profit Margin  \\\n",
              "0                   20.21              146.39          0.64           0.14   \n",
              "1                   26.47              103.92          0.65           0.16   \n",
              "2                   26.25              111.13          0.59           0.16   \n",
              "3                   19.63              219.22          0.55           0.10   \n",
              "4                   21.54              132.34          0.61           0.13   \n",
              "\n",
              "     EPS  EV/Net Operating Revenue  Change in Inventory    CPI  \\\n",
              "0  28.07                     52.15               -16.18  148.6   \n",
              "1  41.88                     39.81                21.20  150.4   \n",
              "2  42.16                     40.15                -8.62  145.8   \n",
              "3  18.73                     53.68               -25.40  142.9   \n",
              "4  27.76                     45.39                25.80  140.4   \n",
              "\n",
              "   Closing Stock Price  \n",
              "0              4109.05  \n",
              "1              4352.30  \n",
              "2              4685.15  \n",
              "3              4106.05  \n",
              "4              3673.65  "
            ],
            "text/html": [
              "\n",
              "  <div id=\"df-4de3120b-57e4-4a03-9680-ce1d3b0732e3\">\n",
              "    <div class=\"colab-df-container\">\n",
              "      <div>\n",
              "<style scoped>\n",
              "    .dataframe tbody tr th:only-of-type {\n",
              "        vertical-align: middle;\n",
              "    }\n",
              "\n",
              "    .dataframe tbody tr th {\n",
              "        vertical-align: top;\n",
              "    }\n",
              "\n",
              "    .dataframe thead th {\n",
              "        text-align: right;\n",
              "    }\n",
              "</style>\n",
              "<table border=\"1\" class=\"dataframe\">\n",
              "  <thead>\n",
              "    <tr style=\"text-align: right;\">\n",
              "      <th></th>\n",
              "      <th>Quarters</th>\n",
              "      <th>Company</th>\n",
              "      <th>Oil Price</th>\n",
              "      <th>Total Income From Operations</th>\n",
              "      <th>Return on Equity Ratio</th>\n",
              "      <th>Price-Equity Ratio</th>\n",
              "      <th>Gross Margin</th>\n",
              "      <th>Profit Margin</th>\n",
              "      <th>EPS</th>\n",
              "      <th>EV/Net Operating Revenue</th>\n",
              "      <th>Change in Inventory</th>\n",
              "      <th>CPI</th>\n",
              "      <th>Closing Stock Price</th>\n",
              "    </tr>\n",
              "  </thead>\n",
              "  <tbody>\n",
              "    <tr>\n",
              "      <th>0</th>\n",
              "      <td>Mar '20</td>\n",
              "      <td>Procter and Gamble</td>\n",
              "      <td>2392.98</td>\n",
              "      <td>656.05</td>\n",
              "      <td>20.21</td>\n",
              "      <td>146.39</td>\n",
              "      <td>0.64</td>\n",
              "      <td>0.14</td>\n",
              "      <td>28.07</td>\n",
              "      <td>52.15</td>\n",
              "      <td>-16.18</td>\n",
              "      <td>148.6</td>\n",
              "      <td>4109.05</td>\n",
              "    </tr>\n",
              "    <tr>\n",
              "      <th>1</th>\n",
              "      <td>Dec '19</td>\n",
              "      <td>Procter and Gamble</td>\n",
              "      <td>4509.77</td>\n",
              "      <td>859.27</td>\n",
              "      <td>26.47</td>\n",
              "      <td>103.92</td>\n",
              "      <td>0.65</td>\n",
              "      <td>0.16</td>\n",
              "      <td>41.88</td>\n",
              "      <td>39.81</td>\n",
              "      <td>21.20</td>\n",
              "      <td>150.4</td>\n",
              "      <td>4352.30</td>\n",
              "    </tr>\n",
              "    <tr>\n",
              "      <th>2</th>\n",
              "      <td>Sep '19</td>\n",
              "      <td>Procter and Gamble</td>\n",
              "      <td>4282.87</td>\n",
              "      <td>852.14</td>\n",
              "      <td>26.25</td>\n",
              "      <td>111.13</td>\n",
              "      <td>0.59</td>\n",
              "      <td>0.16</td>\n",
              "      <td>42.16</td>\n",
              "      <td>40.15</td>\n",
              "      <td>-8.62</td>\n",
              "      <td>145.8</td>\n",
              "      <td>4685.15</td>\n",
              "    </tr>\n",
              "    <tr>\n",
              "      <th>3</th>\n",
              "      <td>Jun '19</td>\n",
              "      <td>Procter and Gamble</td>\n",
              "      <td>4149.67</td>\n",
              "      <td>637.29</td>\n",
              "      <td>19.63</td>\n",
              "      <td>219.22</td>\n",
              "      <td>0.55</td>\n",
              "      <td>0.10</td>\n",
              "      <td>18.73</td>\n",
              "      <td>53.68</td>\n",
              "      <td>-25.40</td>\n",
              "      <td>142.9</td>\n",
              "      <td>4106.05</td>\n",
              "    </tr>\n",
              "    <tr>\n",
              "      <th>4</th>\n",
              "      <td>Mar '19</td>\n",
              "      <td>Procter and Gamble</td>\n",
              "      <td>4432.04</td>\n",
              "      <td>699.34</td>\n",
              "      <td>21.54</td>\n",
              "      <td>132.34</td>\n",
              "      <td>0.61</td>\n",
              "      <td>0.13</td>\n",
              "      <td>27.76</td>\n",
              "      <td>45.39</td>\n",
              "      <td>25.80</td>\n",
              "      <td>140.4</td>\n",
              "      <td>3673.65</td>\n",
              "    </tr>\n",
              "  </tbody>\n",
              "</table>\n",
              "</div>\n",
              "      <button class=\"colab-df-convert\" onclick=\"convertToInteractive('df-4de3120b-57e4-4a03-9680-ce1d3b0732e3')\"\n",
              "              title=\"Convert this dataframe to an interactive table.\"\n",
              "              style=\"display:none;\">\n",
              "        \n",
              "  <svg xmlns=\"http://www.w3.org/2000/svg\" height=\"24px\"viewBox=\"0 0 24 24\"\n",
              "       width=\"24px\">\n",
              "    <path d=\"M0 0h24v24H0V0z\" fill=\"none\"/>\n",
              "    <path d=\"M18.56 5.44l.94 2.06.94-2.06 2.06-.94-2.06-.94-.94-2.06-.94 2.06-2.06.94zm-11 1L8.5 8.5l.94-2.06 2.06-.94-2.06-.94L8.5 2.5l-.94 2.06-2.06.94zm10 10l.94 2.06.94-2.06 2.06-.94-2.06-.94-.94-2.06-.94 2.06-2.06.94z\"/><path d=\"M17.41 7.96l-1.37-1.37c-.4-.4-.92-.59-1.43-.59-.52 0-1.04.2-1.43.59L10.3 9.45l-7.72 7.72c-.78.78-.78 2.05 0 2.83L4 21.41c.39.39.9.59 1.41.59.51 0 1.02-.2 1.41-.59l7.78-7.78 2.81-2.81c.8-.78.8-2.07 0-2.86zM5.41 20L4 18.59l7.72-7.72 1.47 1.35L5.41 20z\"/>\n",
              "  </svg>\n",
              "      </button>\n",
              "      \n",
              "  <style>\n",
              "    .colab-df-container {\n",
              "      display:flex;\n",
              "      flex-wrap:wrap;\n",
              "      gap: 12px;\n",
              "    }\n",
              "\n",
              "    .colab-df-convert {\n",
              "      background-color: #E8F0FE;\n",
              "      border: none;\n",
              "      border-radius: 50%;\n",
              "      cursor: pointer;\n",
              "      display: none;\n",
              "      fill: #1967D2;\n",
              "      height: 32px;\n",
              "      padding: 0 0 0 0;\n",
              "      width: 32px;\n",
              "    }\n",
              "\n",
              "    .colab-df-convert:hover {\n",
              "      background-color: #E2EBFA;\n",
              "      box-shadow: 0px 1px 2px rgba(60, 64, 67, 0.3), 0px 1px 3px 1px rgba(60, 64, 67, 0.15);\n",
              "      fill: #174EA6;\n",
              "    }\n",
              "\n",
              "    [theme=dark] .colab-df-convert {\n",
              "      background-color: #3B4455;\n",
              "      fill: #D2E3FC;\n",
              "    }\n",
              "\n",
              "    [theme=dark] .colab-df-convert:hover {\n",
              "      background-color: #434B5C;\n",
              "      box-shadow: 0px 1px 3px 1px rgba(0, 0, 0, 0.15);\n",
              "      filter: drop-shadow(0px 1px 2px rgba(0, 0, 0, 0.3));\n",
              "      fill: #FFFFFF;\n",
              "    }\n",
              "  </style>\n",
              "\n",
              "      <script>\n",
              "        const buttonEl =\n",
              "          document.querySelector('#df-4de3120b-57e4-4a03-9680-ce1d3b0732e3 button.colab-df-convert');\n",
              "        buttonEl.style.display =\n",
              "          google.colab.kernel.accessAllowed ? 'block' : 'none';\n",
              "\n",
              "        async function convertToInteractive(key) {\n",
              "          const element = document.querySelector('#df-4de3120b-57e4-4a03-9680-ce1d3b0732e3');\n",
              "          const dataTable =\n",
              "            await google.colab.kernel.invokeFunction('convertToInteractive',\n",
              "                                                     [key], {});\n",
              "          if (!dataTable) return;\n",
              "\n",
              "          const docLinkHtml = 'Like what you see? Visit the ' +\n",
              "            '<a target=\"_blank\" href=https://colab.research.google.com/notebooks/data_table.ipynb>data table notebook</a>'\n",
              "            + ' to learn more about interactive tables.';\n",
              "          element.innerHTML = '';\n",
              "          dataTable['output_type'] = 'display_data';\n",
              "          await google.colab.output.renderOutput(dataTable, element);\n",
              "          const docLink = document.createElement('div');\n",
              "          docLink.innerHTML = docLinkHtml;\n",
              "          element.appendChild(docLink);\n",
              "        }\n",
              "      </script>\n",
              "    </div>\n",
              "  </div>\n",
              "  "
            ]
          },
          "metadata": {},
          "execution_count": 2
        }
      ]
    },
    {
      "cell_type": "code",
      "source": [
        "df.shape"
      ],
      "metadata": {
        "colab": {
          "base_uri": "https://localhost:8080/"
        },
        "id": "nHGufFzdM8db",
        "outputId": "b2864c6b-b81c-411d-f4c8-44c1d7f4cea7"
      },
      "execution_count": 3,
      "outputs": [
        {
          "output_type": "execute_result",
          "data": {
            "text/plain": [
              "(480, 13)"
            ]
          },
          "metadata": {},
          "execution_count": 3
        }
      ]
    },
    {
      "cell_type": "code",
      "source": [
        "df.info()"
      ],
      "metadata": {
        "colab": {
          "base_uri": "https://localhost:8080/"
        },
        "id": "zDxezWkcJRGL",
        "outputId": "d8a6d9fe-93c9-4fcd-8023-889a85ccc7c9"
      },
      "execution_count": 4,
      "outputs": [
        {
          "output_type": "stream",
          "name": "stdout",
          "text": [
            "<class 'pandas.core.frame.DataFrame'>\n",
            "RangeIndex: 480 entries, 0 to 479\n",
            "Data columns (total 13 columns):\n",
            " #   Column                        Non-Null Count  Dtype  \n",
            "---  ------                        --------------  -----  \n",
            " 0   Quarters                      480 non-null    object \n",
            " 1   Company                       480 non-null    object \n",
            " 2   Oil Price                     480 non-null    float64\n",
            " 3   Total Income From Operations  480 non-null    float64\n",
            " 4   Return on Equity Ratio        480 non-null    float64\n",
            " 5   Price-Equity Ratio            480 non-null    float64\n",
            " 6   Gross Margin                  480 non-null    float64\n",
            " 7   Profit Margin                 480 non-null    float64\n",
            " 8   EPS                           480 non-null    float64\n",
            " 9   EV/Net Operating Revenue      480 non-null    float64\n",
            " 10  Change in Inventory           480 non-null    float64\n",
            " 11  CPI                           480 non-null    float64\n",
            " 12  Closing Stock Price           480 non-null    float64\n",
            "dtypes: float64(11), object(2)\n",
            "memory usage: 48.9+ KB\n"
          ]
        }
      ]
    },
    {
      "cell_type": "markdown",
      "source": [
        "## Creating y-variable"
      ],
      "metadata": {
        "id": "8WF_PLZ2oeZN"
      }
    },
    {
      "cell_type": "code",
      "source": [
        "df['Next Quarter StockPrice'] = df.groupby('Company')['Closing Stock Price'].shift(1)\n",
        "df.head()"
      ],
      "metadata": {
        "colab": {
          "base_uri": "https://localhost:8080/",
          "height": 476
        },
        "id": "UVQQjtVHoPoE",
        "outputId": "ab7ccbd1-e3e1-46aa-d5cd-da6b20aed95e"
      },
      "execution_count": 5,
      "outputs": [
        {
          "output_type": "execute_result",
          "data": {
            "text/plain": [
              "  Quarters             Company  Oil Price  Total Income From Operations  \\\n",
              "0  Mar '20  Procter and Gamble    2392.98                        656.05   \n",
              "1  Dec '19  Procter and Gamble    4509.77                        859.27   \n",
              "2  Sep '19  Procter and Gamble    4282.87                        852.14   \n",
              "3  Jun '19  Procter and Gamble    4149.67                        637.29   \n",
              "4  Mar '19  Procter and Gamble    4432.04                        699.34   \n",
              "\n",
              "   Return on Equity Ratio  Price-Equity Ratio  Gross Margin  Profit Margin  \\\n",
              "0                   20.21              146.39          0.64           0.14   \n",
              "1                   26.47              103.92          0.65           0.16   \n",
              "2                   26.25              111.13          0.59           0.16   \n",
              "3                   19.63              219.22          0.55           0.10   \n",
              "4                   21.54              132.34          0.61           0.13   \n",
              "\n",
              "     EPS  EV/Net Operating Revenue  Change in Inventory    CPI  \\\n",
              "0  28.07                     52.15               -16.18  148.6   \n",
              "1  41.88                     39.81                21.20  150.4   \n",
              "2  42.16                     40.15                -8.62  145.8   \n",
              "3  18.73                     53.68               -25.40  142.9   \n",
              "4  27.76                     45.39                25.80  140.4   \n",
              "\n",
              "   Closing Stock Price  Next Quarter StockPrice  \n",
              "0              4109.05                      NaN  \n",
              "1              4352.30                  4109.05  \n",
              "2              4685.15                  4352.30  \n",
              "3              4106.05                  4685.15  \n",
              "4              3673.65                  4106.05  "
            ],
            "text/html": [
              "\n",
              "  <div id=\"df-1c22fd10-c6f0-4185-ba6f-dd34f426796a\">\n",
              "    <div class=\"colab-df-container\">\n",
              "      <div>\n",
              "<style scoped>\n",
              "    .dataframe tbody tr th:only-of-type {\n",
              "        vertical-align: middle;\n",
              "    }\n",
              "\n",
              "    .dataframe tbody tr th {\n",
              "        vertical-align: top;\n",
              "    }\n",
              "\n",
              "    .dataframe thead th {\n",
              "        text-align: right;\n",
              "    }\n",
              "</style>\n",
              "<table border=\"1\" class=\"dataframe\">\n",
              "  <thead>\n",
              "    <tr style=\"text-align: right;\">\n",
              "      <th></th>\n",
              "      <th>Quarters</th>\n",
              "      <th>Company</th>\n",
              "      <th>Oil Price</th>\n",
              "      <th>Total Income From Operations</th>\n",
              "      <th>Return on Equity Ratio</th>\n",
              "      <th>Price-Equity Ratio</th>\n",
              "      <th>Gross Margin</th>\n",
              "      <th>Profit Margin</th>\n",
              "      <th>EPS</th>\n",
              "      <th>EV/Net Operating Revenue</th>\n",
              "      <th>Change in Inventory</th>\n",
              "      <th>CPI</th>\n",
              "      <th>Closing Stock Price</th>\n",
              "      <th>Next Quarter StockPrice</th>\n",
              "    </tr>\n",
              "  </thead>\n",
              "  <tbody>\n",
              "    <tr>\n",
              "      <th>0</th>\n",
              "      <td>Mar '20</td>\n",
              "      <td>Procter and Gamble</td>\n",
              "      <td>2392.98</td>\n",
              "      <td>656.05</td>\n",
              "      <td>20.21</td>\n",
              "      <td>146.39</td>\n",
              "      <td>0.64</td>\n",
              "      <td>0.14</td>\n",
              "      <td>28.07</td>\n",
              "      <td>52.15</td>\n",
              "      <td>-16.18</td>\n",
              "      <td>148.6</td>\n",
              "      <td>4109.05</td>\n",
              "      <td>NaN</td>\n",
              "    </tr>\n",
              "    <tr>\n",
              "      <th>1</th>\n",
              "      <td>Dec '19</td>\n",
              "      <td>Procter and Gamble</td>\n",
              "      <td>4509.77</td>\n",
              "      <td>859.27</td>\n",
              "      <td>26.47</td>\n",
              "      <td>103.92</td>\n",
              "      <td>0.65</td>\n",
              "      <td>0.16</td>\n",
              "      <td>41.88</td>\n",
              "      <td>39.81</td>\n",
              "      <td>21.20</td>\n",
              "      <td>150.4</td>\n",
              "      <td>4352.30</td>\n",
              "      <td>4109.05</td>\n",
              "    </tr>\n",
              "    <tr>\n",
              "      <th>2</th>\n",
              "      <td>Sep '19</td>\n",
              "      <td>Procter and Gamble</td>\n",
              "      <td>4282.87</td>\n",
              "      <td>852.14</td>\n",
              "      <td>26.25</td>\n",
              "      <td>111.13</td>\n",
              "      <td>0.59</td>\n",
              "      <td>0.16</td>\n",
              "      <td>42.16</td>\n",
              "      <td>40.15</td>\n",
              "      <td>-8.62</td>\n",
              "      <td>145.8</td>\n",
              "      <td>4685.15</td>\n",
              "      <td>4352.30</td>\n",
              "    </tr>\n",
              "    <tr>\n",
              "      <th>3</th>\n",
              "      <td>Jun '19</td>\n",
              "      <td>Procter and Gamble</td>\n",
              "      <td>4149.67</td>\n",
              "      <td>637.29</td>\n",
              "      <td>19.63</td>\n",
              "      <td>219.22</td>\n",
              "      <td>0.55</td>\n",
              "      <td>0.10</td>\n",
              "      <td>18.73</td>\n",
              "      <td>53.68</td>\n",
              "      <td>-25.40</td>\n",
              "      <td>142.9</td>\n",
              "      <td>4106.05</td>\n",
              "      <td>4685.15</td>\n",
              "    </tr>\n",
              "    <tr>\n",
              "      <th>4</th>\n",
              "      <td>Mar '19</td>\n",
              "      <td>Procter and Gamble</td>\n",
              "      <td>4432.04</td>\n",
              "      <td>699.34</td>\n",
              "      <td>21.54</td>\n",
              "      <td>132.34</td>\n",
              "      <td>0.61</td>\n",
              "      <td>0.13</td>\n",
              "      <td>27.76</td>\n",
              "      <td>45.39</td>\n",
              "      <td>25.80</td>\n",
              "      <td>140.4</td>\n",
              "      <td>3673.65</td>\n",
              "      <td>4106.05</td>\n",
              "    </tr>\n",
              "  </tbody>\n",
              "</table>\n",
              "</div>\n",
              "      <button class=\"colab-df-convert\" onclick=\"convertToInteractive('df-1c22fd10-c6f0-4185-ba6f-dd34f426796a')\"\n",
              "              title=\"Convert this dataframe to an interactive table.\"\n",
              "              style=\"display:none;\">\n",
              "        \n",
              "  <svg xmlns=\"http://www.w3.org/2000/svg\" height=\"24px\"viewBox=\"0 0 24 24\"\n",
              "       width=\"24px\">\n",
              "    <path d=\"M0 0h24v24H0V0z\" fill=\"none\"/>\n",
              "    <path d=\"M18.56 5.44l.94 2.06.94-2.06 2.06-.94-2.06-.94-.94-2.06-.94 2.06-2.06.94zm-11 1L8.5 8.5l.94-2.06 2.06-.94-2.06-.94L8.5 2.5l-.94 2.06-2.06.94zm10 10l.94 2.06.94-2.06 2.06-.94-2.06-.94-.94-2.06-.94 2.06-2.06.94z\"/><path d=\"M17.41 7.96l-1.37-1.37c-.4-.4-.92-.59-1.43-.59-.52 0-1.04.2-1.43.59L10.3 9.45l-7.72 7.72c-.78.78-.78 2.05 0 2.83L4 21.41c.39.39.9.59 1.41.59.51 0 1.02-.2 1.41-.59l7.78-7.78 2.81-2.81c.8-.78.8-2.07 0-2.86zM5.41 20L4 18.59l7.72-7.72 1.47 1.35L5.41 20z\"/>\n",
              "  </svg>\n",
              "      </button>\n",
              "      \n",
              "  <style>\n",
              "    .colab-df-container {\n",
              "      display:flex;\n",
              "      flex-wrap:wrap;\n",
              "      gap: 12px;\n",
              "    }\n",
              "\n",
              "    .colab-df-convert {\n",
              "      background-color: #E8F0FE;\n",
              "      border: none;\n",
              "      border-radius: 50%;\n",
              "      cursor: pointer;\n",
              "      display: none;\n",
              "      fill: #1967D2;\n",
              "      height: 32px;\n",
              "      padding: 0 0 0 0;\n",
              "      width: 32px;\n",
              "    }\n",
              "\n",
              "    .colab-df-convert:hover {\n",
              "      background-color: #E2EBFA;\n",
              "      box-shadow: 0px 1px 2px rgba(60, 64, 67, 0.3), 0px 1px 3px 1px rgba(60, 64, 67, 0.15);\n",
              "      fill: #174EA6;\n",
              "    }\n",
              "\n",
              "    [theme=dark] .colab-df-convert {\n",
              "      background-color: #3B4455;\n",
              "      fill: #D2E3FC;\n",
              "    }\n",
              "\n",
              "    [theme=dark] .colab-df-convert:hover {\n",
              "      background-color: #434B5C;\n",
              "      box-shadow: 0px 1px 3px 1px rgba(0, 0, 0, 0.15);\n",
              "      filter: drop-shadow(0px 1px 2px rgba(0, 0, 0, 0.3));\n",
              "      fill: #FFFFFF;\n",
              "    }\n",
              "  </style>\n",
              "\n",
              "      <script>\n",
              "        const buttonEl =\n",
              "          document.querySelector('#df-1c22fd10-c6f0-4185-ba6f-dd34f426796a button.colab-df-convert');\n",
              "        buttonEl.style.display =\n",
              "          google.colab.kernel.accessAllowed ? 'block' : 'none';\n",
              "\n",
              "        async function convertToInteractive(key) {\n",
              "          const element = document.querySelector('#df-1c22fd10-c6f0-4185-ba6f-dd34f426796a');\n",
              "          const dataTable =\n",
              "            await google.colab.kernel.invokeFunction('convertToInteractive',\n",
              "                                                     [key], {});\n",
              "          if (!dataTable) return;\n",
              "\n",
              "          const docLinkHtml = 'Like what you see? Visit the ' +\n",
              "            '<a target=\"_blank\" href=https://colab.research.google.com/notebooks/data_table.ipynb>data table notebook</a>'\n",
              "            + ' to learn more about interactive tables.';\n",
              "          element.innerHTML = '';\n",
              "          dataTable['output_type'] = 'display_data';\n",
              "          await google.colab.output.renderOutput(dataTable, element);\n",
              "          const docLink = document.createElement('div');\n",
              "          docLink.innerHTML = docLinkHtml;\n",
              "          element.appendChild(docLink);\n",
              "        }\n",
              "      </script>\n",
              "    </div>\n",
              "  </div>\n",
              "  "
            ]
          },
          "metadata": {},
          "execution_count": 5
        }
      ]
    },
    {
      "cell_type": "code",
      "source": [
        "df.iloc[20:26]"
      ],
      "metadata": {
        "colab": {
          "base_uri": "https://localhost:8080/",
          "height": 472
        },
        "id": "I0_7LpqjpU3r",
        "outputId": "2db41ef6-ef48-4944-e005-c1888245cdb8"
      },
      "execution_count": 6,
      "outputs": [
        {
          "output_type": "execute_result",
          "data": {
            "text/plain": [
              "   Quarters                 Company  Oil Price  Total Income From Operations  \\\n",
              "20  Mar '15      Procter and Gamble    3299.23                        555.23   \n",
              "21  Dec '14      Procter and Gamble    3806.55                        644.51   \n",
              "22  Sep '14      Procter and Gamble    5835.69                        576.49   \n",
              "23  Jun '14      Procter and Gamble    6471.05                        486.10   \n",
              "24  Mar '20  Tata Consumer Products    2392.98                       1335.31   \n",
              "25  Dec '19  Tata Consumer Products    4509.77                       1463.45   \n",
              "\n",
              "    Return on Equity Ratio  Price-Equity Ratio  Gross Margin  Profit Margin  \\\n",
              "20                   17.11               34.07          0.86           0.16   \n",
              "21                   19.86               28.46          0.86           0.14   \n",
              "22                   17.76               44.80          0.55           0.11   \n",
              "23                   14.98               26.85          0.61           0.18   \n",
              "24                   14.49              477.86          0.39           0.12   \n",
              "25                   15.88              207.13          0.38           0.10   \n",
              "\n",
              "      EPS  EV/Net Operating Revenue  Change in Inventory    CPI  \\\n",
              "20  26.77                     24.42                22.85  120.2   \n",
              "21  27.93                     21.03                 8.77  119.4   \n",
              "22  18.95                     23.51               -19.46  120.1   \n",
              "23  27.70                     27.89               -17.24  116.7   \n",
              "24   0.77                     19.82               -26.40  148.6   \n",
              "25   1.55                     18.08               -10.28  150.4   \n",
              "\n",
              "    Closing Stock Price  Next Quarter StockPrice  \n",
              "20               912.00                   800.75  \n",
              "21               794.80                   912.00  \n",
              "22               848.95                   794.80  \n",
              "23               743.75                   848.95  \n",
              "24               367.95                      NaN  \n",
              "25               321.05                   367.95  "
            ],
            "text/html": [
              "\n",
              "  <div id=\"df-3b1116b1-1ec4-49d1-8a4d-6380d544fd43\">\n",
              "    <div class=\"colab-df-container\">\n",
              "      <div>\n",
              "<style scoped>\n",
              "    .dataframe tbody tr th:only-of-type {\n",
              "        vertical-align: middle;\n",
              "    }\n",
              "\n",
              "    .dataframe tbody tr th {\n",
              "        vertical-align: top;\n",
              "    }\n",
              "\n",
              "    .dataframe thead th {\n",
              "        text-align: right;\n",
              "    }\n",
              "</style>\n",
              "<table border=\"1\" class=\"dataframe\">\n",
              "  <thead>\n",
              "    <tr style=\"text-align: right;\">\n",
              "      <th></th>\n",
              "      <th>Quarters</th>\n",
              "      <th>Company</th>\n",
              "      <th>Oil Price</th>\n",
              "      <th>Total Income From Operations</th>\n",
              "      <th>Return on Equity Ratio</th>\n",
              "      <th>Price-Equity Ratio</th>\n",
              "      <th>Gross Margin</th>\n",
              "      <th>Profit Margin</th>\n",
              "      <th>EPS</th>\n",
              "      <th>EV/Net Operating Revenue</th>\n",
              "      <th>Change in Inventory</th>\n",
              "      <th>CPI</th>\n",
              "      <th>Closing Stock Price</th>\n",
              "      <th>Next Quarter StockPrice</th>\n",
              "    </tr>\n",
              "  </thead>\n",
              "  <tbody>\n",
              "    <tr>\n",
              "      <th>20</th>\n",
              "      <td>Mar '15</td>\n",
              "      <td>Procter and Gamble</td>\n",
              "      <td>3299.23</td>\n",
              "      <td>555.23</td>\n",
              "      <td>17.11</td>\n",
              "      <td>34.07</td>\n",
              "      <td>0.86</td>\n",
              "      <td>0.16</td>\n",
              "      <td>26.77</td>\n",
              "      <td>24.42</td>\n",
              "      <td>22.85</td>\n",
              "      <td>120.2</td>\n",
              "      <td>912.00</td>\n",
              "      <td>800.75</td>\n",
              "    </tr>\n",
              "    <tr>\n",
              "      <th>21</th>\n",
              "      <td>Dec '14</td>\n",
              "      <td>Procter and Gamble</td>\n",
              "      <td>3806.55</td>\n",
              "      <td>644.51</td>\n",
              "      <td>19.86</td>\n",
              "      <td>28.46</td>\n",
              "      <td>0.86</td>\n",
              "      <td>0.14</td>\n",
              "      <td>27.93</td>\n",
              "      <td>21.03</td>\n",
              "      <td>8.77</td>\n",
              "      <td>119.4</td>\n",
              "      <td>794.80</td>\n",
              "      <td>912.00</td>\n",
              "    </tr>\n",
              "    <tr>\n",
              "      <th>22</th>\n",
              "      <td>Sep '14</td>\n",
              "      <td>Procter and Gamble</td>\n",
              "      <td>5835.69</td>\n",
              "      <td>576.49</td>\n",
              "      <td>17.76</td>\n",
              "      <td>44.80</td>\n",
              "      <td>0.55</td>\n",
              "      <td>0.11</td>\n",
              "      <td>18.95</td>\n",
              "      <td>23.51</td>\n",
              "      <td>-19.46</td>\n",
              "      <td>120.1</td>\n",
              "      <td>848.95</td>\n",
              "      <td>794.80</td>\n",
              "    </tr>\n",
              "    <tr>\n",
              "      <th>23</th>\n",
              "      <td>Jun '14</td>\n",
              "      <td>Procter and Gamble</td>\n",
              "      <td>6471.05</td>\n",
              "      <td>486.10</td>\n",
              "      <td>14.98</td>\n",
              "      <td>26.85</td>\n",
              "      <td>0.61</td>\n",
              "      <td>0.18</td>\n",
              "      <td>27.70</td>\n",
              "      <td>27.89</td>\n",
              "      <td>-17.24</td>\n",
              "      <td>116.7</td>\n",
              "      <td>743.75</td>\n",
              "      <td>848.95</td>\n",
              "    </tr>\n",
              "    <tr>\n",
              "      <th>24</th>\n",
              "      <td>Mar '20</td>\n",
              "      <td>Tata Consumer Products</td>\n",
              "      <td>2392.98</td>\n",
              "      <td>1335.31</td>\n",
              "      <td>14.49</td>\n",
              "      <td>477.86</td>\n",
              "      <td>0.39</td>\n",
              "      <td>0.12</td>\n",
              "      <td>0.77</td>\n",
              "      <td>19.82</td>\n",
              "      <td>-26.40</td>\n",
              "      <td>148.6</td>\n",
              "      <td>367.95</td>\n",
              "      <td>NaN</td>\n",
              "    </tr>\n",
              "    <tr>\n",
              "      <th>25</th>\n",
              "      <td>Dec '19</td>\n",
              "      <td>Tata Consumer Products</td>\n",
              "      <td>4509.77</td>\n",
              "      <td>1463.45</td>\n",
              "      <td>15.88</td>\n",
              "      <td>207.13</td>\n",
              "      <td>0.38</td>\n",
              "      <td>0.10</td>\n",
              "      <td>1.55</td>\n",
              "      <td>18.08</td>\n",
              "      <td>-10.28</td>\n",
              "      <td>150.4</td>\n",
              "      <td>321.05</td>\n",
              "      <td>367.95</td>\n",
              "    </tr>\n",
              "  </tbody>\n",
              "</table>\n",
              "</div>\n",
              "      <button class=\"colab-df-convert\" onclick=\"convertToInteractive('df-3b1116b1-1ec4-49d1-8a4d-6380d544fd43')\"\n",
              "              title=\"Convert this dataframe to an interactive table.\"\n",
              "              style=\"display:none;\">\n",
              "        \n",
              "  <svg xmlns=\"http://www.w3.org/2000/svg\" height=\"24px\"viewBox=\"0 0 24 24\"\n",
              "       width=\"24px\">\n",
              "    <path d=\"M0 0h24v24H0V0z\" fill=\"none\"/>\n",
              "    <path d=\"M18.56 5.44l.94 2.06.94-2.06 2.06-.94-2.06-.94-.94-2.06-.94 2.06-2.06.94zm-11 1L8.5 8.5l.94-2.06 2.06-.94-2.06-.94L8.5 2.5l-.94 2.06-2.06.94zm10 10l.94 2.06.94-2.06 2.06-.94-2.06-.94-.94-2.06-.94 2.06-2.06.94z\"/><path d=\"M17.41 7.96l-1.37-1.37c-.4-.4-.92-.59-1.43-.59-.52 0-1.04.2-1.43.59L10.3 9.45l-7.72 7.72c-.78.78-.78 2.05 0 2.83L4 21.41c.39.39.9.59 1.41.59.51 0 1.02-.2 1.41-.59l7.78-7.78 2.81-2.81c.8-.78.8-2.07 0-2.86zM5.41 20L4 18.59l7.72-7.72 1.47 1.35L5.41 20z\"/>\n",
              "  </svg>\n",
              "      </button>\n",
              "      \n",
              "  <style>\n",
              "    .colab-df-container {\n",
              "      display:flex;\n",
              "      flex-wrap:wrap;\n",
              "      gap: 12px;\n",
              "    }\n",
              "\n",
              "    .colab-df-convert {\n",
              "      background-color: #E8F0FE;\n",
              "      border: none;\n",
              "      border-radius: 50%;\n",
              "      cursor: pointer;\n",
              "      display: none;\n",
              "      fill: #1967D2;\n",
              "      height: 32px;\n",
              "      padding: 0 0 0 0;\n",
              "      width: 32px;\n",
              "    }\n",
              "\n",
              "    .colab-df-convert:hover {\n",
              "      background-color: #E2EBFA;\n",
              "      box-shadow: 0px 1px 2px rgba(60, 64, 67, 0.3), 0px 1px 3px 1px rgba(60, 64, 67, 0.15);\n",
              "      fill: #174EA6;\n",
              "    }\n",
              "\n",
              "    [theme=dark] .colab-df-convert {\n",
              "      background-color: #3B4455;\n",
              "      fill: #D2E3FC;\n",
              "    }\n",
              "\n",
              "    [theme=dark] .colab-df-convert:hover {\n",
              "      background-color: #434B5C;\n",
              "      box-shadow: 0px 1px 3px 1px rgba(0, 0, 0, 0.15);\n",
              "      filter: drop-shadow(0px 1px 2px rgba(0, 0, 0, 0.3));\n",
              "      fill: #FFFFFF;\n",
              "    }\n",
              "  </style>\n",
              "\n",
              "      <script>\n",
              "        const buttonEl =\n",
              "          document.querySelector('#df-3b1116b1-1ec4-49d1-8a4d-6380d544fd43 button.colab-df-convert');\n",
              "        buttonEl.style.display =\n",
              "          google.colab.kernel.accessAllowed ? 'block' : 'none';\n",
              "\n",
              "        async function convertToInteractive(key) {\n",
              "          const element = document.querySelector('#df-3b1116b1-1ec4-49d1-8a4d-6380d544fd43');\n",
              "          const dataTable =\n",
              "            await google.colab.kernel.invokeFunction('convertToInteractive',\n",
              "                                                     [key], {});\n",
              "          if (!dataTable) return;\n",
              "\n",
              "          const docLinkHtml = 'Like what you see? Visit the ' +\n",
              "            '<a target=\"_blank\" href=https://colab.research.google.com/notebooks/data_table.ipynb>data table notebook</a>'\n",
              "            + ' to learn more about interactive tables.';\n",
              "          element.innerHTML = '';\n",
              "          dataTable['output_type'] = 'display_data';\n",
              "          await google.colab.output.renderOutput(dataTable, element);\n",
              "          const docLink = document.createElement('div');\n",
              "          docLink.innerHTML = docLinkHtml;\n",
              "          element.appendChild(docLink);\n",
              "        }\n",
              "      </script>\n",
              "    </div>\n",
              "  </div>\n",
              "  "
            ]
          },
          "metadata": {},
          "execution_count": 6
        }
      ]
    },
    {
      "cell_type": "markdown",
      "source": [
        "## Train Test Split"
      ],
      "metadata": {
        "id": "uPu6nSoao8An"
      }
    },
    {
      "cell_type": "code",
      "source": [
        "df_test = df[df[\"Quarters\"].isin([\"Mar '20\",\"Dec '19\",\"Sep '19\",\"Jun '19\"])]\n",
        "df_train = df[~df['Quarters'].isin(df_test['Quarters'])]\n",
        "\n",
        "df_train.shape, df_test.shape"
      ],
      "metadata": {
        "colab": {
          "base_uri": "https://localhost:8080/"
        },
        "id": "tjzLSTFmo_Cw",
        "outputId": "b008d79a-fcf9-44ce-c2a3-f8d6e35639ba"
      },
      "execution_count": 7,
      "outputs": [
        {
          "output_type": "execute_result",
          "data": {
            "text/plain": [
              "((400, 14), (80, 14))"
            ]
          },
          "metadata": {},
          "execution_count": 7
        }
      ]
    },
    {
      "cell_type": "code",
      "source": [
        "y_train = df_train[\"Next Quarter StockPrice\"]\n",
        "X_train = df_train.drop(\"Next Quarter StockPrice\",axis=1)\n",
        "y_test = df_test[\"Next Quarter StockPrice\"]\n",
        "X_test = df_test.drop(\"Next Quarter StockPrice\",axis=1)\n",
        "\n",
        "X_train.shape, y_train.shape"
      ],
      "metadata": {
        "colab": {
          "base_uri": "https://localhost:8080/"
        },
        "id": "cAoXwi-DKVFJ",
        "outputId": "a9c98f1e-f1e6-4f0a-b8a5-0d2c61b9715f"
      },
      "execution_count": 8,
      "outputs": [
        {
          "output_type": "execute_result",
          "data": {
            "text/plain": [
              "((400, 13), (400,))"
            ]
          },
          "metadata": {},
          "execution_count": 8
        }
      ]
    },
    {
      "cell_type": "markdown",
      "source": [
        "## Preprocessing Function"
      ],
      "metadata": {
        "id": "QlfHPVZb0qzL"
      }
    },
    {
      "cell_type": "code",
      "source": [
        "def preprocessor(df):\n",
        "  df['Month'],df['Year'] = df['Quarters'].str.split().str\n",
        "  df['Year'] = df['Year'].str.replace(\"'\",\"\").astype(int)\n",
        "  print(\"Quarter column split in Month and Year\")\n",
        "  df.drop(\"Quarters\",axis=1,inplace=True)\n",
        "  print(\"Quarter column dropped from dataframe\")"
      ],
      "metadata": {
        "id": "P_JA7jiI0t3v"
      },
      "execution_count": 9,
      "outputs": []
    },
    {
      "cell_type": "code",
      "source": [
        "preprocessor(X_train)\n",
        "preprocessor(X_test)\n",
        "X_train.head(2)"
      ],
      "metadata": {
        "colab": {
          "base_uri": "https://localhost:8080/",
          "height": 333
        },
        "id": "cBbH7Dvx4Nmy",
        "outputId": "26f4b6cf-143b-4bfb-9849-7b800869c277"
      },
      "execution_count": 10,
      "outputs": [
        {
          "output_type": "stream",
          "name": "stdout",
          "text": [
            "Quarter column split in Month and Year\n",
            "Quarter column dropped from dataframe\n",
            "Quarter column split in Month and Year\n",
            "Quarter column dropped from dataframe\n"
          ]
        },
        {
          "output_type": "execute_result",
          "data": {
            "text/plain": [
              "              Company  Oil Price  Total Income From Operations  \\\n",
              "4  Procter and Gamble    4432.04                        699.34   \n",
              "5  Procter and Gamble    3822.07                        818.07   \n",
              "\n",
              "   Return on Equity Ratio  Price-Equity Ratio  Gross Margin  Profit Margin  \\\n",
              "4                   21.54              132.34          0.61           0.13   \n",
              "5                   25.20               80.65          0.57           0.15   \n",
              "\n",
              "     EPS  EV/Net Operating Revenue  Change in Inventory    CPI  \\\n",
              "4  27.76                     45.39                25.80  140.4   \n",
              "5  38.24                     38.80                11.46  140.1   \n",
              "\n",
              "   Closing Stock Price Month  Year  \n",
              "4              3673.65   Mar    19  \n",
              "5              3084.20   Dec    18  "
            ],
            "text/html": [
              "\n",
              "  <div id=\"df-3d95f97b-a3e6-41b1-9bbd-b9d4c312e3f0\">\n",
              "    <div class=\"colab-df-container\">\n",
              "      <div>\n",
              "<style scoped>\n",
              "    .dataframe tbody tr th:only-of-type {\n",
              "        vertical-align: middle;\n",
              "    }\n",
              "\n",
              "    .dataframe tbody tr th {\n",
              "        vertical-align: top;\n",
              "    }\n",
              "\n",
              "    .dataframe thead th {\n",
              "        text-align: right;\n",
              "    }\n",
              "</style>\n",
              "<table border=\"1\" class=\"dataframe\">\n",
              "  <thead>\n",
              "    <tr style=\"text-align: right;\">\n",
              "      <th></th>\n",
              "      <th>Company</th>\n",
              "      <th>Oil Price</th>\n",
              "      <th>Total Income From Operations</th>\n",
              "      <th>Return on Equity Ratio</th>\n",
              "      <th>Price-Equity Ratio</th>\n",
              "      <th>Gross Margin</th>\n",
              "      <th>Profit Margin</th>\n",
              "      <th>EPS</th>\n",
              "      <th>EV/Net Operating Revenue</th>\n",
              "      <th>Change in Inventory</th>\n",
              "      <th>CPI</th>\n",
              "      <th>Closing Stock Price</th>\n",
              "      <th>Month</th>\n",
              "      <th>Year</th>\n",
              "    </tr>\n",
              "  </thead>\n",
              "  <tbody>\n",
              "    <tr>\n",
              "      <th>4</th>\n",
              "      <td>Procter and Gamble</td>\n",
              "      <td>4432.04</td>\n",
              "      <td>699.34</td>\n",
              "      <td>21.54</td>\n",
              "      <td>132.34</td>\n",
              "      <td>0.61</td>\n",
              "      <td>0.13</td>\n",
              "      <td>27.76</td>\n",
              "      <td>45.39</td>\n",
              "      <td>25.80</td>\n",
              "      <td>140.4</td>\n",
              "      <td>3673.65</td>\n",
              "      <td>Mar</td>\n",
              "      <td>19</td>\n",
              "    </tr>\n",
              "    <tr>\n",
              "      <th>5</th>\n",
              "      <td>Procter and Gamble</td>\n",
              "      <td>3822.07</td>\n",
              "      <td>818.07</td>\n",
              "      <td>25.20</td>\n",
              "      <td>80.65</td>\n",
              "      <td>0.57</td>\n",
              "      <td>0.15</td>\n",
              "      <td>38.24</td>\n",
              "      <td>38.80</td>\n",
              "      <td>11.46</td>\n",
              "      <td>140.1</td>\n",
              "      <td>3084.20</td>\n",
              "      <td>Dec</td>\n",
              "      <td>18</td>\n",
              "    </tr>\n",
              "  </tbody>\n",
              "</table>\n",
              "</div>\n",
              "      <button class=\"colab-df-convert\" onclick=\"convertToInteractive('df-3d95f97b-a3e6-41b1-9bbd-b9d4c312e3f0')\"\n",
              "              title=\"Convert this dataframe to an interactive table.\"\n",
              "              style=\"display:none;\">\n",
              "        \n",
              "  <svg xmlns=\"http://www.w3.org/2000/svg\" height=\"24px\"viewBox=\"0 0 24 24\"\n",
              "       width=\"24px\">\n",
              "    <path d=\"M0 0h24v24H0V0z\" fill=\"none\"/>\n",
              "    <path d=\"M18.56 5.44l.94 2.06.94-2.06 2.06-.94-2.06-.94-.94-2.06-.94 2.06-2.06.94zm-11 1L8.5 8.5l.94-2.06 2.06-.94-2.06-.94L8.5 2.5l-.94 2.06-2.06.94zm10 10l.94 2.06.94-2.06 2.06-.94-2.06-.94-.94-2.06-.94 2.06-2.06.94z\"/><path d=\"M17.41 7.96l-1.37-1.37c-.4-.4-.92-.59-1.43-.59-.52 0-1.04.2-1.43.59L10.3 9.45l-7.72 7.72c-.78.78-.78 2.05 0 2.83L4 21.41c.39.39.9.59 1.41.59.51 0 1.02-.2 1.41-.59l7.78-7.78 2.81-2.81c.8-.78.8-2.07 0-2.86zM5.41 20L4 18.59l7.72-7.72 1.47 1.35L5.41 20z\"/>\n",
              "  </svg>\n",
              "      </button>\n",
              "      \n",
              "  <style>\n",
              "    .colab-df-container {\n",
              "      display:flex;\n",
              "      flex-wrap:wrap;\n",
              "      gap: 12px;\n",
              "    }\n",
              "\n",
              "    .colab-df-convert {\n",
              "      background-color: #E8F0FE;\n",
              "      border: none;\n",
              "      border-radius: 50%;\n",
              "      cursor: pointer;\n",
              "      display: none;\n",
              "      fill: #1967D2;\n",
              "      height: 32px;\n",
              "      padding: 0 0 0 0;\n",
              "      width: 32px;\n",
              "    }\n",
              "\n",
              "    .colab-df-convert:hover {\n",
              "      background-color: #E2EBFA;\n",
              "      box-shadow: 0px 1px 2px rgba(60, 64, 67, 0.3), 0px 1px 3px 1px rgba(60, 64, 67, 0.15);\n",
              "      fill: #174EA6;\n",
              "    }\n",
              "\n",
              "    [theme=dark] .colab-df-convert {\n",
              "      background-color: #3B4455;\n",
              "      fill: #D2E3FC;\n",
              "    }\n",
              "\n",
              "    [theme=dark] .colab-df-convert:hover {\n",
              "      background-color: #434B5C;\n",
              "      box-shadow: 0px 1px 3px 1px rgba(0, 0, 0, 0.15);\n",
              "      filter: drop-shadow(0px 1px 2px rgba(0, 0, 0, 0.3));\n",
              "      fill: #FFFFFF;\n",
              "    }\n",
              "  </style>\n",
              "\n",
              "      <script>\n",
              "        const buttonEl =\n",
              "          document.querySelector('#df-3d95f97b-a3e6-41b1-9bbd-b9d4c312e3f0 button.colab-df-convert');\n",
              "        buttonEl.style.display =\n",
              "          google.colab.kernel.accessAllowed ? 'block' : 'none';\n",
              "\n",
              "        async function convertToInteractive(key) {\n",
              "          const element = document.querySelector('#df-3d95f97b-a3e6-41b1-9bbd-b9d4c312e3f0');\n",
              "          const dataTable =\n",
              "            await google.colab.kernel.invokeFunction('convertToInteractive',\n",
              "                                                     [key], {});\n",
              "          if (!dataTable) return;\n",
              "\n",
              "          const docLinkHtml = 'Like what you see? Visit the ' +\n",
              "            '<a target=\"_blank\" href=https://colab.research.google.com/notebooks/data_table.ipynb>data table notebook</a>'\n",
              "            + ' to learn more about interactive tables.';\n",
              "          element.innerHTML = '';\n",
              "          dataTable['output_type'] = 'display_data';\n",
              "          await google.colab.output.renderOutput(dataTable, element);\n",
              "          const docLink = document.createElement('div');\n",
              "          docLink.innerHTML = docLinkHtml;\n",
              "          element.appendChild(docLink);\n",
              "        }\n",
              "      </script>\n",
              "    </div>\n",
              "  </div>\n",
              "  "
            ]
          },
          "metadata": {},
          "execution_count": 10
        }
      ]
    },
    {
      "cell_type": "markdown",
      "source": [
        "## Split Categorical and Numerical variables"
      ],
      "metadata": {
        "id": "yypXcp0XMp5f"
      }
    },
    {
      "cell_type": "code",
      "source": [
        "all_cols = list(X_train.columns)\n",
        "cat_cols = list(X_train.select_dtypes(\"object\").columns)\n",
        "num_cols = list(set(all_cols)- set(cat_cols))\n",
        "num_cols"
      ],
      "metadata": {
        "colab": {
          "base_uri": "https://localhost:8080/"
        },
        "id": "G55VBQztMR1U",
        "outputId": "58b93200-3b71-4a1b-c3c6-ef9dea69452c"
      },
      "execution_count": 11,
      "outputs": [
        {
          "output_type": "execute_result",
          "data": {
            "text/plain": [
              "['Closing Stock Price',\n",
              " 'Year',\n",
              " 'Oil Price',\n",
              " 'EPS',\n",
              " 'Return on Equity Ratio',\n",
              " 'Price-Equity Ratio',\n",
              " 'Gross Margin',\n",
              " 'Profit Margin',\n",
              " 'Change in Inventory',\n",
              " 'EV/Net Operating Revenue',\n",
              " 'CPI',\n",
              " 'Total Income From Operations']"
            ]
          },
          "metadata": {},
          "execution_count": 11
        }
      ]
    },
    {
      "cell_type": "markdown",
      "source": [
        "## One Hot Encoding for Categorical Variables"
      ],
      "metadata": {
        "id": "vYYcRNcSOA1m"
      }
    },
    {
      "cell_type": "code",
      "source": [
        "from sklearn.preprocessing import OneHotEncoder\n",
        "ohe_encoder = OneHotEncoder(handle_unknown='ignore')\n",
        "ohe_encoder.fit(X_train[cat_cols])\n",
        "ohe_encoder.categories_"
      ],
      "metadata": {
        "colab": {
          "base_uri": "https://localhost:8080/"
        },
        "id": "LyNPyYUPM0eO",
        "outputId": "6c5685af-3293-4392-81ea-44b8939ae49d"
      },
      "execution_count": 12,
      "outputs": [
        {
          "output_type": "execute_result",
          "data": {
            "text/plain": [
              "[array(['Britannia', 'CCL Products India Ltd.', 'Colgate Palmolive',\n",
              "        'Dabur India', 'Emami', 'Gillette India', 'Globus Spirits Ltd.',\n",
              "        'Godrej Consumer', 'HU', 'Hatsun Agro', 'Heritage Foods', 'ITC',\n",
              "        'Jubiliant Foodworks', 'Marico', 'Nestle', 'Procter and Gamble',\n",
              "        'Tasty Bite Eatables', 'Tata Consumer Products',\n",
              "        'United Breweries Ltd.', 'United Spirits Ltd'], dtype=object),\n",
              " array(['Dec', 'Jun', 'Mar', 'Sep'], dtype=object)]"
            ]
          },
          "metadata": {},
          "execution_count": 12
        }
      ]
    },
    {
      "cell_type": "code",
      "source": [
        "encoded_cat_names = list(ohe_encoder.get_feature_names(cat_cols))\n",
        "encoded_cat_names"
      ],
      "metadata": {
        "colab": {
          "base_uri": "https://localhost:8080/"
        },
        "id": "QNYdqrxSQgDo",
        "outputId": "5bed5dd3-658d-47e7-8cc9-ad01819825df"
      },
      "execution_count": 13,
      "outputs": [
        {
          "output_type": "execute_result",
          "data": {
            "text/plain": [
              "['Company_Britannia',\n",
              " 'Company_CCL Products India Ltd.',\n",
              " 'Company_Colgate Palmolive',\n",
              " 'Company_Dabur India',\n",
              " 'Company_Emami',\n",
              " 'Company_Gillette India',\n",
              " 'Company_Globus Spirits Ltd.',\n",
              " 'Company_Godrej Consumer',\n",
              " 'Company_HU',\n",
              " 'Company_Hatsun Agro',\n",
              " 'Company_Heritage Foods',\n",
              " 'Company_ITC',\n",
              " 'Company_Jubiliant Foodworks',\n",
              " 'Company_Marico',\n",
              " 'Company_Nestle',\n",
              " 'Company_Procter and Gamble',\n",
              " 'Company_Tasty Bite Eatables',\n",
              " 'Company_Tata Consumer Products',\n",
              " 'Company_United Breweries Ltd.',\n",
              " 'Company_United Spirits Ltd',\n",
              " 'Month_Dec',\n",
              " 'Month_Jun',\n",
              " 'Month_Mar',\n",
              " 'Month_Sep']"
            ]
          },
          "metadata": {},
          "execution_count": 13
        }
      ]
    },
    {
      "cell_type": "markdown",
      "source": [
        "## Standard Scaling for Numerical Variables"
      ],
      "metadata": {
        "id": "lkGCYRPAO9A5"
      }
    },
    {
      "cell_type": "code",
      "source": [
        "from sklearn.preprocessing import StandardScaler\n",
        "sc = StandardScaler()\n",
        "sc.fit(X_train[num_cols])"
      ],
      "metadata": {
        "colab": {
          "base_uri": "https://localhost:8080/"
        },
        "id": "bREc_Jd1OY5h",
        "outputId": "2a86c1fa-d9d3-4579-aaab-7e42a6052c7f"
      },
      "execution_count": 14,
      "outputs": [
        {
          "output_type": "execute_result",
          "data": {
            "text/plain": [
              "StandardScaler()"
            ]
          },
          "metadata": {},
          "execution_count": 14
        }
      ]
    },
    {
      "cell_type": "code",
      "source": [
        "scaled_num_names = list(sc.feature_names_in_)\n",
        "scaled_num_names"
      ],
      "metadata": {
        "id": "WkdkQOGwPEc8"
      },
      "execution_count": 17,
      "outputs": []
    },
    {
      "cell_type": "code",
      "source": [
        "all_feature_names = encoded_cat_names + scaled_num_names\n",
        "all_feature_names"
      ],
      "metadata": {
        "colab": {
          "base_uri": "https://localhost:8080/"
        },
        "id": "m5lNw1_tqkvZ",
        "outputId": "5e927bf9-4497-409a-8656-b4bf49b59f5d"
      },
      "execution_count": 18,
      "outputs": [
        {
          "output_type": "execute_result",
          "data": {
            "text/plain": [
              "['Company_Britannia',\n",
              " 'Company_CCL Products India Ltd.',\n",
              " 'Company_Colgate Palmolive',\n",
              " 'Company_Dabur India',\n",
              " 'Company_Emami',\n",
              " 'Company_Gillette India',\n",
              " 'Company_Globus Spirits Ltd.',\n",
              " 'Company_Godrej Consumer',\n",
              " 'Company_HU',\n",
              " 'Company_Hatsun Agro',\n",
              " 'Company_Heritage Foods',\n",
              " 'Company_ITC',\n",
              " 'Company_Jubiliant Foodworks',\n",
              " 'Company_Marico',\n",
              " 'Company_Nestle',\n",
              " 'Company_Procter and Gamble',\n",
              " 'Company_Tasty Bite Eatables',\n",
              " 'Company_Tata Consumer Products',\n",
              " 'Company_United Breweries Ltd.',\n",
              " 'Company_United Spirits Ltd',\n",
              " 'Month_Dec',\n",
              " 'Month_Jun',\n",
              " 'Month_Mar',\n",
              " 'Month_Sep',\n",
              " 'Closing Stock Price',\n",
              " 'Year',\n",
              " 'Oil Price',\n",
              " 'EPS',\n",
              " 'Return on Equity Ratio',\n",
              " 'Price-Equity Ratio',\n",
              " 'Gross Margin',\n",
              " 'Profit Margin',\n",
              " 'Change in Inventory',\n",
              " 'EV/Net Operating Revenue',\n",
              " 'CPI',\n",
              " 'Total Income From Operations']"
            ]
          },
          "metadata": {},
          "execution_count": 18
        }
      ]
    },
    {
      "cell_type": "markdown",
      "source": [
        "## Creating Column Transformer"
      ],
      "metadata": {
        "id": "MmSodx71RtEg"
      }
    },
    {
      "cell_type": "code",
      "source": [
        "from sklearn.compose import ColumnTransformer\n",
        "preprocessor = ColumnTransformer(transformers=[('cat', ohe_encoder, cat_cols),\n",
        "                                               ('sc', sc, num_cols)],\n",
        "                                 remainder='passthrough')"
      ],
      "metadata": {
        "id": "OElmwMf-Rafs"
      },
      "execution_count": 19,
      "outputs": []
    },
    {
      "cell_type": "markdown",
      "source": [
        "## Linear Models"
      ],
      "metadata": {
        "id": "GeT1wpndSjBK"
      }
    },
    {
      "cell_type": "code",
      "source": [
        "from sklearn.linear_model import LinearRegression\n",
        "linear_reg = LinearRegression()"
      ],
      "metadata": {
        "id": "_xz67_3ESgcS"
      },
      "execution_count": 20,
      "outputs": []
    },
    {
      "cell_type": "markdown",
      "source": [
        "## Creating Pipeline"
      ],
      "metadata": {
        "id": "zZy9F1geTMPJ"
      }
    },
    {
      "cell_type": "code",
      "source": [
        "from sklearn.pipeline import Pipeline\n",
        "lreg_v1 = Pipeline(steps=[('preprocessor', preprocessor),\n",
        "                          ('regressor', linear_reg)],\n",
        "                   verbose=True)"
      ],
      "metadata": {
        "id": "K--rKSZcTHDN"
      },
      "execution_count": 21,
      "outputs": []
    },
    {
      "cell_type": "code",
      "source": [
        "lreg_v1.fit(X_train, y_train)"
      ],
      "metadata": {
        "id": "UIv9d2X-TaNg",
        "outputId": "de93ddb5-c387-4ca9-f606-79fcb99c43a3",
        "colab": {
          "base_uri": "https://localhost:8080/"
        }
      },
      "execution_count": 22,
      "outputs": [
        {
          "output_type": "stream",
          "name": "stdout",
          "text": [
            "[Pipeline] ...... (step 1 of 2) Processing preprocessor, total=   0.0s\n",
            "[Pipeline] ......... (step 2 of 2) Processing regressor, total=   0.0s\n"
          ]
        },
        {
          "output_type": "execute_result",
          "data": {
            "text/plain": [
              "Pipeline(steps=[('preprocessor',\n",
              "                 ColumnTransformer(remainder='passthrough',\n",
              "                                   transformers=[('cat',\n",
              "                                                  OneHotEncoder(handle_unknown='ignore'),\n",
              "                                                  ['Company', 'Month']),\n",
              "                                                 ('sc', StandardScaler(),\n",
              "                                                  ['Closing Stock Price',\n",
              "                                                   'Year', 'Oil Price', 'EPS',\n",
              "                                                   'Return on Equity Ratio',\n",
              "                                                   'Price-Equity Ratio',\n",
              "                                                   'Gross Margin',\n",
              "                                                   'Profit Margin',\n",
              "                                                   'Change in Inventory',\n",
              "                                                   'EV/Net Operating Revenue',\n",
              "                                                   'CPI',\n",
              "                                                   'Total Income From '\n",
              "                                                   'Operations'])])),\n",
              "                ('regressor', LinearRegression())],\n",
              "         verbose=True)"
            ]
          },
          "metadata": {},
          "execution_count": 22
        }
      ]
    },
    {
      "cell_type": "code",
      "source": [
        "dict(zip(all_feature_names, np.round(lreg_v1['regressor'].coef_, 2)))"
      ],
      "metadata": {
        "colab": {
          "base_uri": "https://localhost:8080/"
        },
        "id": "7_2ipKiQ6R3p",
        "outputId": "343c9cb1-4fb0-488f-cc12-2b0f2b85b775"
      },
      "execution_count": 23,
      "outputs": [
        {
          "output_type": "execute_result",
          "data": {
            "text/plain": [
              "{'Company_Britannia': -479421871781191.7,\n",
              " 'Company_CCL Products India Ltd.': -479421871781016.6,\n",
              " 'Company_Colgate Palmolive': -479421871781213.25,\n",
              " 'Company_Dabur India': -479421871781106.56,\n",
              " 'Company_Emami': -479421871781188.56,\n",
              " 'Company_Gillette India': -479421871780750.75,\n",
              " 'Company_Globus Spirits Ltd.': -479421871780921.6,\n",
              " 'Company_Godrej Consumer': -479421871781234.3,\n",
              " 'Company_HU': -479421871781038.6,\n",
              " 'Company_Hatsun Agro': -479421871781106.4,\n",
              " 'Company_Heritage Foods': -479421871780946.4,\n",
              " 'Company_ITC': -479421871781036.2,\n",
              " 'Company_Jubiliant Foodworks': -479421871781103.44,\n",
              " 'Company_Marico': -479421871781065.8,\n",
              " 'Company_Nestle': -479421871780667.4,\n",
              " 'Company_Procter and Gamble': -479421871781181.4,\n",
              " 'Company_Tasty Bite Eatables': -479421871780565.1,\n",
              " 'Company_Tata Consumer Products': -479421871780993.8,\n",
              " 'Company_United Breweries Ltd.': -479421871781121.94,\n",
              " 'Company_United Spirits Ltd': -479421871780991.5,\n",
              " 'Month_Dec': 35.68,\n",
              " 'Month_Jun': -36.06,\n",
              " 'Month_Mar': -74.86,\n",
              " 'Month_Sep': 65.34,\n",
              " 'Closing Stock Price': 1959.53,\n",
              " 'Year': 279.75,\n",
              " 'Oil Price': 15.48,\n",
              " 'EPS': 86.79,\n",
              " 'Return on Equity Ratio': 74.43,\n",
              " 'Price-Equity Ratio': -4.06,\n",
              " 'Gross Margin': 31.23,\n",
              " 'Profit Margin': 11.08,\n",
              " 'Change in Inventory': -3.04,\n",
              " 'EV/Net Operating Revenue': 62.61,\n",
              " 'CPI': -270.77,\n",
              " 'Total Income From Operations': -25.57}"
            ]
          },
          "metadata": {},
          "execution_count": 23
        }
      ]
    },
    {
      "cell_type": "markdown",
      "source": [
        "## Predict on Test Set"
      ],
      "metadata": {
        "id": "ElOu9NFl7YgL"
      }
    },
    {
      "cell_type": "code",
      "source": [
        "y_pred = lreg_v1.predict(X_test)"
      ],
      "metadata": {
        "id": "kHdfghS87Z-3"
      },
      "execution_count": 24,
      "outputs": []
    },
    {
      "cell_type": "code",
      "source": [
        "y_df = pd.DataFrame({\"actual\": y_test,\n",
        "                     \"predicted\": y_pred,\n",
        "                     \"residual\": y_pred - y_test})\n",
        "y_df.head(10)"
      ],
      "metadata": {
        "colab": {
          "base_uri": "https://localhost:8080/",
          "height": 363
        },
        "id": "XCrkKAXC7bdC",
        "outputId": "f6d5c1f5-9dab-4e6a-ae3e-1abd3573b093"
      },
      "execution_count": 25,
      "outputs": [
        {
          "output_type": "execute_result",
          "data": {
            "text/plain": [
              "     actual  predicted  residual\n",
              "0       NaN  4139.7500       NaN\n",
              "1   4109.05  4317.5625  208.5125\n",
              "2   4352.30  4819.8750  467.5750\n",
              "3   4685.15  4136.4375 -548.7125\n",
              "24      NaN   324.8750       NaN\n",
              "25   367.95   164.4375 -203.5125\n",
              "26   321.05   373.4375   52.3875\n",
              "27   276.05   375.6875   99.6375\n",
              "48      NaN   892.0000       NaN\n",
              "49   956.65  1110.3750  153.7250"
            ],
            "text/html": [
              "\n",
              "  <div id=\"df-100791a6-51dc-43b4-abc4-26d750ab4d61\">\n",
              "    <div class=\"colab-df-container\">\n",
              "      <div>\n",
              "<style scoped>\n",
              "    .dataframe tbody tr th:only-of-type {\n",
              "        vertical-align: middle;\n",
              "    }\n",
              "\n",
              "    .dataframe tbody tr th {\n",
              "        vertical-align: top;\n",
              "    }\n",
              "\n",
              "    .dataframe thead th {\n",
              "        text-align: right;\n",
              "    }\n",
              "</style>\n",
              "<table border=\"1\" class=\"dataframe\">\n",
              "  <thead>\n",
              "    <tr style=\"text-align: right;\">\n",
              "      <th></th>\n",
              "      <th>actual</th>\n",
              "      <th>predicted</th>\n",
              "      <th>residual</th>\n",
              "    </tr>\n",
              "  </thead>\n",
              "  <tbody>\n",
              "    <tr>\n",
              "      <th>0</th>\n",
              "      <td>NaN</td>\n",
              "      <td>4139.7500</td>\n",
              "      <td>NaN</td>\n",
              "    </tr>\n",
              "    <tr>\n",
              "      <th>1</th>\n",
              "      <td>4109.05</td>\n",
              "      <td>4317.5625</td>\n",
              "      <td>208.5125</td>\n",
              "    </tr>\n",
              "    <tr>\n",
              "      <th>2</th>\n",
              "      <td>4352.30</td>\n",
              "      <td>4819.8750</td>\n",
              "      <td>467.5750</td>\n",
              "    </tr>\n",
              "    <tr>\n",
              "      <th>3</th>\n",
              "      <td>4685.15</td>\n",
              "      <td>4136.4375</td>\n",
              "      <td>-548.7125</td>\n",
              "    </tr>\n",
              "    <tr>\n",
              "      <th>24</th>\n",
              "      <td>NaN</td>\n",
              "      <td>324.8750</td>\n",
              "      <td>NaN</td>\n",
              "    </tr>\n",
              "    <tr>\n",
              "      <th>25</th>\n",
              "      <td>367.95</td>\n",
              "      <td>164.4375</td>\n",
              "      <td>-203.5125</td>\n",
              "    </tr>\n",
              "    <tr>\n",
              "      <th>26</th>\n",
              "      <td>321.05</td>\n",
              "      <td>373.4375</td>\n",
              "      <td>52.3875</td>\n",
              "    </tr>\n",
              "    <tr>\n",
              "      <th>27</th>\n",
              "      <td>276.05</td>\n",
              "      <td>375.6875</td>\n",
              "      <td>99.6375</td>\n",
              "    </tr>\n",
              "    <tr>\n",
              "      <th>48</th>\n",
              "      <td>NaN</td>\n",
              "      <td>892.0000</td>\n",
              "      <td>NaN</td>\n",
              "    </tr>\n",
              "    <tr>\n",
              "      <th>49</th>\n",
              "      <td>956.65</td>\n",
              "      <td>1110.3750</td>\n",
              "      <td>153.7250</td>\n",
              "    </tr>\n",
              "  </tbody>\n",
              "</table>\n",
              "</div>\n",
              "      <button class=\"colab-df-convert\" onclick=\"convertToInteractive('df-100791a6-51dc-43b4-abc4-26d750ab4d61')\"\n",
              "              title=\"Convert this dataframe to an interactive table.\"\n",
              "              style=\"display:none;\">\n",
              "        \n",
              "  <svg xmlns=\"http://www.w3.org/2000/svg\" height=\"24px\"viewBox=\"0 0 24 24\"\n",
              "       width=\"24px\">\n",
              "    <path d=\"M0 0h24v24H0V0z\" fill=\"none\"/>\n",
              "    <path d=\"M18.56 5.44l.94 2.06.94-2.06 2.06-.94-2.06-.94-.94-2.06-.94 2.06-2.06.94zm-11 1L8.5 8.5l.94-2.06 2.06-.94-2.06-.94L8.5 2.5l-.94 2.06-2.06.94zm10 10l.94 2.06.94-2.06 2.06-.94-2.06-.94-.94-2.06-.94 2.06-2.06.94z\"/><path d=\"M17.41 7.96l-1.37-1.37c-.4-.4-.92-.59-1.43-.59-.52 0-1.04.2-1.43.59L10.3 9.45l-7.72 7.72c-.78.78-.78 2.05 0 2.83L4 21.41c.39.39.9.59 1.41.59.51 0 1.02-.2 1.41-.59l7.78-7.78 2.81-2.81c.8-.78.8-2.07 0-2.86zM5.41 20L4 18.59l7.72-7.72 1.47 1.35L5.41 20z\"/>\n",
              "  </svg>\n",
              "      </button>\n",
              "      \n",
              "  <style>\n",
              "    .colab-df-container {\n",
              "      display:flex;\n",
              "      flex-wrap:wrap;\n",
              "      gap: 12px;\n",
              "    }\n",
              "\n",
              "    .colab-df-convert {\n",
              "      background-color: #E8F0FE;\n",
              "      border: none;\n",
              "      border-radius: 50%;\n",
              "      cursor: pointer;\n",
              "      display: none;\n",
              "      fill: #1967D2;\n",
              "      height: 32px;\n",
              "      padding: 0 0 0 0;\n",
              "      width: 32px;\n",
              "    }\n",
              "\n",
              "    .colab-df-convert:hover {\n",
              "      background-color: #E2EBFA;\n",
              "      box-shadow: 0px 1px 2px rgba(60, 64, 67, 0.3), 0px 1px 3px 1px rgba(60, 64, 67, 0.15);\n",
              "      fill: #174EA6;\n",
              "    }\n",
              "\n",
              "    [theme=dark] .colab-df-convert {\n",
              "      background-color: #3B4455;\n",
              "      fill: #D2E3FC;\n",
              "    }\n",
              "\n",
              "    [theme=dark] .colab-df-convert:hover {\n",
              "      background-color: #434B5C;\n",
              "      box-shadow: 0px 1px 3px 1px rgba(0, 0, 0, 0.15);\n",
              "      filter: drop-shadow(0px 1px 2px rgba(0, 0, 0, 0.3));\n",
              "      fill: #FFFFFF;\n",
              "    }\n",
              "  </style>\n",
              "\n",
              "      <script>\n",
              "        const buttonEl =\n",
              "          document.querySelector('#df-100791a6-51dc-43b4-abc4-26d750ab4d61 button.colab-df-convert');\n",
              "        buttonEl.style.display =\n",
              "          google.colab.kernel.accessAllowed ? 'block' : 'none';\n",
              "\n",
              "        async function convertToInteractive(key) {\n",
              "          const element = document.querySelector('#df-100791a6-51dc-43b4-abc4-26d750ab4d61');\n",
              "          const dataTable =\n",
              "            await google.colab.kernel.invokeFunction('convertToInteractive',\n",
              "                                                     [key], {});\n",
              "          if (!dataTable) return;\n",
              "\n",
              "          const docLinkHtml = 'Like what you see? Visit the ' +\n",
              "            '<a target=\"_blank\" href=https://colab.research.google.com/notebooks/data_table.ipynb>data table notebook</a>'\n",
              "            + ' to learn more about interactive tables.';\n",
              "          element.innerHTML = '';\n",
              "          dataTable['output_type'] = 'display_data';\n",
              "          await google.colab.output.renderOutput(dataTable, element);\n",
              "          const docLink = document.createElement('div');\n",
              "          docLink.innerHTML = docLinkHtml;\n",
              "          element.appendChild(docLink);\n",
              "        }\n",
              "      </script>\n",
              "    </div>\n",
              "  </div>\n",
              "  "
            ]
          },
          "metadata": {},
          "execution_count": 25
        }
      ]
    },
    {
      "cell_type": "code",
      "source": [
        "y_df_cleaned = y_df.dropna()\n",
        "y_df_cleaned.head(10)"
      ],
      "metadata": {
        "colab": {
          "base_uri": "https://localhost:8080/",
          "height": 363
        },
        "id": "PRNCcmLNrljt",
        "outputId": "9f8703dd-9c10-4226-d93c-369e676c2e88"
      },
      "execution_count": 30,
      "outputs": [
        {
          "output_type": "execute_result",
          "data": {
            "text/plain": [
              "     actual  predicted  residual\n",
              "1   4109.05  4317.5625  208.5125\n",
              "2   4352.30  4819.8750  467.5750\n",
              "3   4685.15  4136.4375 -548.7125\n",
              "25   367.95   164.4375 -203.5125\n",
              "26   321.05   373.4375   52.3875\n",
              "27   276.05   375.6875   99.6375\n",
              "49   956.65  1110.3750  153.7250\n",
              "50  1272.20  1383.7500  111.5500\n",
              "51  1347.05  1425.1250   78.0750\n",
              "73   594.25   446.2500 -148.0000"
            ],
            "text/html": [
              "\n",
              "  <div id=\"df-0e92e0e3-7083-45ce-a358-997c9746b1a5\">\n",
              "    <div class=\"colab-df-container\">\n",
              "      <div>\n",
              "<style scoped>\n",
              "    .dataframe tbody tr th:only-of-type {\n",
              "        vertical-align: middle;\n",
              "    }\n",
              "\n",
              "    .dataframe tbody tr th {\n",
              "        vertical-align: top;\n",
              "    }\n",
              "\n",
              "    .dataframe thead th {\n",
              "        text-align: right;\n",
              "    }\n",
              "</style>\n",
              "<table border=\"1\" class=\"dataframe\">\n",
              "  <thead>\n",
              "    <tr style=\"text-align: right;\">\n",
              "      <th></th>\n",
              "      <th>actual</th>\n",
              "      <th>predicted</th>\n",
              "      <th>residual</th>\n",
              "    </tr>\n",
              "  </thead>\n",
              "  <tbody>\n",
              "    <tr>\n",
              "      <th>1</th>\n",
              "      <td>4109.05</td>\n",
              "      <td>4317.5625</td>\n",
              "      <td>208.5125</td>\n",
              "    </tr>\n",
              "    <tr>\n",
              "      <th>2</th>\n",
              "      <td>4352.30</td>\n",
              "      <td>4819.8750</td>\n",
              "      <td>467.5750</td>\n",
              "    </tr>\n",
              "    <tr>\n",
              "      <th>3</th>\n",
              "      <td>4685.15</td>\n",
              "      <td>4136.4375</td>\n",
              "      <td>-548.7125</td>\n",
              "    </tr>\n",
              "    <tr>\n",
              "      <th>25</th>\n",
              "      <td>367.95</td>\n",
              "      <td>164.4375</td>\n",
              "      <td>-203.5125</td>\n",
              "    </tr>\n",
              "    <tr>\n",
              "      <th>26</th>\n",
              "      <td>321.05</td>\n",
              "      <td>373.4375</td>\n",
              "      <td>52.3875</td>\n",
              "    </tr>\n",
              "    <tr>\n",
              "      <th>27</th>\n",
              "      <td>276.05</td>\n",
              "      <td>375.6875</td>\n",
              "      <td>99.6375</td>\n",
              "    </tr>\n",
              "    <tr>\n",
              "      <th>49</th>\n",
              "      <td>956.65</td>\n",
              "      <td>1110.3750</td>\n",
              "      <td>153.7250</td>\n",
              "    </tr>\n",
              "    <tr>\n",
              "      <th>50</th>\n",
              "      <td>1272.20</td>\n",
              "      <td>1383.7500</td>\n",
              "      <td>111.5500</td>\n",
              "    </tr>\n",
              "    <tr>\n",
              "      <th>51</th>\n",
              "      <td>1347.05</td>\n",
              "      <td>1425.1250</td>\n",
              "      <td>78.0750</td>\n",
              "    </tr>\n",
              "    <tr>\n",
              "      <th>73</th>\n",
              "      <td>594.25</td>\n",
              "      <td>446.2500</td>\n",
              "      <td>-148.0000</td>\n",
              "    </tr>\n",
              "  </tbody>\n",
              "</table>\n",
              "</div>\n",
              "      <button class=\"colab-df-convert\" onclick=\"convertToInteractive('df-0e92e0e3-7083-45ce-a358-997c9746b1a5')\"\n",
              "              title=\"Convert this dataframe to an interactive table.\"\n",
              "              style=\"display:none;\">\n",
              "        \n",
              "  <svg xmlns=\"http://www.w3.org/2000/svg\" height=\"24px\"viewBox=\"0 0 24 24\"\n",
              "       width=\"24px\">\n",
              "    <path d=\"M0 0h24v24H0V0z\" fill=\"none\"/>\n",
              "    <path d=\"M18.56 5.44l.94 2.06.94-2.06 2.06-.94-2.06-.94-.94-2.06-.94 2.06-2.06.94zm-11 1L8.5 8.5l.94-2.06 2.06-.94-2.06-.94L8.5 2.5l-.94 2.06-2.06.94zm10 10l.94 2.06.94-2.06 2.06-.94-2.06-.94-.94-2.06-.94 2.06-2.06.94z\"/><path d=\"M17.41 7.96l-1.37-1.37c-.4-.4-.92-.59-1.43-.59-.52 0-1.04.2-1.43.59L10.3 9.45l-7.72 7.72c-.78.78-.78 2.05 0 2.83L4 21.41c.39.39.9.59 1.41.59.51 0 1.02-.2 1.41-.59l7.78-7.78 2.81-2.81c.8-.78.8-2.07 0-2.86zM5.41 20L4 18.59l7.72-7.72 1.47 1.35L5.41 20z\"/>\n",
              "  </svg>\n",
              "      </button>\n",
              "      \n",
              "  <style>\n",
              "    .colab-df-container {\n",
              "      display:flex;\n",
              "      flex-wrap:wrap;\n",
              "      gap: 12px;\n",
              "    }\n",
              "\n",
              "    .colab-df-convert {\n",
              "      background-color: #E8F0FE;\n",
              "      border: none;\n",
              "      border-radius: 50%;\n",
              "      cursor: pointer;\n",
              "      display: none;\n",
              "      fill: #1967D2;\n",
              "      height: 32px;\n",
              "      padding: 0 0 0 0;\n",
              "      width: 32px;\n",
              "    }\n",
              "\n",
              "    .colab-df-convert:hover {\n",
              "      background-color: #E2EBFA;\n",
              "      box-shadow: 0px 1px 2px rgba(60, 64, 67, 0.3), 0px 1px 3px 1px rgba(60, 64, 67, 0.15);\n",
              "      fill: #174EA6;\n",
              "    }\n",
              "\n",
              "    [theme=dark] .colab-df-convert {\n",
              "      background-color: #3B4455;\n",
              "      fill: #D2E3FC;\n",
              "    }\n",
              "\n",
              "    [theme=dark] .colab-df-convert:hover {\n",
              "      background-color: #434B5C;\n",
              "      box-shadow: 0px 1px 3px 1px rgba(0, 0, 0, 0.15);\n",
              "      filter: drop-shadow(0px 1px 2px rgba(0, 0, 0, 0.3));\n",
              "      fill: #FFFFFF;\n",
              "    }\n",
              "  </style>\n",
              "\n",
              "      <script>\n",
              "        const buttonEl =\n",
              "          document.querySelector('#df-0e92e0e3-7083-45ce-a358-997c9746b1a5 button.colab-df-convert');\n",
              "        buttonEl.style.display =\n",
              "          google.colab.kernel.accessAllowed ? 'block' : 'none';\n",
              "\n",
              "        async function convertToInteractive(key) {\n",
              "          const element = document.querySelector('#df-0e92e0e3-7083-45ce-a358-997c9746b1a5');\n",
              "          const dataTable =\n",
              "            await google.colab.kernel.invokeFunction('convertToInteractive',\n",
              "                                                     [key], {});\n",
              "          if (!dataTable) return;\n",
              "\n",
              "          const docLinkHtml = 'Like what you see? Visit the ' +\n",
              "            '<a target=\"_blank\" href=https://colab.research.google.com/notebooks/data_table.ipynb>data table notebook</a>'\n",
              "            + ' to learn more about interactive tables.';\n",
              "          element.innerHTML = '';\n",
              "          dataTable['output_type'] = 'display_data';\n",
              "          await google.colab.output.renderOutput(dataTable, element);\n",
              "          const docLink = document.createElement('div');\n",
              "          docLink.innerHTML = docLinkHtml;\n",
              "          element.appendChild(docLink);\n",
              "        }\n",
              "      </script>\n",
              "    </div>\n",
              "  </div>\n",
              "  "
            ]
          },
          "metadata": {},
          "execution_count": 30
        }
      ]
    },
    {
      "cell_type": "markdown",
      "metadata": {
        "id": "yGfPiDFdbNsF"
      },
      "source": [
        "### Measuring Accuracy"
      ]
    },
    {
      "cell_type": "code",
      "execution_count": 26,
      "metadata": {
        "id": "RnAtUQZAbNsF"
      },
      "outputs": [],
      "source": [
        "from sklearn.metrics import mean_squared_error, r2_score"
      ]
    },
    {
      "cell_type": "code",
      "execution_count": 31,
      "metadata": {
        "id": "sdXW26s2bNsF"
      },
      "outputs": [],
      "source": [
        "mse_v1 = mean_squared_error(y_df_cleaned.actual, y_df_cleaned.predicted)"
      ]
    },
    {
      "cell_type": "code",
      "execution_count": 32,
      "metadata": {
        "id": "ih-objc5bNsF",
        "outputId": "99ad4e06-6d3b-4226-8a8d-ecc84d4c384f",
        "colab": {
          "base_uri": "https://localhost:8080/"
        }
      },
      "outputs": [
        {
          "output_type": "execute_result",
          "data": {
            "text/plain": [
              "376648.60453281243"
            ]
          },
          "metadata": {},
          "execution_count": 32
        }
      ],
      "source": [
        "mse_v1"
      ]
    },
    {
      "cell_type": "code",
      "execution_count": 33,
      "metadata": {
        "id": "rU4lRsJjbNsF"
      },
      "outputs": [],
      "source": [
        "rmse_v1 = np.sqrt(mse_v1)"
      ]
    },
    {
      "cell_type": "code",
      "execution_count": 34,
      "metadata": {
        "id": "TvNKGzc2bNsG",
        "outputId": "3bb3a030-841b-4074-bcce-d369e0ebc18a",
        "colab": {
          "base_uri": "https://localhost:8080/"
        }
      },
      "outputs": [
        {
          "output_type": "execute_result",
          "data": {
            "text/plain": [
              "613.7170394675485"
            ]
          },
          "metadata": {},
          "execution_count": 34
        }
      ],
      "source": [
        "rmse_v1"
      ]
    },
    {
      "cell_type": "code",
      "execution_count": 35,
      "metadata": {
        "id": "lkb5u5rLbNsG",
        "outputId": "fe81b250-32d3-4b37-d583-58221368d0d3",
        "colab": {
          "base_uri": "https://localhost:8080/"
        }
      },
      "outputs": [
        {
          "output_type": "execute_result",
          "data": {
            "text/plain": [
              "0.9744528429707823"
            ]
          },
          "metadata": {},
          "execution_count": 35
        }
      ],
      "source": [
        "r2_score(y_df_cleaned.actual, y_df_cleaned.predicted)"
      ]
    },
    {
      "cell_type": "markdown",
      "source": [
        "## Error Analysis"
      ],
      "metadata": {
        "id": "ogqm6R267-Pw"
      }
    },
    {
      "cell_type": "code",
      "execution_count": 36,
      "metadata": {
        "id": "hREOv6vUbNsH"
      },
      "outputs": [],
      "source": [
        "test_df = y_df.join(X_test)"
      ]
    },
    {
      "cell_type": "code",
      "execution_count": 37,
      "metadata": {
        "id": "RC85kzNBbNsH",
        "outputId": "31ae981c-b48f-4fea-9ba2-5e082e69fde9",
        "colab": {
          "base_uri": "https://localhost:8080/",
          "height": 409
        }
      },
      "outputs": [
        {
          "output_type": "execute_result",
          "data": {
            "text/plain": [
              "     actual  predicted  residual              Company  Oil Price  \\\n",
              "168     NaN    77.3750       NaN  Globus Spirits Ltd.    2392.98   \n",
              "339  394.10   374.7500  -19.3500               Marico    4149.67   \n",
              "99   384.15   456.3125   72.1625       Heritage Foods    4149.67   \n",
              "192     NaN   349.0000       NaN          Hatsun Agro    2392.98   \n",
              "456     NaN   249.9375       NaN  Jubiliant Foodworks    2392.98   \n",
              "\n",
              "     Total Income From Operations  Return on Equity Ratio  Price-Equity Ratio  \\\n",
              "168                        269.54                    9.36               12.56   \n",
              "339                       1777.00                   13.78              189.87   \n",
              "99                         747.18                   32.21               86.72   \n",
              "192                       1266.38                   78.32              786.68   \n",
              "456                        897.85                    6.80              208.62   \n",
              "\n",
              "     Gross Margin  Profit Margin   EPS  EV/Net Operating Revenue  \\\n",
              "168          0.35           0.08  7.48                      1.34   \n",
              "339          0.55           0.16  1.95                     19.97   \n",
              "99           0.25           0.03  4.68                      1.58   \n",
              "192          0.31           0.01  0.50                      7.22   \n",
              "456          0.75           0.10  1.59                     20.90   \n",
              "\n",
              "     Change in Inventory    CPI  Closing Stock Price Month  Year  \n",
              "168               -18.43  148.6                93.95   Mar    20  \n",
              "339               197.00  142.9               370.25   Jun    19  \n",
              "99                 11.47  142.9               405.85   Jun    19  \n",
              "192                39.88  148.6               393.34   Mar    20  \n",
              "456                 1.31  148.6               331.70   Mar    20  "
            ],
            "text/html": [
              "\n",
              "  <div id=\"df-49669d72-0318-442a-9a97-d3c7505a4c8c\">\n",
              "    <div class=\"colab-df-container\">\n",
              "      <div>\n",
              "<style scoped>\n",
              "    .dataframe tbody tr th:only-of-type {\n",
              "        vertical-align: middle;\n",
              "    }\n",
              "\n",
              "    .dataframe tbody tr th {\n",
              "        vertical-align: top;\n",
              "    }\n",
              "\n",
              "    .dataframe thead th {\n",
              "        text-align: right;\n",
              "    }\n",
              "</style>\n",
              "<table border=\"1\" class=\"dataframe\">\n",
              "  <thead>\n",
              "    <tr style=\"text-align: right;\">\n",
              "      <th></th>\n",
              "      <th>actual</th>\n",
              "      <th>predicted</th>\n",
              "      <th>residual</th>\n",
              "      <th>Company</th>\n",
              "      <th>Oil Price</th>\n",
              "      <th>Total Income From Operations</th>\n",
              "      <th>Return on Equity Ratio</th>\n",
              "      <th>Price-Equity Ratio</th>\n",
              "      <th>Gross Margin</th>\n",
              "      <th>Profit Margin</th>\n",
              "      <th>EPS</th>\n",
              "      <th>EV/Net Operating Revenue</th>\n",
              "      <th>Change in Inventory</th>\n",
              "      <th>CPI</th>\n",
              "      <th>Closing Stock Price</th>\n",
              "      <th>Month</th>\n",
              "      <th>Year</th>\n",
              "    </tr>\n",
              "  </thead>\n",
              "  <tbody>\n",
              "    <tr>\n",
              "      <th>168</th>\n",
              "      <td>NaN</td>\n",
              "      <td>77.3750</td>\n",
              "      <td>NaN</td>\n",
              "      <td>Globus Spirits Ltd.</td>\n",
              "      <td>2392.98</td>\n",
              "      <td>269.54</td>\n",
              "      <td>9.36</td>\n",
              "      <td>12.56</td>\n",
              "      <td>0.35</td>\n",
              "      <td>0.08</td>\n",
              "      <td>7.48</td>\n",
              "      <td>1.34</td>\n",
              "      <td>-18.43</td>\n",
              "      <td>148.6</td>\n",
              "      <td>93.95</td>\n",
              "      <td>Mar</td>\n",
              "      <td>20</td>\n",
              "    </tr>\n",
              "    <tr>\n",
              "      <th>339</th>\n",
              "      <td>394.10</td>\n",
              "      <td>374.7500</td>\n",
              "      <td>-19.3500</td>\n",
              "      <td>Marico</td>\n",
              "      <td>4149.67</td>\n",
              "      <td>1777.00</td>\n",
              "      <td>13.78</td>\n",
              "      <td>189.87</td>\n",
              "      <td>0.55</td>\n",
              "      <td>0.16</td>\n",
              "      <td>1.95</td>\n",
              "      <td>19.97</td>\n",
              "      <td>197.00</td>\n",
              "      <td>142.9</td>\n",
              "      <td>370.25</td>\n",
              "      <td>Jun</td>\n",
              "      <td>19</td>\n",
              "    </tr>\n",
              "    <tr>\n",
              "      <th>99</th>\n",
              "      <td>384.15</td>\n",
              "      <td>456.3125</td>\n",
              "      <td>72.1625</td>\n",
              "      <td>Heritage Foods</td>\n",
              "      <td>4149.67</td>\n",
              "      <td>747.18</td>\n",
              "      <td>32.21</td>\n",
              "      <td>86.72</td>\n",
              "      <td>0.25</td>\n",
              "      <td>0.03</td>\n",
              "      <td>4.68</td>\n",
              "      <td>1.58</td>\n",
              "      <td>11.47</td>\n",
              "      <td>142.9</td>\n",
              "      <td>405.85</td>\n",
              "      <td>Jun</td>\n",
              "      <td>19</td>\n",
              "    </tr>\n",
              "    <tr>\n",
              "      <th>192</th>\n",
              "      <td>NaN</td>\n",
              "      <td>349.0000</td>\n",
              "      <td>NaN</td>\n",
              "      <td>Hatsun Agro</td>\n",
              "      <td>2392.98</td>\n",
              "      <td>1266.38</td>\n",
              "      <td>78.32</td>\n",
              "      <td>786.68</td>\n",
              "      <td>0.31</td>\n",
              "      <td>0.01</td>\n",
              "      <td>0.50</td>\n",
              "      <td>7.22</td>\n",
              "      <td>39.88</td>\n",
              "      <td>148.6</td>\n",
              "      <td>393.34</td>\n",
              "      <td>Mar</td>\n",
              "      <td>20</td>\n",
              "    </tr>\n",
              "    <tr>\n",
              "      <th>456</th>\n",
              "      <td>NaN</td>\n",
              "      <td>249.9375</td>\n",
              "      <td>NaN</td>\n",
              "      <td>Jubiliant Foodworks</td>\n",
              "      <td>2392.98</td>\n",
              "      <td>897.85</td>\n",
              "      <td>6.80</td>\n",
              "      <td>208.62</td>\n",
              "      <td>0.75</td>\n",
              "      <td>0.10</td>\n",
              "      <td>1.59</td>\n",
              "      <td>20.90</td>\n",
              "      <td>1.31</td>\n",
              "      <td>148.6</td>\n",
              "      <td>331.70</td>\n",
              "      <td>Mar</td>\n",
              "      <td>20</td>\n",
              "    </tr>\n",
              "  </tbody>\n",
              "</table>\n",
              "</div>\n",
              "      <button class=\"colab-df-convert\" onclick=\"convertToInteractive('df-49669d72-0318-442a-9a97-d3c7505a4c8c')\"\n",
              "              title=\"Convert this dataframe to an interactive table.\"\n",
              "              style=\"display:none;\">\n",
              "        \n",
              "  <svg xmlns=\"http://www.w3.org/2000/svg\" height=\"24px\"viewBox=\"0 0 24 24\"\n",
              "       width=\"24px\">\n",
              "    <path d=\"M0 0h24v24H0V0z\" fill=\"none\"/>\n",
              "    <path d=\"M18.56 5.44l.94 2.06.94-2.06 2.06-.94-2.06-.94-.94-2.06-.94 2.06-2.06.94zm-11 1L8.5 8.5l.94-2.06 2.06-.94-2.06-.94L8.5 2.5l-.94 2.06-2.06.94zm10 10l.94 2.06.94-2.06 2.06-.94-2.06-.94-.94-2.06-.94 2.06-2.06.94z\"/><path d=\"M17.41 7.96l-1.37-1.37c-.4-.4-.92-.59-1.43-.59-.52 0-1.04.2-1.43.59L10.3 9.45l-7.72 7.72c-.78.78-.78 2.05 0 2.83L4 21.41c.39.39.9.59 1.41.59.51 0 1.02-.2 1.41-.59l7.78-7.78 2.81-2.81c.8-.78.8-2.07 0-2.86zM5.41 20L4 18.59l7.72-7.72 1.47 1.35L5.41 20z\"/>\n",
              "  </svg>\n",
              "      </button>\n",
              "      \n",
              "  <style>\n",
              "    .colab-df-container {\n",
              "      display:flex;\n",
              "      flex-wrap:wrap;\n",
              "      gap: 12px;\n",
              "    }\n",
              "\n",
              "    .colab-df-convert {\n",
              "      background-color: #E8F0FE;\n",
              "      border: none;\n",
              "      border-radius: 50%;\n",
              "      cursor: pointer;\n",
              "      display: none;\n",
              "      fill: #1967D2;\n",
              "      height: 32px;\n",
              "      padding: 0 0 0 0;\n",
              "      width: 32px;\n",
              "    }\n",
              "\n",
              "    .colab-df-convert:hover {\n",
              "      background-color: #E2EBFA;\n",
              "      box-shadow: 0px 1px 2px rgba(60, 64, 67, 0.3), 0px 1px 3px 1px rgba(60, 64, 67, 0.15);\n",
              "      fill: #174EA6;\n",
              "    }\n",
              "\n",
              "    [theme=dark] .colab-df-convert {\n",
              "      background-color: #3B4455;\n",
              "      fill: #D2E3FC;\n",
              "    }\n",
              "\n",
              "    [theme=dark] .colab-df-convert:hover {\n",
              "      background-color: #434B5C;\n",
              "      box-shadow: 0px 1px 3px 1px rgba(0, 0, 0, 0.15);\n",
              "      filter: drop-shadow(0px 1px 2px rgba(0, 0, 0, 0.3));\n",
              "      fill: #FFFFFF;\n",
              "    }\n",
              "  </style>\n",
              "\n",
              "      <script>\n",
              "        const buttonEl =\n",
              "          document.querySelector('#df-49669d72-0318-442a-9a97-d3c7505a4c8c button.colab-df-convert');\n",
              "        buttonEl.style.display =\n",
              "          google.colab.kernel.accessAllowed ? 'block' : 'none';\n",
              "\n",
              "        async function convertToInteractive(key) {\n",
              "          const element = document.querySelector('#df-49669d72-0318-442a-9a97-d3c7505a4c8c');\n",
              "          const dataTable =\n",
              "            await google.colab.kernel.invokeFunction('convertToInteractive',\n",
              "                                                     [key], {});\n",
              "          if (!dataTable) return;\n",
              "\n",
              "          const docLinkHtml = 'Like what you see? Visit the ' +\n",
              "            '<a target=\"_blank\" href=https://colab.research.google.com/notebooks/data_table.ipynb>data table notebook</a>'\n",
              "            + ' to learn more about interactive tables.';\n",
              "          element.innerHTML = '';\n",
              "          dataTable['output_type'] = 'display_data';\n",
              "          await google.colab.output.renderOutput(dataTable, element);\n",
              "          const docLink = document.createElement('div');\n",
              "          docLink.innerHTML = docLinkHtml;\n",
              "          element.appendChild(docLink);\n",
              "        }\n",
              "      </script>\n",
              "    </div>\n",
              "  </div>\n",
              "  "
            ]
          },
          "metadata": {},
          "execution_count": 37
        }
      ],
      "source": [
        "test_df.sample(5)"
      ]
    },
    {
      "cell_type": "code",
      "execution_count": 38,
      "metadata": {
        "id": "baUldiJgbNsH",
        "outputId": "8d413887-0dbe-4b57-dbda-d7e6798f08cd",
        "colab": {
          "base_uri": "https://localhost:8080/",
          "height": 388
        }
      },
      "outputs": [
        {
          "output_type": "display_data",
          "data": {
            "text/plain": [
              "<Figure size 1080x432 with 1 Axes>"
            ],
            "image/png": "[encoded data removed]"
          },
          "metadata": {
            "needs_background": "light"
          }
        }
      ],
      "source": [
        "import matplotlib.pyplot as plt\n",
        "import seaborn as sn\n",
        "plt.figure(figsize=(15, 6))\n",
        "sn.boxplot(data = test_df, x = 'residual', y = 'Company');"
      ]
    },
    {
      "cell_type": "markdown",
      "metadata": {
        "id": "63EFafOWbNsH"
      },
      "source": [
        "### Saving the model"
      ]
    },
    {
      "cell_type": "code",
      "execution_count": null,
      "metadata": {
        "id": "LlzE_Ps9bNsH"
      },
      "outputs": [],
      "source": [
        "class StockPredictionModel():\n",
        "    \n",
        "    def __init__(self, model, features, rmse):\n",
        "        self.model = model\n",
        "        self.features = features\n",
        "        self.rmse = rmse"
      ]
    },
    {
      "cell_type": "code",
      "execution_count": null,
      "metadata": {
        "id": "B0iIF672bNsI"
      },
      "outputs": [],
      "source": [
        "my_model = StockPredictionModel(lreg_v1, list(X_train.columns), rmse_v1)"
      ]
    },
    {
      "cell_type": "code",
      "execution_count": null,
      "metadata": {
        "id": "WhXifYEkbNsI"
      },
      "outputs": [],
      "source": [
        "# Uncomment this code for older version of sklearn\n",
        "#from sklearn.externals import joblib\n",
        "#joblib.dump(my_model, './cars.pkl')"
      ]
    },
    {
      "cell_type": "code",
      "execution_count": null,
      "metadata": {
        "id": "MMivoHsBbNsI"
      },
      "outputs": [],
      "source": [
        "from joblib import dump"
      ]
    },
    {
      "cell_type": "code",
      "execution_count": null,
      "metadata": {
        "id": "AZoOGBTFbNsI",
        "outputId": "1eebe19e-b0c7-455a-ec09-ebaa6105acfa",
        "colab": {
          "base_uri": "https://localhost:8080/"
        }
      },
      "outputs": [
        {
          "output_type": "execute_result",
          "data": {
            "text/plain": [
              "['./stockprice.pkl']"
            ]
          },
          "metadata": {},
          "execution_count": 34
        }
      ],
      "source": [
        "dump(my_model, './stockprice.pkl')"
      ]
    }
  ]
}